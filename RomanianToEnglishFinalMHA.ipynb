{
  "nbformat": 4,
  "nbformat_minor": 0,
  "metadata": {
    "colab": {
      "provenance": [],
      "gpuType": "T4",
      "machine_shape": "hm"
    },
    "kernelspec": {
      "name": "python3",
      "display_name": "Python 3"
    },
    "language_info": {
      "name": "python"
    },
    "accelerator": "GPU",
    "widgets": {
      "application/vnd.jupyter.widget-state+json": {
        "6480e76dcecf47baa52e36d89ba1e833": {
          "model_module": "@jupyter-widgets/controls",
          "model_name": "HBoxModel",
          "model_module_version": "1.5.0",
          "state": {
            "_dom_classes": [],
            "_model_module": "@jupyter-widgets/controls",
            "_model_module_version": "1.5.0",
            "_model_name": "HBoxModel",
            "_view_count": null,
            "_view_module": "@jupyter-widgets/controls",
            "_view_module_version": "1.5.0",
            "_view_name": "HBoxView",
            "box_style": "",
            "children": [
              "IPY_MODEL_f3cfb939e96248f99a6a7c0b24be7635",
              "IPY_MODEL_e1cb673bcc6445298706350de3ad00bd",
              "IPY_MODEL_787d36ff1ec54d319239c75d391c29e8"
            ],
            "layout": "IPY_MODEL_e3e7a8dcc81b4c35b9dd5acfce8ea265"
          }
        },
        "f3cfb939e96248f99a6a7c0b24be7635": {
          "model_module": "@jupyter-widgets/controls",
          "model_name": "HTMLModel",
          "model_module_version": "1.5.0",
          "state": {
            "_dom_classes": [],
            "_model_module": "@jupyter-widgets/controls",
            "_model_module_version": "1.5.0",
            "_model_name": "HTMLModel",
            "_view_count": null,
            "_view_module": "@jupyter-widgets/controls",
            "_view_module_version": "1.5.0",
            "_view_name": "HTMLView",
            "description": "",
            "description_tooltip": null,
            "layout": "IPY_MODEL_5b9920b107594bd4883940e2ea992954",
            "placeholder": "​",
            "style": "IPY_MODEL_1aafc4d1ebca4537ba632843d0b94396",
            "value": "config.json: 100%"
          }
        },
        "e1cb673bcc6445298706350de3ad00bd": {
          "model_module": "@jupyter-widgets/controls",
          "model_name": "FloatProgressModel",
          "model_module_version": "1.5.0",
          "state": {
            "_dom_classes": [],
            "_model_module": "@jupyter-widgets/controls",
            "_model_module_version": "1.5.0",
            "_model_name": "FloatProgressModel",
            "_view_count": null,
            "_view_module": "@jupyter-widgets/controls",
            "_view_module_version": "1.5.0",
            "_view_name": "ProgressView",
            "bar_style": "success",
            "description": "",
            "description_tooltip": null,
            "layout": "IPY_MODEL_10463ebf65694c42be9cfc2b605f9749",
            "max": 482,
            "min": 0,
            "orientation": "horizontal",
            "style": "IPY_MODEL_e38901106f2645ea986bbf1173e25963",
            "value": 482
          }
        },
        "787d36ff1ec54d319239c75d391c29e8": {
          "model_module": "@jupyter-widgets/controls",
          "model_name": "HTMLModel",
          "model_module_version": "1.5.0",
          "state": {
            "_dom_classes": [],
            "_model_module": "@jupyter-widgets/controls",
            "_model_module_version": "1.5.0",
            "_model_name": "HTMLModel",
            "_view_count": null,
            "_view_module": "@jupyter-widgets/controls",
            "_view_module_version": "1.5.0",
            "_view_name": "HTMLView",
            "description": "",
            "description_tooltip": null,
            "layout": "IPY_MODEL_e781710f1a904ea885b0bc445fd5d9f6",
            "placeholder": "​",
            "style": "IPY_MODEL_82f1ba14b2f24c13a5193ea80b84bfad",
            "value": " 482/482 [00:00&lt;00:00, 40.9kB/s]"
          }
        },
        "e3e7a8dcc81b4c35b9dd5acfce8ea265": {
          "model_module": "@jupyter-widgets/base",
          "model_name": "LayoutModel",
          "model_module_version": "1.2.0",
          "state": {
            "_model_module": "@jupyter-widgets/base",
            "_model_module_version": "1.2.0",
            "_model_name": "LayoutModel",
            "_view_count": null,
            "_view_module": "@jupyter-widgets/base",
            "_view_module_version": "1.2.0",
            "_view_name": "LayoutView",
            "align_content": null,
            "align_items": null,
            "align_self": null,
            "border": null,
            "bottom": null,
            "display": null,
            "flex": null,
            "flex_flow": null,
            "grid_area": null,
            "grid_auto_columns": null,
            "grid_auto_flow": null,
            "grid_auto_rows": null,
            "grid_column": null,
            "grid_gap": null,
            "grid_row": null,
            "grid_template_areas": null,
            "grid_template_columns": null,
            "grid_template_rows": null,
            "height": null,
            "justify_content": null,
            "justify_items": null,
            "left": null,
            "margin": null,
            "max_height": null,
            "max_width": null,
            "min_height": null,
            "min_width": null,
            "object_fit": null,
            "object_position": null,
            "order": null,
            "overflow": null,
            "overflow_x": null,
            "overflow_y": null,
            "padding": null,
            "right": null,
            "top": null,
            "visibility": null,
            "width": null
          }
        },
        "5b9920b107594bd4883940e2ea992954": {
          "model_module": "@jupyter-widgets/base",
          "model_name": "LayoutModel",
          "model_module_version": "1.2.0",
          "state": {
            "_model_module": "@jupyter-widgets/base",
            "_model_module_version": "1.2.0",
            "_model_name": "LayoutModel",
            "_view_count": null,
            "_view_module": "@jupyter-widgets/base",
            "_view_module_version": "1.2.0",
            "_view_name": "LayoutView",
            "align_content": null,
            "align_items": null,
            "align_self": null,
            "border": null,
            "bottom": null,
            "display": null,
            "flex": null,
            "flex_flow": null,
            "grid_area": null,
            "grid_auto_columns": null,
            "grid_auto_flow": null,
            "grid_auto_rows": null,
            "grid_column": null,
            "grid_gap": null,
            "grid_row": null,
            "grid_template_areas": null,
            "grid_template_columns": null,
            "grid_template_rows": null,
            "height": null,
            "justify_content": null,
            "justify_items": null,
            "left": null,
            "margin": null,
            "max_height": null,
            "max_width": null,
            "min_height": null,
            "min_width": null,
            "object_fit": null,
            "object_position": null,
            "order": null,
            "overflow": null,
            "overflow_x": null,
            "overflow_y": null,
            "padding": null,
            "right": null,
            "top": null,
            "visibility": null,
            "width": null
          }
        },
        "1aafc4d1ebca4537ba632843d0b94396": {
          "model_module": "@jupyter-widgets/controls",
          "model_name": "DescriptionStyleModel",
          "model_module_version": "1.5.0",
          "state": {
            "_model_module": "@jupyter-widgets/controls",
            "_model_module_version": "1.5.0",
            "_model_name": "DescriptionStyleModel",
            "_view_count": null,
            "_view_module": "@jupyter-widgets/base",
            "_view_module_version": "1.2.0",
            "_view_name": "StyleView",
            "description_width": ""
          }
        },
        "10463ebf65694c42be9cfc2b605f9749": {
          "model_module": "@jupyter-widgets/base",
          "model_name": "LayoutModel",
          "model_module_version": "1.2.0",
          "state": {
            "_model_module": "@jupyter-widgets/base",
            "_model_module_version": "1.2.0",
            "_model_name": "LayoutModel",
            "_view_count": null,
            "_view_module": "@jupyter-widgets/base",
            "_view_module_version": "1.2.0",
            "_view_name": "LayoutView",
            "align_content": null,
            "align_items": null,
            "align_self": null,
            "border": null,
            "bottom": null,
            "display": null,
            "flex": null,
            "flex_flow": null,
            "grid_area": null,
            "grid_auto_columns": null,
            "grid_auto_flow": null,
            "grid_auto_rows": null,
            "grid_column": null,
            "grid_gap": null,
            "grid_row": null,
            "grid_template_areas": null,
            "grid_template_columns": null,
            "grid_template_rows": null,
            "height": null,
            "justify_content": null,
            "justify_items": null,
            "left": null,
            "margin": null,
            "max_height": null,
            "max_width": null,
            "min_height": null,
            "min_width": null,
            "object_fit": null,
            "object_position": null,
            "order": null,
            "overflow": null,
            "overflow_x": null,
            "overflow_y": null,
            "padding": null,
            "right": null,
            "top": null,
            "visibility": null,
            "width": null
          }
        },
        "e38901106f2645ea986bbf1173e25963": {
          "model_module": "@jupyter-widgets/controls",
          "model_name": "ProgressStyleModel",
          "model_module_version": "1.5.0",
          "state": {
            "_model_module": "@jupyter-widgets/controls",
            "_model_module_version": "1.5.0",
            "_model_name": "ProgressStyleModel",
            "_view_count": null,
            "_view_module": "@jupyter-widgets/base",
            "_view_module_version": "1.2.0",
            "_view_name": "StyleView",
            "bar_color": null,
            "description_width": ""
          }
        },
        "e781710f1a904ea885b0bc445fd5d9f6": {
          "model_module": "@jupyter-widgets/base",
          "model_name": "LayoutModel",
          "model_module_version": "1.2.0",
          "state": {
            "_model_module": "@jupyter-widgets/base",
            "_model_module_version": "1.2.0",
            "_model_name": "LayoutModel",
            "_view_count": null,
            "_view_module": "@jupyter-widgets/base",
            "_view_module_version": "1.2.0",
            "_view_name": "LayoutView",
            "align_content": null,
            "align_items": null,
            "align_self": null,
            "border": null,
            "bottom": null,
            "display": null,
            "flex": null,
            "flex_flow": null,
            "grid_area": null,
            "grid_auto_columns": null,
            "grid_auto_flow": null,
            "grid_auto_rows": null,
            "grid_column": null,
            "grid_gap": null,
            "grid_row": null,
            "grid_template_areas": null,
            "grid_template_columns": null,
            "grid_template_rows": null,
            "height": null,
            "justify_content": null,
            "justify_items": null,
            "left": null,
            "margin": null,
            "max_height": null,
            "max_width": null,
            "min_height": null,
            "min_width": null,
            "object_fit": null,
            "object_position": null,
            "order": null,
            "overflow": null,
            "overflow_x": null,
            "overflow_y": null,
            "padding": null,
            "right": null,
            "top": null,
            "visibility": null,
            "width": null
          }
        },
        "82f1ba14b2f24c13a5193ea80b84bfad": {
          "model_module": "@jupyter-widgets/controls",
          "model_name": "DescriptionStyleModel",
          "model_module_version": "1.5.0",
          "state": {
            "_model_module": "@jupyter-widgets/controls",
            "_model_module_version": "1.5.0",
            "_model_name": "DescriptionStyleModel",
            "_view_count": null,
            "_view_module": "@jupyter-widgets/base",
            "_view_module_version": "1.2.0",
            "_view_name": "StyleView",
            "description_width": ""
          }
        },
        "d5d043e4c9ab413680b78d1550fa0740": {
          "model_module": "@jupyter-widgets/controls",
          "model_name": "HBoxModel",
          "model_module_version": "1.5.0",
          "state": {
            "_dom_classes": [],
            "_model_module": "@jupyter-widgets/controls",
            "_model_module_version": "1.5.0",
            "_model_name": "HBoxModel",
            "_view_count": null,
            "_view_module": "@jupyter-widgets/controls",
            "_view_module_version": "1.5.0",
            "_view_name": "HBoxView",
            "box_style": "",
            "children": [
              "IPY_MODEL_e7c39086578e4d7bacc1121b98ec4174",
              "IPY_MODEL_9ffffc895e294427bcfeef1700f53ffb",
              "IPY_MODEL_f9cb5583494b4bc8b6bc8940596343ce"
            ],
            "layout": "IPY_MODEL_6a8adf3de4bc4bfcb9b99a815fa8ade9"
          }
        },
        "e7c39086578e4d7bacc1121b98ec4174": {
          "model_module": "@jupyter-widgets/controls",
          "model_name": "HTMLModel",
          "model_module_version": "1.5.0",
          "state": {
            "_dom_classes": [],
            "_model_module": "@jupyter-widgets/controls",
            "_model_module_version": "1.5.0",
            "_model_name": "HTMLModel",
            "_view_count": null,
            "_view_module": "@jupyter-widgets/controls",
            "_view_module_version": "1.5.0",
            "_view_name": "HTMLView",
            "description": "",
            "description_tooltip": null,
            "layout": "IPY_MODEL_d5eb3a7ac6bb4c03a7c00a280034c8f8",
            "placeholder": "​",
            "style": "IPY_MODEL_2461a1e062034451a785f8592dd91701",
            "value": "vocab.json: 100%"
          }
        },
        "9ffffc895e294427bcfeef1700f53ffb": {
          "model_module": "@jupyter-widgets/controls",
          "model_name": "FloatProgressModel",
          "model_module_version": "1.5.0",
          "state": {
            "_dom_classes": [],
            "_model_module": "@jupyter-widgets/controls",
            "_model_module_version": "1.5.0",
            "_model_name": "FloatProgressModel",
            "_view_count": null,
            "_view_module": "@jupyter-widgets/controls",
            "_view_module_version": "1.5.0",
            "_view_name": "ProgressView",
            "bar_style": "success",
            "description": "",
            "description_tooltip": null,
            "layout": "IPY_MODEL_25fa03a5894744139a55304b08267f97",
            "max": 898823,
            "min": 0,
            "orientation": "horizontal",
            "style": "IPY_MODEL_4bfd6a8882b941ceba7822cd5c3cfb72",
            "value": 898823
          }
        },
        "f9cb5583494b4bc8b6bc8940596343ce": {
          "model_module": "@jupyter-widgets/controls",
          "model_name": "HTMLModel",
          "model_module_version": "1.5.0",
          "state": {
            "_dom_classes": [],
            "_model_module": "@jupyter-widgets/controls",
            "_model_module_version": "1.5.0",
            "_model_name": "HTMLModel",
            "_view_count": null,
            "_view_module": "@jupyter-widgets/controls",
            "_view_module_version": "1.5.0",
            "_view_name": "HTMLView",
            "description": "",
            "description_tooltip": null,
            "layout": "IPY_MODEL_5e7469d8cefc4ef394807ab0e268136c",
            "placeholder": "​",
            "style": "IPY_MODEL_90dc07cbd69c44218f3e526ed195a447",
            "value": " 899k/899k [00:00&lt;00:00, 1.45MB/s]"
          }
        },
        "6a8adf3de4bc4bfcb9b99a815fa8ade9": {
          "model_module": "@jupyter-widgets/base",
          "model_name": "LayoutModel",
          "model_module_version": "1.2.0",
          "state": {
            "_model_module": "@jupyter-widgets/base",
            "_model_module_version": "1.2.0",
            "_model_name": "LayoutModel",
            "_view_count": null,
            "_view_module": "@jupyter-widgets/base",
            "_view_module_version": "1.2.0",
            "_view_name": "LayoutView",
            "align_content": null,
            "align_items": null,
            "align_self": null,
            "border": null,
            "bottom": null,
            "display": null,
            "flex": null,
            "flex_flow": null,
            "grid_area": null,
            "grid_auto_columns": null,
            "grid_auto_flow": null,
            "grid_auto_rows": null,
            "grid_column": null,
            "grid_gap": null,
            "grid_row": null,
            "grid_template_areas": null,
            "grid_template_columns": null,
            "grid_template_rows": null,
            "height": null,
            "justify_content": null,
            "justify_items": null,
            "left": null,
            "margin": null,
            "max_height": null,
            "max_width": null,
            "min_height": null,
            "min_width": null,
            "object_fit": null,
            "object_position": null,
            "order": null,
            "overflow": null,
            "overflow_x": null,
            "overflow_y": null,
            "padding": null,
            "right": null,
            "top": null,
            "visibility": null,
            "width": null
          }
        },
        "d5eb3a7ac6bb4c03a7c00a280034c8f8": {
          "model_module": "@jupyter-widgets/base",
          "model_name": "LayoutModel",
          "model_module_version": "1.2.0",
          "state": {
            "_model_module": "@jupyter-widgets/base",
            "_model_module_version": "1.2.0",
            "_model_name": "LayoutModel",
            "_view_count": null,
            "_view_module": "@jupyter-widgets/base",
            "_view_module_version": "1.2.0",
            "_view_name": "LayoutView",
            "align_content": null,
            "align_items": null,
            "align_self": null,
            "border": null,
            "bottom": null,
            "display": null,
            "flex": null,
            "flex_flow": null,
            "grid_area": null,
            "grid_auto_columns": null,
            "grid_auto_flow": null,
            "grid_auto_rows": null,
            "grid_column": null,
            "grid_gap": null,
            "grid_row": null,
            "grid_template_areas": null,
            "grid_template_columns": null,
            "grid_template_rows": null,
            "height": null,
            "justify_content": null,
            "justify_items": null,
            "left": null,
            "margin": null,
            "max_height": null,
            "max_width": null,
            "min_height": null,
            "min_width": null,
            "object_fit": null,
            "object_position": null,
            "order": null,
            "overflow": null,
            "overflow_x": null,
            "overflow_y": null,
            "padding": null,
            "right": null,
            "top": null,
            "visibility": null,
            "width": null
          }
        },
        "2461a1e062034451a785f8592dd91701": {
          "model_module": "@jupyter-widgets/controls",
          "model_name": "DescriptionStyleModel",
          "model_module_version": "1.5.0",
          "state": {
            "_model_module": "@jupyter-widgets/controls",
            "_model_module_version": "1.5.0",
            "_model_name": "DescriptionStyleModel",
            "_view_count": null,
            "_view_module": "@jupyter-widgets/base",
            "_view_module_version": "1.2.0",
            "_view_name": "StyleView",
            "description_width": ""
          }
        },
        "25fa03a5894744139a55304b08267f97": {
          "model_module": "@jupyter-widgets/base",
          "model_name": "LayoutModel",
          "model_module_version": "1.2.0",
          "state": {
            "_model_module": "@jupyter-widgets/base",
            "_model_module_version": "1.2.0",
            "_model_name": "LayoutModel",
            "_view_count": null,
            "_view_module": "@jupyter-widgets/base",
            "_view_module_version": "1.2.0",
            "_view_name": "LayoutView",
            "align_content": null,
            "align_items": null,
            "align_self": null,
            "border": null,
            "bottom": null,
            "display": null,
            "flex": null,
            "flex_flow": null,
            "grid_area": null,
            "grid_auto_columns": null,
            "grid_auto_flow": null,
            "grid_auto_rows": null,
            "grid_column": null,
            "grid_gap": null,
            "grid_row": null,
            "grid_template_areas": null,
            "grid_template_columns": null,
            "grid_template_rows": null,
            "height": null,
            "justify_content": null,
            "justify_items": null,
            "left": null,
            "margin": null,
            "max_height": null,
            "max_width": null,
            "min_height": null,
            "min_width": null,
            "object_fit": null,
            "object_position": null,
            "order": null,
            "overflow": null,
            "overflow_x": null,
            "overflow_y": null,
            "padding": null,
            "right": null,
            "top": null,
            "visibility": null,
            "width": null
          }
        },
        "4bfd6a8882b941ceba7822cd5c3cfb72": {
          "model_module": "@jupyter-widgets/controls",
          "model_name": "ProgressStyleModel",
          "model_module_version": "1.5.0",
          "state": {
            "_model_module": "@jupyter-widgets/controls",
            "_model_module_version": "1.5.0",
            "_model_name": "ProgressStyleModel",
            "_view_count": null,
            "_view_module": "@jupyter-widgets/base",
            "_view_module_version": "1.2.0",
            "_view_name": "StyleView",
            "bar_color": null,
            "description_width": ""
          }
        },
        "5e7469d8cefc4ef394807ab0e268136c": {
          "model_module": "@jupyter-widgets/base",
          "model_name": "LayoutModel",
          "model_module_version": "1.2.0",
          "state": {
            "_model_module": "@jupyter-widgets/base",
            "_model_module_version": "1.2.0",
            "_model_name": "LayoutModel",
            "_view_count": null,
            "_view_module": "@jupyter-widgets/base",
            "_view_module_version": "1.2.0",
            "_view_name": "LayoutView",
            "align_content": null,
            "align_items": null,
            "align_self": null,
            "border": null,
            "bottom": null,
            "display": null,
            "flex": null,
            "flex_flow": null,
            "grid_area": null,
            "grid_auto_columns": null,
            "grid_auto_flow": null,
            "grid_auto_rows": null,
            "grid_column": null,
            "grid_gap": null,
            "grid_row": null,
            "grid_template_areas": null,
            "grid_template_columns": null,
            "grid_template_rows": null,
            "height": null,
            "justify_content": null,
            "justify_items": null,
            "left": null,
            "margin": null,
            "max_height": null,
            "max_width": null,
            "min_height": null,
            "min_width": null,
            "object_fit": null,
            "object_position": null,
            "order": null,
            "overflow": null,
            "overflow_x": null,
            "overflow_y": null,
            "padding": null,
            "right": null,
            "top": null,
            "visibility": null,
            "width": null
          }
        },
        "90dc07cbd69c44218f3e526ed195a447": {
          "model_module": "@jupyter-widgets/controls",
          "model_name": "DescriptionStyleModel",
          "model_module_version": "1.5.0",
          "state": {
            "_model_module": "@jupyter-widgets/controls",
            "_model_module_version": "1.5.0",
            "_model_name": "DescriptionStyleModel",
            "_view_count": null,
            "_view_module": "@jupyter-widgets/base",
            "_view_module_version": "1.2.0",
            "_view_name": "StyleView",
            "description_width": ""
          }
        },
        "31618ac146a44290b702e0d1a219e761": {
          "model_module": "@jupyter-widgets/controls",
          "model_name": "HBoxModel",
          "model_module_version": "1.5.0",
          "state": {
            "_dom_classes": [],
            "_model_module": "@jupyter-widgets/controls",
            "_model_module_version": "1.5.0",
            "_model_name": "HBoxModel",
            "_view_count": null,
            "_view_module": "@jupyter-widgets/controls",
            "_view_module_version": "1.5.0",
            "_view_name": "HBoxView",
            "box_style": "",
            "children": [
              "IPY_MODEL_a5ab4c2a555446338b23d6f144adc7b9",
              "IPY_MODEL_31c586f20df34124aee5ab7186617bbe",
              "IPY_MODEL_7ec0bdb2da60497aa46a5bc823725ca2"
            ],
            "layout": "IPY_MODEL_c05d7700391949559d387bd58dd32e04"
          }
        },
        "a5ab4c2a555446338b23d6f144adc7b9": {
          "model_module": "@jupyter-widgets/controls",
          "model_name": "HTMLModel",
          "model_module_version": "1.5.0",
          "state": {
            "_dom_classes": [],
            "_model_module": "@jupyter-widgets/controls",
            "_model_module_version": "1.5.0",
            "_model_name": "HTMLModel",
            "_view_count": null,
            "_view_module": "@jupyter-widgets/controls",
            "_view_module_version": "1.5.0",
            "_view_name": "HTMLView",
            "description": "",
            "description_tooltip": null,
            "layout": "IPY_MODEL_36561530f43e4b5cb66dfff8f3b2a975",
            "placeholder": "​",
            "style": "IPY_MODEL_7c42355872934276a746c8e621b5ceed",
            "value": "merges.txt: 100%"
          }
        },
        "31c586f20df34124aee5ab7186617bbe": {
          "model_module": "@jupyter-widgets/controls",
          "model_name": "FloatProgressModel",
          "model_module_version": "1.5.0",
          "state": {
            "_dom_classes": [],
            "_model_module": "@jupyter-widgets/controls",
            "_model_module_version": "1.5.0",
            "_model_name": "FloatProgressModel",
            "_view_count": null,
            "_view_module": "@jupyter-widgets/controls",
            "_view_module_version": "1.5.0",
            "_view_name": "ProgressView",
            "bar_style": "success",
            "description": "",
            "description_tooltip": null,
            "layout": "IPY_MODEL_51a0db1e06144a9881afbbaa4f78658a",
            "max": 456318,
            "min": 0,
            "orientation": "horizontal",
            "style": "IPY_MODEL_1403b0a5358240ea95acbae5007bd9fb",
            "value": 456318
          }
        },
        "7ec0bdb2da60497aa46a5bc823725ca2": {
          "model_module": "@jupyter-widgets/controls",
          "model_name": "HTMLModel",
          "model_module_version": "1.5.0",
          "state": {
            "_dom_classes": [],
            "_model_module": "@jupyter-widgets/controls",
            "_model_module_version": "1.5.0",
            "_model_name": "HTMLModel",
            "_view_count": null,
            "_view_module": "@jupyter-widgets/controls",
            "_view_module_version": "1.5.0",
            "_view_name": "HTMLView",
            "description": "",
            "description_tooltip": null,
            "layout": "IPY_MODEL_db9976f094004e51b99f37bc2e3cf262",
            "placeholder": "​",
            "style": "IPY_MODEL_2b1defa1f11c4dbda25259462cc0b096",
            "value": " 456k/456k [00:00&lt;00:00, 745kB/s]"
          }
        },
        "c05d7700391949559d387bd58dd32e04": {
          "model_module": "@jupyter-widgets/base",
          "model_name": "LayoutModel",
          "model_module_version": "1.2.0",
          "state": {
            "_model_module": "@jupyter-widgets/base",
            "_model_module_version": "1.2.0",
            "_model_name": "LayoutModel",
            "_view_count": null,
            "_view_module": "@jupyter-widgets/base",
            "_view_module_version": "1.2.0",
            "_view_name": "LayoutView",
            "align_content": null,
            "align_items": null,
            "align_self": null,
            "border": null,
            "bottom": null,
            "display": null,
            "flex": null,
            "flex_flow": null,
            "grid_area": null,
            "grid_auto_columns": null,
            "grid_auto_flow": null,
            "grid_auto_rows": null,
            "grid_column": null,
            "grid_gap": null,
            "grid_row": null,
            "grid_template_areas": null,
            "grid_template_columns": null,
            "grid_template_rows": null,
            "height": null,
            "justify_content": null,
            "justify_items": null,
            "left": null,
            "margin": null,
            "max_height": null,
            "max_width": null,
            "min_height": null,
            "min_width": null,
            "object_fit": null,
            "object_position": null,
            "order": null,
            "overflow": null,
            "overflow_x": null,
            "overflow_y": null,
            "padding": null,
            "right": null,
            "top": null,
            "visibility": null,
            "width": null
          }
        },
        "36561530f43e4b5cb66dfff8f3b2a975": {
          "model_module": "@jupyter-widgets/base",
          "model_name": "LayoutModel",
          "model_module_version": "1.2.0",
          "state": {
            "_model_module": "@jupyter-widgets/base",
            "_model_module_version": "1.2.0",
            "_model_name": "LayoutModel",
            "_view_count": null,
            "_view_module": "@jupyter-widgets/base",
            "_view_module_version": "1.2.0",
            "_view_name": "LayoutView",
            "align_content": null,
            "align_items": null,
            "align_self": null,
            "border": null,
            "bottom": null,
            "display": null,
            "flex": null,
            "flex_flow": null,
            "grid_area": null,
            "grid_auto_columns": null,
            "grid_auto_flow": null,
            "grid_auto_rows": null,
            "grid_column": null,
            "grid_gap": null,
            "grid_row": null,
            "grid_template_areas": null,
            "grid_template_columns": null,
            "grid_template_rows": null,
            "height": null,
            "justify_content": null,
            "justify_items": null,
            "left": null,
            "margin": null,
            "max_height": null,
            "max_width": null,
            "min_height": null,
            "min_width": null,
            "object_fit": null,
            "object_position": null,
            "order": null,
            "overflow": null,
            "overflow_x": null,
            "overflow_y": null,
            "padding": null,
            "right": null,
            "top": null,
            "visibility": null,
            "width": null
          }
        },
        "7c42355872934276a746c8e621b5ceed": {
          "model_module": "@jupyter-widgets/controls",
          "model_name": "DescriptionStyleModel",
          "model_module_version": "1.5.0",
          "state": {
            "_model_module": "@jupyter-widgets/controls",
            "_model_module_version": "1.5.0",
            "_model_name": "DescriptionStyleModel",
            "_view_count": null,
            "_view_module": "@jupyter-widgets/base",
            "_view_module_version": "1.2.0",
            "_view_name": "StyleView",
            "description_width": ""
          }
        },
        "51a0db1e06144a9881afbbaa4f78658a": {
          "model_module": "@jupyter-widgets/base",
          "model_name": "LayoutModel",
          "model_module_version": "1.2.0",
          "state": {
            "_model_module": "@jupyter-widgets/base",
            "_model_module_version": "1.2.0",
            "_model_name": "LayoutModel",
            "_view_count": null,
            "_view_module": "@jupyter-widgets/base",
            "_view_module_version": "1.2.0",
            "_view_name": "LayoutView",
            "align_content": null,
            "align_items": null,
            "align_self": null,
            "border": null,
            "bottom": null,
            "display": null,
            "flex": null,
            "flex_flow": null,
            "grid_area": null,
            "grid_auto_columns": null,
            "grid_auto_flow": null,
            "grid_auto_rows": null,
            "grid_column": null,
            "grid_gap": null,
            "grid_row": null,
            "grid_template_areas": null,
            "grid_template_columns": null,
            "grid_template_rows": null,
            "height": null,
            "justify_content": null,
            "justify_items": null,
            "left": null,
            "margin": null,
            "max_height": null,
            "max_width": null,
            "min_height": null,
            "min_width": null,
            "object_fit": null,
            "object_position": null,
            "order": null,
            "overflow": null,
            "overflow_x": null,
            "overflow_y": null,
            "padding": null,
            "right": null,
            "top": null,
            "visibility": null,
            "width": null
          }
        },
        "1403b0a5358240ea95acbae5007bd9fb": {
          "model_module": "@jupyter-widgets/controls",
          "model_name": "ProgressStyleModel",
          "model_module_version": "1.5.0",
          "state": {
            "_model_module": "@jupyter-widgets/controls",
            "_model_module_version": "1.5.0",
            "_model_name": "ProgressStyleModel",
            "_view_count": null,
            "_view_module": "@jupyter-widgets/base",
            "_view_module_version": "1.2.0",
            "_view_name": "StyleView",
            "bar_color": null,
            "description_width": ""
          }
        },
        "db9976f094004e51b99f37bc2e3cf262": {
          "model_module": "@jupyter-widgets/base",
          "model_name": "LayoutModel",
          "model_module_version": "1.2.0",
          "state": {
            "_model_module": "@jupyter-widgets/base",
            "_model_module_version": "1.2.0",
            "_model_name": "LayoutModel",
            "_view_count": null,
            "_view_module": "@jupyter-widgets/base",
            "_view_module_version": "1.2.0",
            "_view_name": "LayoutView",
            "align_content": null,
            "align_items": null,
            "align_self": null,
            "border": null,
            "bottom": null,
            "display": null,
            "flex": null,
            "flex_flow": null,
            "grid_area": null,
            "grid_auto_columns": null,
            "grid_auto_flow": null,
            "grid_auto_rows": null,
            "grid_column": null,
            "grid_gap": null,
            "grid_row": null,
            "grid_template_areas": null,
            "grid_template_columns": null,
            "grid_template_rows": null,
            "height": null,
            "justify_content": null,
            "justify_items": null,
            "left": null,
            "margin": null,
            "max_height": null,
            "max_width": null,
            "min_height": null,
            "min_width": null,
            "object_fit": null,
            "object_position": null,
            "order": null,
            "overflow": null,
            "overflow_x": null,
            "overflow_y": null,
            "padding": null,
            "right": null,
            "top": null,
            "visibility": null,
            "width": null
          }
        },
        "2b1defa1f11c4dbda25259462cc0b096": {
          "model_module": "@jupyter-widgets/controls",
          "model_name": "DescriptionStyleModel",
          "model_module_version": "1.5.0",
          "state": {
            "_model_module": "@jupyter-widgets/controls",
            "_model_module_version": "1.5.0",
            "_model_name": "DescriptionStyleModel",
            "_view_count": null,
            "_view_module": "@jupyter-widgets/base",
            "_view_module_version": "1.2.0",
            "_view_name": "StyleView",
            "description_width": ""
          }
        },
        "2d574df2bafe445eb56038c1114bb562": {
          "model_module": "@jupyter-widgets/controls",
          "model_name": "HBoxModel",
          "model_module_version": "1.5.0",
          "state": {
            "_dom_classes": [],
            "_model_module": "@jupyter-widgets/controls",
            "_model_module_version": "1.5.0",
            "_model_name": "HBoxModel",
            "_view_count": null,
            "_view_module": "@jupyter-widgets/controls",
            "_view_module_version": "1.5.0",
            "_view_name": "HBoxView",
            "box_style": "",
            "children": [
              "IPY_MODEL_2c4e7d703d0f4372aa0ee510354a8227",
              "IPY_MODEL_a703fbbdd37d41dc925912e0c4dd4318",
              "IPY_MODEL_aed6509ce2044df699139728a679c80a"
            ],
            "layout": "IPY_MODEL_dcaa78bafbfc49e084b5a7aec13f3f6e"
          }
        },
        "2c4e7d703d0f4372aa0ee510354a8227": {
          "model_module": "@jupyter-widgets/controls",
          "model_name": "HTMLModel",
          "model_module_version": "1.5.0",
          "state": {
            "_dom_classes": [],
            "_model_module": "@jupyter-widgets/controls",
            "_model_module_version": "1.5.0",
            "_model_name": "HTMLModel",
            "_view_count": null,
            "_view_module": "@jupyter-widgets/controls",
            "_view_module_version": "1.5.0",
            "_view_name": "HTMLView",
            "description": "",
            "description_tooltip": null,
            "layout": "IPY_MODEL_be04df30a5a440a083df76f904d8ef72",
            "placeholder": "​",
            "style": "IPY_MODEL_a51cd0eaa4694dd88b484e1665922ad1",
            "value": "tokenizer.json: 100%"
          }
        },
        "a703fbbdd37d41dc925912e0c4dd4318": {
          "model_module": "@jupyter-widgets/controls",
          "model_name": "FloatProgressModel",
          "model_module_version": "1.5.0",
          "state": {
            "_dom_classes": [],
            "_model_module": "@jupyter-widgets/controls",
            "_model_module_version": "1.5.0",
            "_model_name": "FloatProgressModel",
            "_view_count": null,
            "_view_module": "@jupyter-widgets/controls",
            "_view_module_version": "1.5.0",
            "_view_name": "ProgressView",
            "bar_style": "success",
            "description": "",
            "description_tooltip": null,
            "layout": "IPY_MODEL_f464aea25d8c412ea42b2f6ccc600ded",
            "max": 1355863,
            "min": 0,
            "orientation": "horizontal",
            "style": "IPY_MODEL_45b4d92445ee4d9f8b8b5c42fa529dd4",
            "value": 1355863
          }
        },
        "aed6509ce2044df699139728a679c80a": {
          "model_module": "@jupyter-widgets/controls",
          "model_name": "HTMLModel",
          "model_module_version": "1.5.0",
          "state": {
            "_dom_classes": [],
            "_model_module": "@jupyter-widgets/controls",
            "_model_module_version": "1.5.0",
            "_model_name": "HTMLModel",
            "_view_count": null,
            "_view_module": "@jupyter-widgets/controls",
            "_view_module_version": "1.5.0",
            "_view_name": "HTMLView",
            "description": "",
            "description_tooltip": null,
            "layout": "IPY_MODEL_b0380caec48a496c88deb56d46acfda1",
            "placeholder": "​",
            "style": "IPY_MODEL_75d0a31e5f924b5995942d989b381dfb",
            "value": " 1.36M/1.36M [00:00&lt;00:00, 6.41MB/s]"
          }
        },
        "dcaa78bafbfc49e084b5a7aec13f3f6e": {
          "model_module": "@jupyter-widgets/base",
          "model_name": "LayoutModel",
          "model_module_version": "1.2.0",
          "state": {
            "_model_module": "@jupyter-widgets/base",
            "_model_module_version": "1.2.0",
            "_model_name": "LayoutModel",
            "_view_count": null,
            "_view_module": "@jupyter-widgets/base",
            "_view_module_version": "1.2.0",
            "_view_name": "LayoutView",
            "align_content": null,
            "align_items": null,
            "align_self": null,
            "border": null,
            "bottom": null,
            "display": null,
            "flex": null,
            "flex_flow": null,
            "grid_area": null,
            "grid_auto_columns": null,
            "grid_auto_flow": null,
            "grid_auto_rows": null,
            "grid_column": null,
            "grid_gap": null,
            "grid_row": null,
            "grid_template_areas": null,
            "grid_template_columns": null,
            "grid_template_rows": null,
            "height": null,
            "justify_content": null,
            "justify_items": null,
            "left": null,
            "margin": null,
            "max_height": null,
            "max_width": null,
            "min_height": null,
            "min_width": null,
            "object_fit": null,
            "object_position": null,
            "order": null,
            "overflow": null,
            "overflow_x": null,
            "overflow_y": null,
            "padding": null,
            "right": null,
            "top": null,
            "visibility": null,
            "width": null
          }
        },
        "be04df30a5a440a083df76f904d8ef72": {
          "model_module": "@jupyter-widgets/base",
          "model_name": "LayoutModel",
          "model_module_version": "1.2.0",
          "state": {
            "_model_module": "@jupyter-widgets/base",
            "_model_module_version": "1.2.0",
            "_model_name": "LayoutModel",
            "_view_count": null,
            "_view_module": "@jupyter-widgets/base",
            "_view_module_version": "1.2.0",
            "_view_name": "LayoutView",
            "align_content": null,
            "align_items": null,
            "align_self": null,
            "border": null,
            "bottom": null,
            "display": null,
            "flex": null,
            "flex_flow": null,
            "grid_area": null,
            "grid_auto_columns": null,
            "grid_auto_flow": null,
            "grid_auto_rows": null,
            "grid_column": null,
            "grid_gap": null,
            "grid_row": null,
            "grid_template_areas": null,
            "grid_template_columns": null,
            "grid_template_rows": null,
            "height": null,
            "justify_content": null,
            "justify_items": null,
            "left": null,
            "margin": null,
            "max_height": null,
            "max_width": null,
            "min_height": null,
            "min_width": null,
            "object_fit": null,
            "object_position": null,
            "order": null,
            "overflow": null,
            "overflow_x": null,
            "overflow_y": null,
            "padding": null,
            "right": null,
            "top": null,
            "visibility": null,
            "width": null
          }
        },
        "a51cd0eaa4694dd88b484e1665922ad1": {
          "model_module": "@jupyter-widgets/controls",
          "model_name": "DescriptionStyleModel",
          "model_module_version": "1.5.0",
          "state": {
            "_model_module": "@jupyter-widgets/controls",
            "_model_module_version": "1.5.0",
            "_model_name": "DescriptionStyleModel",
            "_view_count": null,
            "_view_module": "@jupyter-widgets/base",
            "_view_module_version": "1.2.0",
            "_view_name": "StyleView",
            "description_width": ""
          }
        },
        "f464aea25d8c412ea42b2f6ccc600ded": {
          "model_module": "@jupyter-widgets/base",
          "model_name": "LayoutModel",
          "model_module_version": "1.2.0",
          "state": {
            "_model_module": "@jupyter-widgets/base",
            "_model_module_version": "1.2.0",
            "_model_name": "LayoutModel",
            "_view_count": null,
            "_view_module": "@jupyter-widgets/base",
            "_view_module_version": "1.2.0",
            "_view_name": "LayoutView",
            "align_content": null,
            "align_items": null,
            "align_self": null,
            "border": null,
            "bottom": null,
            "display": null,
            "flex": null,
            "flex_flow": null,
            "grid_area": null,
            "grid_auto_columns": null,
            "grid_auto_flow": null,
            "grid_auto_rows": null,
            "grid_column": null,
            "grid_gap": null,
            "grid_row": null,
            "grid_template_areas": null,
            "grid_template_columns": null,
            "grid_template_rows": null,
            "height": null,
            "justify_content": null,
            "justify_items": null,
            "left": null,
            "margin": null,
            "max_height": null,
            "max_width": null,
            "min_height": null,
            "min_width": null,
            "object_fit": null,
            "object_position": null,
            "order": null,
            "overflow": null,
            "overflow_x": null,
            "overflow_y": null,
            "padding": null,
            "right": null,
            "top": null,
            "visibility": null,
            "width": null
          }
        },
        "45b4d92445ee4d9f8b8b5c42fa529dd4": {
          "model_module": "@jupyter-widgets/controls",
          "model_name": "ProgressStyleModel",
          "model_module_version": "1.5.0",
          "state": {
            "_model_module": "@jupyter-widgets/controls",
            "_model_module_version": "1.5.0",
            "_model_name": "ProgressStyleModel",
            "_view_count": null,
            "_view_module": "@jupyter-widgets/base",
            "_view_module_version": "1.2.0",
            "_view_name": "StyleView",
            "bar_color": null,
            "description_width": ""
          }
        },
        "b0380caec48a496c88deb56d46acfda1": {
          "model_module": "@jupyter-widgets/base",
          "model_name": "LayoutModel",
          "model_module_version": "1.2.0",
          "state": {
            "_model_module": "@jupyter-widgets/base",
            "_model_module_version": "1.2.0",
            "_model_name": "LayoutModel",
            "_view_count": null,
            "_view_module": "@jupyter-widgets/base",
            "_view_module_version": "1.2.0",
            "_view_name": "LayoutView",
            "align_content": null,
            "align_items": null,
            "align_self": null,
            "border": null,
            "bottom": null,
            "display": null,
            "flex": null,
            "flex_flow": null,
            "grid_area": null,
            "grid_auto_columns": null,
            "grid_auto_flow": null,
            "grid_auto_rows": null,
            "grid_column": null,
            "grid_gap": null,
            "grid_row": null,
            "grid_template_areas": null,
            "grid_template_columns": null,
            "grid_template_rows": null,
            "height": null,
            "justify_content": null,
            "justify_items": null,
            "left": null,
            "margin": null,
            "max_height": null,
            "max_width": null,
            "min_height": null,
            "min_width": null,
            "object_fit": null,
            "object_position": null,
            "order": null,
            "overflow": null,
            "overflow_x": null,
            "overflow_y": null,
            "padding": null,
            "right": null,
            "top": null,
            "visibility": null,
            "width": null
          }
        },
        "75d0a31e5f924b5995942d989b381dfb": {
          "model_module": "@jupyter-widgets/controls",
          "model_name": "DescriptionStyleModel",
          "model_module_version": "1.5.0",
          "state": {
            "_model_module": "@jupyter-widgets/controls",
            "_model_module_version": "1.5.0",
            "_model_name": "DescriptionStyleModel",
            "_view_count": null,
            "_view_module": "@jupyter-widgets/base",
            "_view_module_version": "1.2.0",
            "_view_name": "StyleView",
            "description_width": ""
          }
        },
        "caafc20773ce4839b2ea85b8f03f3f1c": {
          "model_module": "@jupyter-widgets/controls",
          "model_name": "HBoxModel",
          "model_module_version": "1.5.0",
          "state": {
            "_dom_classes": [],
            "_model_module": "@jupyter-widgets/controls",
            "_model_module_version": "1.5.0",
            "_model_name": "HBoxModel",
            "_view_count": null,
            "_view_module": "@jupyter-widgets/controls",
            "_view_module_version": "1.5.0",
            "_view_name": "HBoxView",
            "box_style": "",
            "children": [
              "IPY_MODEL_59a16b8c18084028bfb95ad369ff1f44",
              "IPY_MODEL_80712911f6954993a0318f841e403ea0",
              "IPY_MODEL_9ff9a90eb6884bcf9ffbdd309b12af04"
            ],
            "layout": "IPY_MODEL_d79e22547a8e47bc888f916d8784b3c4"
          }
        },
        "59a16b8c18084028bfb95ad369ff1f44": {
          "model_module": "@jupyter-widgets/controls",
          "model_name": "HTMLModel",
          "model_module_version": "1.5.0",
          "state": {
            "_dom_classes": [],
            "_model_module": "@jupyter-widgets/controls",
            "_model_module_version": "1.5.0",
            "_model_name": "HTMLModel",
            "_view_count": null,
            "_view_module": "@jupyter-widgets/controls",
            "_view_module_version": "1.5.0",
            "_view_name": "HTMLView",
            "description": "",
            "description_tooltip": null,
            "layout": "IPY_MODEL_d7cebd8f76674ecd97f0f00c487352dd",
            "placeholder": "​",
            "style": "IPY_MODEL_b651428920d140fba00648049798896c",
            "value": "model.safetensors: 100%"
          }
        },
        "80712911f6954993a0318f841e403ea0": {
          "model_module": "@jupyter-widgets/controls",
          "model_name": "FloatProgressModel",
          "model_module_version": "1.5.0",
          "state": {
            "_dom_classes": [],
            "_model_module": "@jupyter-widgets/controls",
            "_model_module_version": "1.5.0",
            "_model_name": "FloatProgressModel",
            "_view_count": null,
            "_view_module": "@jupyter-widgets/controls",
            "_view_module_version": "1.5.0",
            "_view_name": "ProgressView",
            "bar_style": "success",
            "description": "",
            "description_tooltip": null,
            "layout": "IPY_MODEL_d1c1a7f3a818441e800ca2c5bda3f910",
            "max": 1421700479,
            "min": 0,
            "orientation": "horizontal",
            "style": "IPY_MODEL_1a0d9e03b09f4900935837362327e9a7",
            "value": 1421700479
          }
        },
        "9ff9a90eb6884bcf9ffbdd309b12af04": {
          "model_module": "@jupyter-widgets/controls",
          "model_name": "HTMLModel",
          "model_module_version": "1.5.0",
          "state": {
            "_dom_classes": [],
            "_model_module": "@jupyter-widgets/controls",
            "_model_module_version": "1.5.0",
            "_model_name": "HTMLModel",
            "_view_count": null,
            "_view_module": "@jupyter-widgets/controls",
            "_view_module_version": "1.5.0",
            "_view_name": "HTMLView",
            "description": "",
            "description_tooltip": null,
            "layout": "IPY_MODEL_94899bae06c647f6a11f57a971b8d5cf",
            "placeholder": "​",
            "style": "IPY_MODEL_7fca1e594542461a8048d412e4a5437c",
            "value": " 1.42G/1.42G [00:16&lt;00:00, 83.7MB/s]"
          }
        },
        "d79e22547a8e47bc888f916d8784b3c4": {
          "model_module": "@jupyter-widgets/base",
          "model_name": "LayoutModel",
          "model_module_version": "1.2.0",
          "state": {
            "_model_module": "@jupyter-widgets/base",
            "_model_module_version": "1.2.0",
            "_model_name": "LayoutModel",
            "_view_count": null,
            "_view_module": "@jupyter-widgets/base",
            "_view_module_version": "1.2.0",
            "_view_name": "LayoutView",
            "align_content": null,
            "align_items": null,
            "align_self": null,
            "border": null,
            "bottom": null,
            "display": null,
            "flex": null,
            "flex_flow": null,
            "grid_area": null,
            "grid_auto_columns": null,
            "grid_auto_flow": null,
            "grid_auto_rows": null,
            "grid_column": null,
            "grid_gap": null,
            "grid_row": null,
            "grid_template_areas": null,
            "grid_template_columns": null,
            "grid_template_rows": null,
            "height": null,
            "justify_content": null,
            "justify_items": null,
            "left": null,
            "margin": null,
            "max_height": null,
            "max_width": null,
            "min_height": null,
            "min_width": null,
            "object_fit": null,
            "object_position": null,
            "order": null,
            "overflow": null,
            "overflow_x": null,
            "overflow_y": null,
            "padding": null,
            "right": null,
            "top": null,
            "visibility": null,
            "width": null
          }
        },
        "d7cebd8f76674ecd97f0f00c487352dd": {
          "model_module": "@jupyter-widgets/base",
          "model_name": "LayoutModel",
          "model_module_version": "1.2.0",
          "state": {
            "_model_module": "@jupyter-widgets/base",
            "_model_module_version": "1.2.0",
            "_model_name": "LayoutModel",
            "_view_count": null,
            "_view_module": "@jupyter-widgets/base",
            "_view_module_version": "1.2.0",
            "_view_name": "LayoutView",
            "align_content": null,
            "align_items": null,
            "align_self": null,
            "border": null,
            "bottom": null,
            "display": null,
            "flex": null,
            "flex_flow": null,
            "grid_area": null,
            "grid_auto_columns": null,
            "grid_auto_flow": null,
            "grid_auto_rows": null,
            "grid_column": null,
            "grid_gap": null,
            "grid_row": null,
            "grid_template_areas": null,
            "grid_template_columns": null,
            "grid_template_rows": null,
            "height": null,
            "justify_content": null,
            "justify_items": null,
            "left": null,
            "margin": null,
            "max_height": null,
            "max_width": null,
            "min_height": null,
            "min_width": null,
            "object_fit": null,
            "object_position": null,
            "order": null,
            "overflow": null,
            "overflow_x": null,
            "overflow_y": null,
            "padding": null,
            "right": null,
            "top": null,
            "visibility": null,
            "width": null
          }
        },
        "b651428920d140fba00648049798896c": {
          "model_module": "@jupyter-widgets/controls",
          "model_name": "DescriptionStyleModel",
          "model_module_version": "1.5.0",
          "state": {
            "_model_module": "@jupyter-widgets/controls",
            "_model_module_version": "1.5.0",
            "_model_name": "DescriptionStyleModel",
            "_view_count": null,
            "_view_module": "@jupyter-widgets/base",
            "_view_module_version": "1.2.0",
            "_view_name": "StyleView",
            "description_width": ""
          }
        },
        "d1c1a7f3a818441e800ca2c5bda3f910": {
          "model_module": "@jupyter-widgets/base",
          "model_name": "LayoutModel",
          "model_module_version": "1.2.0",
          "state": {
            "_model_module": "@jupyter-widgets/base",
            "_model_module_version": "1.2.0",
            "_model_name": "LayoutModel",
            "_view_count": null,
            "_view_module": "@jupyter-widgets/base",
            "_view_module_version": "1.2.0",
            "_view_name": "LayoutView",
            "align_content": null,
            "align_items": null,
            "align_self": null,
            "border": null,
            "bottom": null,
            "display": null,
            "flex": null,
            "flex_flow": null,
            "grid_area": null,
            "grid_auto_columns": null,
            "grid_auto_flow": null,
            "grid_auto_rows": null,
            "grid_column": null,
            "grid_gap": null,
            "grid_row": null,
            "grid_template_areas": null,
            "grid_template_columns": null,
            "grid_template_rows": null,
            "height": null,
            "justify_content": null,
            "justify_items": null,
            "left": null,
            "margin": null,
            "max_height": null,
            "max_width": null,
            "min_height": null,
            "min_width": null,
            "object_fit": null,
            "object_position": null,
            "order": null,
            "overflow": null,
            "overflow_x": null,
            "overflow_y": null,
            "padding": null,
            "right": null,
            "top": null,
            "visibility": null,
            "width": null
          }
        },
        "1a0d9e03b09f4900935837362327e9a7": {
          "model_module": "@jupyter-widgets/controls",
          "model_name": "ProgressStyleModel",
          "model_module_version": "1.5.0",
          "state": {
            "_model_module": "@jupyter-widgets/controls",
            "_model_module_version": "1.5.0",
            "_model_name": "ProgressStyleModel",
            "_view_count": null,
            "_view_module": "@jupyter-widgets/base",
            "_view_module_version": "1.2.0",
            "_view_name": "StyleView",
            "bar_color": null,
            "description_width": ""
          }
        },
        "94899bae06c647f6a11f57a971b8d5cf": {
          "model_module": "@jupyter-widgets/base",
          "model_name": "LayoutModel",
          "model_module_version": "1.2.0",
          "state": {
            "_model_module": "@jupyter-widgets/base",
            "_model_module_version": "1.2.0",
            "_model_name": "LayoutModel",
            "_view_count": null,
            "_view_module": "@jupyter-widgets/base",
            "_view_module_version": "1.2.0",
            "_view_name": "LayoutView",
            "align_content": null,
            "align_items": null,
            "align_self": null,
            "border": null,
            "bottom": null,
            "display": null,
            "flex": null,
            "flex_flow": null,
            "grid_area": null,
            "grid_auto_columns": null,
            "grid_auto_flow": null,
            "grid_auto_rows": null,
            "grid_column": null,
            "grid_gap": null,
            "grid_row": null,
            "grid_template_areas": null,
            "grid_template_columns": null,
            "grid_template_rows": null,
            "height": null,
            "justify_content": null,
            "justify_items": null,
            "left": null,
            "margin": null,
            "max_height": null,
            "max_width": null,
            "min_height": null,
            "min_width": null,
            "object_fit": null,
            "object_position": null,
            "order": null,
            "overflow": null,
            "overflow_x": null,
            "overflow_y": null,
            "padding": null,
            "right": null,
            "top": null,
            "visibility": null,
            "width": null
          }
        },
        "7fca1e594542461a8048d412e4a5437c": {
          "model_module": "@jupyter-widgets/controls",
          "model_name": "DescriptionStyleModel",
          "model_module_version": "1.5.0",
          "state": {
            "_model_module": "@jupyter-widgets/controls",
            "_model_module_version": "1.5.0",
            "_model_name": "DescriptionStyleModel",
            "_view_count": null,
            "_view_module": "@jupyter-widgets/base",
            "_view_module_version": "1.2.0",
            "_view_name": "StyleView",
            "description_width": ""
          }
        },
        "77175ec90dc2482abfdaf9c240a80939": {
          "model_module": "@jupyter-widgets/controls",
          "model_name": "HBoxModel",
          "model_module_version": "1.5.0",
          "state": {
            "_dom_classes": [],
            "_model_module": "@jupyter-widgets/controls",
            "_model_module_version": "1.5.0",
            "_model_name": "HBoxModel",
            "_view_count": null,
            "_view_module": "@jupyter-widgets/controls",
            "_view_module_version": "1.5.0",
            "_view_name": "HBoxView",
            "box_style": "",
            "children": [
              "IPY_MODEL_416d3762f58c4c789660a7d3f62a7c1d",
              "IPY_MODEL_d0d4babbfa184094bfe98e16da0104b2",
              "IPY_MODEL_a23c6fc65d5249f3b6cd8e5255aa1ca2"
            ],
            "layout": "IPY_MODEL_3e9ad0485bac465ea32add6424d496a6"
          }
        },
        "416d3762f58c4c789660a7d3f62a7c1d": {
          "model_module": "@jupyter-widgets/controls",
          "model_name": "HTMLModel",
          "model_module_version": "1.5.0",
          "state": {
            "_dom_classes": [],
            "_model_module": "@jupyter-widgets/controls",
            "_model_module_version": "1.5.0",
            "_model_name": "HTMLModel",
            "_view_count": null,
            "_view_module": "@jupyter-widgets/controls",
            "_view_module_version": "1.5.0",
            "_view_name": "HTMLView",
            "description": "",
            "description_tooltip": null,
            "layout": "IPY_MODEL_53958ba3983f42e29942abab9d35b266",
            "placeholder": "​",
            "style": "IPY_MODEL_aea3614cf4364c3d9ae291071c6b3c46",
            "value": "100%"
          }
        },
        "d0d4babbfa184094bfe98e16da0104b2": {
          "model_module": "@jupyter-widgets/controls",
          "model_name": "FloatProgressModel",
          "model_module_version": "1.5.0",
          "state": {
            "_dom_classes": [],
            "_model_module": "@jupyter-widgets/controls",
            "_model_module_version": "1.5.0",
            "_model_name": "FloatProgressModel",
            "_view_count": null,
            "_view_module": "@jupyter-widgets/controls",
            "_view_module_version": "1.5.0",
            "_view_name": "ProgressView",
            "bar_style": "success",
            "description": "",
            "description_tooltip": null,
            "layout": "IPY_MODEL_23da36ff591847d99f42f0e2434574b9",
            "max": 135,
            "min": 0,
            "orientation": "horizontal",
            "style": "IPY_MODEL_fdf2979e34344128aaa06b9f7d5c3670",
            "value": 135
          }
        },
        "a23c6fc65d5249f3b6cd8e5255aa1ca2": {
          "model_module": "@jupyter-widgets/controls",
          "model_name": "HTMLModel",
          "model_module_version": "1.5.0",
          "state": {
            "_dom_classes": [],
            "_model_module": "@jupyter-widgets/controls",
            "_model_module_version": "1.5.0",
            "_model_name": "HTMLModel",
            "_view_count": null,
            "_view_module": "@jupyter-widgets/controls",
            "_view_module_version": "1.5.0",
            "_view_name": "HTMLView",
            "description": "",
            "description_tooltip": null,
            "layout": "IPY_MODEL_6e5061748f48473aaa76e41fda8190e0",
            "placeholder": "​",
            "style": "IPY_MODEL_e72d551546674eb5bbe839d6a1c9b95f",
            "value": " 135/135 [00:33&lt;00:00,  3.86it/s]"
          }
        },
        "3e9ad0485bac465ea32add6424d496a6": {
          "model_module": "@jupyter-widgets/base",
          "model_name": "LayoutModel",
          "model_module_version": "1.2.0",
          "state": {
            "_model_module": "@jupyter-widgets/base",
            "_model_module_version": "1.2.0",
            "_model_name": "LayoutModel",
            "_view_count": null,
            "_view_module": "@jupyter-widgets/base",
            "_view_module_version": "1.2.0",
            "_view_name": "LayoutView",
            "align_content": null,
            "align_items": null,
            "align_self": null,
            "border": null,
            "bottom": null,
            "display": null,
            "flex": null,
            "flex_flow": null,
            "grid_area": null,
            "grid_auto_columns": null,
            "grid_auto_flow": null,
            "grid_auto_rows": null,
            "grid_column": null,
            "grid_gap": null,
            "grid_row": null,
            "grid_template_areas": null,
            "grid_template_columns": null,
            "grid_template_rows": null,
            "height": null,
            "justify_content": null,
            "justify_items": null,
            "left": null,
            "margin": null,
            "max_height": null,
            "max_width": null,
            "min_height": null,
            "min_width": null,
            "object_fit": null,
            "object_position": null,
            "order": null,
            "overflow": null,
            "overflow_x": null,
            "overflow_y": null,
            "padding": null,
            "right": null,
            "top": null,
            "visibility": null,
            "width": null
          }
        },
        "53958ba3983f42e29942abab9d35b266": {
          "model_module": "@jupyter-widgets/base",
          "model_name": "LayoutModel",
          "model_module_version": "1.2.0",
          "state": {
            "_model_module": "@jupyter-widgets/base",
            "_model_module_version": "1.2.0",
            "_model_name": "LayoutModel",
            "_view_count": null,
            "_view_module": "@jupyter-widgets/base",
            "_view_module_version": "1.2.0",
            "_view_name": "LayoutView",
            "align_content": null,
            "align_items": null,
            "align_self": null,
            "border": null,
            "bottom": null,
            "display": null,
            "flex": null,
            "flex_flow": null,
            "grid_area": null,
            "grid_auto_columns": null,
            "grid_auto_flow": null,
            "grid_auto_rows": null,
            "grid_column": null,
            "grid_gap": null,
            "grid_row": null,
            "grid_template_areas": null,
            "grid_template_columns": null,
            "grid_template_rows": null,
            "height": null,
            "justify_content": null,
            "justify_items": null,
            "left": null,
            "margin": null,
            "max_height": null,
            "max_width": null,
            "min_height": null,
            "min_width": null,
            "object_fit": null,
            "object_position": null,
            "order": null,
            "overflow": null,
            "overflow_x": null,
            "overflow_y": null,
            "padding": null,
            "right": null,
            "top": null,
            "visibility": null,
            "width": null
          }
        },
        "aea3614cf4364c3d9ae291071c6b3c46": {
          "model_module": "@jupyter-widgets/controls",
          "model_name": "DescriptionStyleModel",
          "model_module_version": "1.5.0",
          "state": {
            "_model_module": "@jupyter-widgets/controls",
            "_model_module_version": "1.5.0",
            "_model_name": "DescriptionStyleModel",
            "_view_count": null,
            "_view_module": "@jupyter-widgets/base",
            "_view_module_version": "1.2.0",
            "_view_name": "StyleView",
            "description_width": ""
          }
        },
        "23da36ff591847d99f42f0e2434574b9": {
          "model_module": "@jupyter-widgets/base",
          "model_name": "LayoutModel",
          "model_module_version": "1.2.0",
          "state": {
            "_model_module": "@jupyter-widgets/base",
            "_model_module_version": "1.2.0",
            "_model_name": "LayoutModel",
            "_view_count": null,
            "_view_module": "@jupyter-widgets/base",
            "_view_module_version": "1.2.0",
            "_view_name": "LayoutView",
            "align_content": null,
            "align_items": null,
            "align_self": null,
            "border": null,
            "bottom": null,
            "display": null,
            "flex": null,
            "flex_flow": null,
            "grid_area": null,
            "grid_auto_columns": null,
            "grid_auto_flow": null,
            "grid_auto_rows": null,
            "grid_column": null,
            "grid_gap": null,
            "grid_row": null,
            "grid_template_areas": null,
            "grid_template_columns": null,
            "grid_template_rows": null,
            "height": null,
            "justify_content": null,
            "justify_items": null,
            "left": null,
            "margin": null,
            "max_height": null,
            "max_width": null,
            "min_height": null,
            "min_width": null,
            "object_fit": null,
            "object_position": null,
            "order": null,
            "overflow": null,
            "overflow_x": null,
            "overflow_y": null,
            "padding": null,
            "right": null,
            "top": null,
            "visibility": null,
            "width": null
          }
        },
        "fdf2979e34344128aaa06b9f7d5c3670": {
          "model_module": "@jupyter-widgets/controls",
          "model_name": "ProgressStyleModel",
          "model_module_version": "1.5.0",
          "state": {
            "_model_module": "@jupyter-widgets/controls",
            "_model_module_version": "1.5.0",
            "_model_name": "ProgressStyleModel",
            "_view_count": null,
            "_view_module": "@jupyter-widgets/base",
            "_view_module_version": "1.2.0",
            "_view_name": "StyleView",
            "bar_color": null,
            "description_width": ""
          }
        },
        "6e5061748f48473aaa76e41fda8190e0": {
          "model_module": "@jupyter-widgets/base",
          "model_name": "LayoutModel",
          "model_module_version": "1.2.0",
          "state": {
            "_model_module": "@jupyter-widgets/base",
            "_model_module_version": "1.2.0",
            "_model_name": "LayoutModel",
            "_view_count": null,
            "_view_module": "@jupyter-widgets/base",
            "_view_module_version": "1.2.0",
            "_view_name": "LayoutView",
            "align_content": null,
            "align_items": null,
            "align_self": null,
            "border": null,
            "bottom": null,
            "display": null,
            "flex": null,
            "flex_flow": null,
            "grid_area": null,
            "grid_auto_columns": null,
            "grid_auto_flow": null,
            "grid_auto_rows": null,
            "grid_column": null,
            "grid_gap": null,
            "grid_row": null,
            "grid_template_areas": null,
            "grid_template_columns": null,
            "grid_template_rows": null,
            "height": null,
            "justify_content": null,
            "justify_items": null,
            "left": null,
            "margin": null,
            "max_height": null,
            "max_width": null,
            "min_height": null,
            "min_width": null,
            "object_fit": null,
            "object_position": null,
            "order": null,
            "overflow": null,
            "overflow_x": null,
            "overflow_y": null,
            "padding": null,
            "right": null,
            "top": null,
            "visibility": null,
            "width": null
          }
        },
        "e72d551546674eb5bbe839d6a1c9b95f": {
          "model_module": "@jupyter-widgets/controls",
          "model_name": "DescriptionStyleModel",
          "model_module_version": "1.5.0",
          "state": {
            "_model_module": "@jupyter-widgets/controls",
            "_model_module_version": "1.5.0",
            "_model_name": "DescriptionStyleModel",
            "_view_count": null,
            "_view_module": "@jupyter-widgets/base",
            "_view_module_version": "1.2.0",
            "_view_name": "StyleView",
            "description_width": ""
          }
        },
        "515b0cc4ca3848ebab3a85647f97a927": {
          "model_module": "@jupyter-widgets/controls",
          "model_name": "HBoxModel",
          "model_module_version": "1.5.0",
          "state": {
            "_dom_classes": [],
            "_model_module": "@jupyter-widgets/controls",
            "_model_module_version": "1.5.0",
            "_model_name": "HBoxModel",
            "_view_count": null,
            "_view_module": "@jupyter-widgets/controls",
            "_view_module_version": "1.5.0",
            "_view_name": "HBoxView",
            "box_style": "",
            "children": [
              "IPY_MODEL_fc25d99dd80c4fdbb817ffff53121c98",
              "IPY_MODEL_0311ebbb65c74cf895a9b31f59dce93c",
              "IPY_MODEL_ed47c4ff2c454c03927ab63eafb7aeef"
            ],
            "layout": "IPY_MODEL_d6abb9ed3a7f4205a06f7b6ccd555b49"
          }
        },
        "fc25d99dd80c4fdbb817ffff53121c98": {
          "model_module": "@jupyter-widgets/controls",
          "model_name": "HTMLModel",
          "model_module_version": "1.5.0",
          "state": {
            "_dom_classes": [],
            "_model_module": "@jupyter-widgets/controls",
            "_model_module_version": "1.5.0",
            "_model_name": "HTMLModel",
            "_view_count": null,
            "_view_module": "@jupyter-widgets/controls",
            "_view_module_version": "1.5.0",
            "_view_name": "HTMLView",
            "description": "",
            "description_tooltip": null,
            "layout": "IPY_MODEL_7a306739ace6497da5a6e890bc5aa6e9",
            "placeholder": "​",
            "style": "IPY_MODEL_a637fd1fbdd0406c8995cd3f0c303201",
            "value": "100%"
          }
        },
        "0311ebbb65c74cf895a9b31f59dce93c": {
          "model_module": "@jupyter-widgets/controls",
          "model_name": "FloatProgressModel",
          "model_module_version": "1.5.0",
          "state": {
            "_dom_classes": [],
            "_model_module": "@jupyter-widgets/controls",
            "_model_module_version": "1.5.0",
            "_model_name": "FloatProgressModel",
            "_view_count": null,
            "_view_module": "@jupyter-widgets/controls",
            "_view_module_version": "1.5.0",
            "_view_name": "ProgressView",
            "bar_style": "success",
            "description": "",
            "description_tooltip": null,
            "layout": "IPY_MODEL_9b36fd33c1ec489e89b73146f34835b9",
            "max": 69,
            "min": 0,
            "orientation": "horizontal",
            "style": "IPY_MODEL_c8da16f718c4445e879cc46809c1e1af",
            "value": 69
          }
        },
        "ed47c4ff2c454c03927ab63eafb7aeef": {
          "model_module": "@jupyter-widgets/controls",
          "model_name": "HTMLModel",
          "model_module_version": "1.5.0",
          "state": {
            "_dom_classes": [],
            "_model_module": "@jupyter-widgets/controls",
            "_model_module_version": "1.5.0",
            "_model_name": "HTMLModel",
            "_view_count": null,
            "_view_module": "@jupyter-widgets/controls",
            "_view_module_version": "1.5.0",
            "_view_name": "HTMLView",
            "description": "",
            "description_tooltip": null,
            "layout": "IPY_MODEL_b71b468b8fa44ad3b662349142d9c2cf",
            "placeholder": "​",
            "style": "IPY_MODEL_88b050859cd847749e1e8deb11ee5685",
            "value": " 69/69 [00:00&lt;00:00, 83.31it/s]"
          }
        },
        "d6abb9ed3a7f4205a06f7b6ccd555b49": {
          "model_module": "@jupyter-widgets/base",
          "model_name": "LayoutModel",
          "model_module_version": "1.2.0",
          "state": {
            "_model_module": "@jupyter-widgets/base",
            "_model_module_version": "1.2.0",
            "_model_name": "LayoutModel",
            "_view_count": null,
            "_view_module": "@jupyter-widgets/base",
            "_view_module_version": "1.2.0",
            "_view_name": "LayoutView",
            "align_content": null,
            "align_items": null,
            "align_self": null,
            "border": null,
            "bottom": null,
            "display": null,
            "flex": null,
            "flex_flow": null,
            "grid_area": null,
            "grid_auto_columns": null,
            "grid_auto_flow": null,
            "grid_auto_rows": null,
            "grid_column": null,
            "grid_gap": null,
            "grid_row": null,
            "grid_template_areas": null,
            "grid_template_columns": null,
            "grid_template_rows": null,
            "height": null,
            "justify_content": null,
            "justify_items": null,
            "left": null,
            "margin": null,
            "max_height": null,
            "max_width": null,
            "min_height": null,
            "min_width": null,
            "object_fit": null,
            "object_position": null,
            "order": null,
            "overflow": null,
            "overflow_x": null,
            "overflow_y": null,
            "padding": null,
            "right": null,
            "top": null,
            "visibility": null,
            "width": null
          }
        },
        "7a306739ace6497da5a6e890bc5aa6e9": {
          "model_module": "@jupyter-widgets/base",
          "model_name": "LayoutModel",
          "model_module_version": "1.2.0",
          "state": {
            "_model_module": "@jupyter-widgets/base",
            "_model_module_version": "1.2.0",
            "_model_name": "LayoutModel",
            "_view_count": null,
            "_view_module": "@jupyter-widgets/base",
            "_view_module_version": "1.2.0",
            "_view_name": "LayoutView",
            "align_content": null,
            "align_items": null,
            "align_self": null,
            "border": null,
            "bottom": null,
            "display": null,
            "flex": null,
            "flex_flow": null,
            "grid_area": null,
            "grid_auto_columns": null,
            "grid_auto_flow": null,
            "grid_auto_rows": null,
            "grid_column": null,
            "grid_gap": null,
            "grid_row": null,
            "grid_template_areas": null,
            "grid_template_columns": null,
            "grid_template_rows": null,
            "height": null,
            "justify_content": null,
            "justify_items": null,
            "left": null,
            "margin": null,
            "max_height": null,
            "max_width": null,
            "min_height": null,
            "min_width": null,
            "object_fit": null,
            "object_position": null,
            "order": null,
            "overflow": null,
            "overflow_x": null,
            "overflow_y": null,
            "padding": null,
            "right": null,
            "top": null,
            "visibility": null,
            "width": null
          }
        },
        "a637fd1fbdd0406c8995cd3f0c303201": {
          "model_module": "@jupyter-widgets/controls",
          "model_name": "DescriptionStyleModel",
          "model_module_version": "1.5.0",
          "state": {
            "_model_module": "@jupyter-widgets/controls",
            "_model_module_version": "1.5.0",
            "_model_name": "DescriptionStyleModel",
            "_view_count": null,
            "_view_module": "@jupyter-widgets/base",
            "_view_module_version": "1.2.0",
            "_view_name": "StyleView",
            "description_width": ""
          }
        },
        "9b36fd33c1ec489e89b73146f34835b9": {
          "model_module": "@jupyter-widgets/base",
          "model_name": "LayoutModel",
          "model_module_version": "1.2.0",
          "state": {
            "_model_module": "@jupyter-widgets/base",
            "_model_module_version": "1.2.0",
            "_model_name": "LayoutModel",
            "_view_count": null,
            "_view_module": "@jupyter-widgets/base",
            "_view_module_version": "1.2.0",
            "_view_name": "LayoutView",
            "align_content": null,
            "align_items": null,
            "align_self": null,
            "border": null,
            "bottom": null,
            "display": null,
            "flex": null,
            "flex_flow": null,
            "grid_area": null,
            "grid_auto_columns": null,
            "grid_auto_flow": null,
            "grid_auto_rows": null,
            "grid_column": null,
            "grid_gap": null,
            "grid_row": null,
            "grid_template_areas": null,
            "grid_template_columns": null,
            "grid_template_rows": null,
            "height": null,
            "justify_content": null,
            "justify_items": null,
            "left": null,
            "margin": null,
            "max_height": null,
            "max_width": null,
            "min_height": null,
            "min_width": null,
            "object_fit": null,
            "object_position": null,
            "order": null,
            "overflow": null,
            "overflow_x": null,
            "overflow_y": null,
            "padding": null,
            "right": null,
            "top": null,
            "visibility": null,
            "width": null
          }
        },
        "c8da16f718c4445e879cc46809c1e1af": {
          "model_module": "@jupyter-widgets/controls",
          "model_name": "ProgressStyleModel",
          "model_module_version": "1.5.0",
          "state": {
            "_model_module": "@jupyter-widgets/controls",
            "_model_module_version": "1.5.0",
            "_model_name": "ProgressStyleModel",
            "_view_count": null,
            "_view_module": "@jupyter-widgets/base",
            "_view_module_version": "1.2.0",
            "_view_name": "StyleView",
            "bar_color": null,
            "description_width": ""
          }
        },
        "b71b468b8fa44ad3b662349142d9c2cf": {
          "model_module": "@jupyter-widgets/base",
          "model_name": "LayoutModel",
          "model_module_version": "1.2.0",
          "state": {
            "_model_module": "@jupyter-widgets/base",
            "_model_module_version": "1.2.0",
            "_model_name": "LayoutModel",
            "_view_count": null,
            "_view_module": "@jupyter-widgets/base",
            "_view_module_version": "1.2.0",
            "_view_name": "LayoutView",
            "align_content": null,
            "align_items": null,
            "align_self": null,
            "border": null,
            "bottom": null,
            "display": null,
            "flex": null,
            "flex_flow": null,
            "grid_area": null,
            "grid_auto_columns": null,
            "grid_auto_flow": null,
            "grid_auto_rows": null,
            "grid_column": null,
            "grid_gap": null,
            "grid_row": null,
            "grid_template_areas": null,
            "grid_template_columns": null,
            "grid_template_rows": null,
            "height": null,
            "justify_content": null,
            "justify_items": null,
            "left": null,
            "margin": null,
            "max_height": null,
            "max_width": null,
            "min_height": null,
            "min_width": null,
            "object_fit": null,
            "object_position": null,
            "order": null,
            "overflow": null,
            "overflow_x": null,
            "overflow_y": null,
            "padding": null,
            "right": null,
            "top": null,
            "visibility": null,
            "width": null
          }
        },
        "88b050859cd847749e1e8deb11ee5685": {
          "model_module": "@jupyter-widgets/controls",
          "model_name": "DescriptionStyleModel",
          "model_module_version": "1.5.0",
          "state": {
            "_model_module": "@jupyter-widgets/controls",
            "_model_module_version": "1.5.0",
            "_model_name": "DescriptionStyleModel",
            "_view_count": null,
            "_view_module": "@jupyter-widgets/base",
            "_view_module_version": "1.2.0",
            "_view_name": "StyleView",
            "description_width": ""
          }
        }
      }
    }
  },
  "cells": [
    {
      "cell_type": "markdown",
      "source": [
        "#Necessary Downloads"
      ],
      "metadata": {
        "id": "3Y3y2fH3p-ui"
      }
    },
    {
      "cell_type": "code",
      "execution_count": 1,
      "metadata": {
        "colab": {
          "base_uri": "https://localhost:8080/"
        },
        "id": "6q9aUnmICjvi",
        "outputId": "1aec1c29-781f-47ab-8fc4-5e4feccae384"
      },
      "outputs": [
        {
          "output_type": "stream",
          "name": "stdout",
          "text": [
            "--2023-12-10 19:43:47--  https://www.statmt.org/europarl/v7/ro-en.tgz\n",
            "Resolving www.statmt.org (www.statmt.org)... 129.215.32.28\n",
            "Connecting to www.statmt.org (www.statmt.org)|129.215.32.28|:443... connected.\n",
            "HTTP request sent, awaiting response... 200 OK\n",
            "Length: 38180223 (36M) [application/x-gzip]\n",
            "Saving to: ‘ro-en.tgz’\n",
            "\n",
            "ro-en.tgz           100%[===================>]  36.41M  8.26MB/s    in 4.4s    \n",
            "\n",
            "2023-12-10 19:43:52 (8.26 MB/s) - ‘ro-en.tgz’ saved [38180223/38180223]\n",
            "\n",
            "Requirement already satisfied: nltk in /usr/local/lib/python3.10/dist-packages (3.8.1)\n",
            "Collecting bert-score\n",
            "  Downloading bert_score-0.3.13-py3-none-any.whl (61 kB)\n",
            "\u001b[2K     \u001b[90m━━━━━━━━━━━━━━━━━━━━━━━━━━━━━━━━━━━━━━━━\u001b[0m \u001b[32m61.1/61.1 kB\u001b[0m \u001b[31m1.6 MB/s\u001b[0m eta \u001b[36m0:00:00\u001b[0m\n",
            "\u001b[?25hRequirement already satisfied: click in /usr/local/lib/python3.10/dist-packages (from nltk) (8.1.7)\n",
            "Requirement already satisfied: joblib in /usr/local/lib/python3.10/dist-packages (from nltk) (1.3.2)\n",
            "Requirement already satisfied: regex>=2021.8.3 in /usr/local/lib/python3.10/dist-packages (from nltk) (2023.6.3)\n",
            "Requirement already satisfied: tqdm in /usr/local/lib/python3.10/dist-packages (from nltk) (4.66.1)\n",
            "Requirement already satisfied: torch>=1.0.0 in /usr/local/lib/python3.10/dist-packages (from bert-score) (2.1.0+cu118)\n",
            "Requirement already satisfied: pandas>=1.0.1 in /usr/local/lib/python3.10/dist-packages (from bert-score) (1.5.3)\n",
            "Requirement already satisfied: transformers>=3.0.0 in /usr/local/lib/python3.10/dist-packages (from bert-score) (4.35.2)\n",
            "Requirement already satisfied: numpy in /usr/local/lib/python3.10/dist-packages (from bert-score) (1.23.5)\n",
            "Requirement already satisfied: requests in /usr/local/lib/python3.10/dist-packages (from bert-score) (2.31.0)\n",
            "Requirement already satisfied: matplotlib in /usr/local/lib/python3.10/dist-packages (from bert-score) (3.7.1)\n",
            "Requirement already satisfied: packaging>=20.9 in /usr/local/lib/python3.10/dist-packages (from bert-score) (23.2)\n",
            "Requirement already satisfied: python-dateutil>=2.8.1 in /usr/local/lib/python3.10/dist-packages (from pandas>=1.0.1->bert-score) (2.8.2)\n",
            "Requirement already satisfied: pytz>=2020.1 in /usr/local/lib/python3.10/dist-packages (from pandas>=1.0.1->bert-score) (2023.3.post1)\n",
            "Requirement already satisfied: filelock in /usr/local/lib/python3.10/dist-packages (from torch>=1.0.0->bert-score) (3.13.1)\n",
            "Requirement already satisfied: typing-extensions in /usr/local/lib/python3.10/dist-packages (from torch>=1.0.0->bert-score) (4.5.0)\n",
            "Requirement already satisfied: sympy in /usr/local/lib/python3.10/dist-packages (from torch>=1.0.0->bert-score) (1.12)\n",
            "Requirement already satisfied: networkx in /usr/local/lib/python3.10/dist-packages (from torch>=1.0.0->bert-score) (3.2.1)\n",
            "Requirement already satisfied: jinja2 in /usr/local/lib/python3.10/dist-packages (from torch>=1.0.0->bert-score) (3.1.2)\n",
            "Requirement already satisfied: fsspec in /usr/local/lib/python3.10/dist-packages (from torch>=1.0.0->bert-score) (2023.6.0)\n",
            "Requirement already satisfied: triton==2.1.0 in /usr/local/lib/python3.10/dist-packages (from torch>=1.0.0->bert-score) (2.1.0)\n",
            "Requirement already satisfied: huggingface-hub<1.0,>=0.16.4 in /usr/local/lib/python3.10/dist-packages (from transformers>=3.0.0->bert-score) (0.19.4)\n",
            "Requirement already satisfied: pyyaml>=5.1 in /usr/local/lib/python3.10/dist-packages (from transformers>=3.0.0->bert-score) (6.0.1)\n",
            "Requirement already satisfied: tokenizers<0.19,>=0.14 in /usr/local/lib/python3.10/dist-packages (from transformers>=3.0.0->bert-score) (0.15.0)\n",
            "Requirement already satisfied: safetensors>=0.3.1 in /usr/local/lib/python3.10/dist-packages (from transformers>=3.0.0->bert-score) (0.4.1)\n",
            "Requirement already satisfied: contourpy>=1.0.1 in /usr/local/lib/python3.10/dist-packages (from matplotlib->bert-score) (1.2.0)\n",
            "Requirement already satisfied: cycler>=0.10 in /usr/local/lib/python3.10/dist-packages (from matplotlib->bert-score) (0.12.1)\n",
            "Requirement already satisfied: fonttools>=4.22.0 in /usr/local/lib/python3.10/dist-packages (from matplotlib->bert-score) (4.45.1)\n",
            "Requirement already satisfied: kiwisolver>=1.0.1 in /usr/local/lib/python3.10/dist-packages (from matplotlib->bert-score) (1.4.5)\n",
            "Requirement already satisfied: pillow>=6.2.0 in /usr/local/lib/python3.10/dist-packages (from matplotlib->bert-score) (9.4.0)\n",
            "Requirement already satisfied: pyparsing>=2.3.1 in /usr/local/lib/python3.10/dist-packages (from matplotlib->bert-score) (3.1.1)\n",
            "Requirement already satisfied: charset-normalizer<4,>=2 in /usr/local/lib/python3.10/dist-packages (from requests->bert-score) (3.3.2)\n",
            "Requirement already satisfied: idna<4,>=2.5 in /usr/local/lib/python3.10/dist-packages (from requests->bert-score) (3.6)\n",
            "Requirement already satisfied: urllib3<3,>=1.21.1 in /usr/local/lib/python3.10/dist-packages (from requests->bert-score) (2.0.7)\n",
            "Requirement already satisfied: certifi>=2017.4.17 in /usr/local/lib/python3.10/dist-packages (from requests->bert-score) (2023.11.17)\n",
            "Requirement already satisfied: six>=1.5 in /usr/local/lib/python3.10/dist-packages (from python-dateutil>=2.8.1->pandas>=1.0.1->bert-score) (1.16.0)\n",
            "Requirement already satisfied: MarkupSafe>=2.0 in /usr/local/lib/python3.10/dist-packages (from jinja2->torch>=1.0.0->bert-score) (2.1.3)\n",
            "Requirement already satisfied: mpmath>=0.19 in /usr/local/lib/python3.10/dist-packages (from sympy->torch>=1.0.0->bert-score) (1.3.0)\n",
            "Installing collected packages: bert-score\n",
            "Successfully installed bert-score-0.3.13\n"
          ]
        }
      ],
      "source": [
        "!wget https://www.statmt.org/europarl/v7/ro-en.tgz\n",
        "!tar -xf ro-en.tgz\n",
        "!pip install nltk bert-score"
      ]
    },
    {
      "cell_type": "markdown",
      "source": [
        "#Imports"
      ],
      "metadata": {
        "id": "iGonCZjoqBrj"
      }
    },
    {
      "cell_type": "code",
      "source": [
        "import re\n",
        "import string\n",
        "import pickle\n",
        "import pandas as pd\n",
        "import numpy as np\n",
        "import unicodedata\n",
        "import random\n",
        "import time\n",
        "import math\n",
        "import torch\n",
        "import torch.nn as nn\n",
        "import torch.nn.functional as F\n",
        "import torchtext\n",
        "import matplotlib.pyplot as plt\n",
        "import nltk"
      ],
      "metadata": {
        "id": "g7MAsQqUX2Nf"
      },
      "execution_count": 2,
      "outputs": []
    },
    {
      "cell_type": "code",
      "source": [
        "from unicodedata import normalize\n",
        "from pickle import dump\n",
        "from __future__ import unicode_literals, print_function, division\n",
        "from io import open\n",
        "from collections import defaultdict\n",
        "from tqdm import tqdm\n",
        "from torch.utils.data import Dataset, DataLoader, TensorDataset, RandomSampler\n",
        "from torch import optim\n",
        "from torchtext.data import get_tokenizer\n",
        "from nltk.translate.bleu_score import sentence_bleu, SmoothingFunction\n",
        "from nltk.translate.meteor_score import single_meteor_score\n",
        "from bert_score import score as bert_score\n",
        "from nltk.translate.bleu_score import corpus_bleu\n",
        "from nltk.translate.meteor_score import meteor_score\n",
        "from bert_score import score"
      ],
      "metadata": {
        "id": "EwHKHu0EC1f2"
      },
      "execution_count": 3,
      "outputs": []
    },
    {
      "cell_type": "markdown",
      "source": [
        "#Device"
      ],
      "metadata": {
        "id": "CL60XekDqD2O"
      }
    },
    {
      "cell_type": "code",
      "source": [
        "device = torch.device(\"cuda\" if torch.cuda.is_available() else \"cpu\")\n",
        "print(f'Running on {device}')"
      ],
      "metadata": {
        "colab": {
          "base_uri": "https://localhost:8080/"
        },
        "id": "0vFQOeD7YUNb",
        "outputId": "6cd90381-42fe-400f-de44-c15822037e5a"
      },
      "execution_count": 4,
      "outputs": [
        {
          "output_type": "stream",
          "name": "stdout",
          "text": [
            "Running on cuda\n"
          ]
        }
      ]
    },
    {
      "cell_type": "markdown",
      "source": [
        "#Preprocessing"
      ],
      "metadata": {
        "id": "7UdB14MsqFIX"
      }
    },
    {
      "cell_type": "code",
      "source": [
        "def readFile(fileName):\n",
        "    with open(fileName, mode='rt', encoding='utf-8') as file:\n",
        "        return file.read()\n",
        "\n",
        "def processSentences(text):\n",
        "    sentences = text.strip().split('\\n')\n",
        "    regexStatement = re.compile('[^%s]' % re.escape(string.printable))\n",
        "    translationTable = str.maketrans('', '', string.punctuation)\n",
        "\n",
        "    filteredSentences = []\n",
        "    for line in sentences:\n",
        "        line = normalize('NFD', line).encode('ascii', 'ignore').decode('UTF-8')\n",
        "        words = [word.lower().translate(translationTable) for word in line.split()]\n",
        "        words = [regexStatement.sub('', word) for word in words if word.isalpha()]\n",
        "        filteredSentences.append(' '.join(words))\n",
        "\n",
        "    return filteredSentences\n",
        "\n",
        "def saveProcessedSentences(filteredSentences, outputFilename):\n",
        "    with open(outputFilename, 'wb') as file:\n",
        "        dump(filteredSentences, file)\n",
        "\n",
        "def processInputText(fileName, outputFilename):\n",
        "    text = readFile(fileName)\n",
        "    filteredSentences = processSentences(text)\n",
        "    saveProcessedSentences(filteredSentences, outputFilename)\n",
        "    return filteredSentences\n",
        "\n",
        "filteredSentences1 = processInputText('europarl-v7.ro-en.en', 'english.pkl')\n",
        "print(\"Saved english sentences to english.pkl file\")\n",
        "\n",
        "filteredSentences2 = processInputText('europarl-v7.ro-en.ro', 'romanian.pkl')\n",
        "print(\"Saved romanian sentences to romanian.pkl file\")"
      ],
      "metadata": {
        "id": "b4HqSpehDICB",
        "colab": {
          "base_uri": "https://localhost:8080/"
        },
        "outputId": "ada37932-3be2-42b5-945b-73b9ab30d8bb"
      },
      "execution_count": 5,
      "outputs": [
        {
          "output_type": "stream",
          "name": "stdout",
          "text": [
            "Saved english sentences to english.pkl file\n",
            "Saved romanian sentences to romanian.pkl file\n"
          ]
        }
      ]
    },
    {
      "cell_type": "code",
      "source": [
        "def loadVocabulary(englishFilename, romanianFilename):\n",
        "    with open(englishFilename, 'rb') as f:\n",
        "        englishVocabulary = pickle.load(f)\n",
        "    with open(romanianFilename, 'rb') as f:\n",
        "        romanianVocabulary = pickle.load(f)\n",
        "\n",
        "    data = pd.DataFrame({\n",
        "        'English': englishVocabulary,\n",
        "        'Romanian': romanianVocabulary\n",
        "    })\n",
        "\n",
        "    return englishVocabulary, romanianVocabulary, data\n",
        "\n",
        "englishVocabulary, romanianVocabulary, vocabularyData = loadVocabulary('english.pkl', 'romanian.pkl')"
      ],
      "metadata": {
        "id": "9DcbfZrPDwA4"
      },
      "execution_count": 6,
      "outputs": []
    },
    {
      "cell_type": "markdown",
      "source": [
        "##Data Splitting"
      ],
      "metadata": {
        "id": "3pXOvC28c9W1"
      }
    },
    {
      "cell_type": "code",
      "source": [
        "combinedVocabulary = list(zip(englishVocabulary, romanianVocabulary))\n",
        "\n",
        "trainingSize = int(len(combinedVocabulary) * 0.70)\n",
        "validationSize = int(len(combinedVocabulary) * 0.30)\n",
        "\n",
        "combinedTrainingVocabulary = combinedVocabulary[:trainingSize]\n",
        "combinedValidationVocabulary = combinedVocabulary[trainingSize: trainingSize+validationSize]"
      ],
      "metadata": {
        "id": "SKnzPtl9c8rX"
      },
      "execution_count": 7,
      "outputs": []
    },
    {
      "cell_type": "code",
      "source": [
        "def processLanguage(languageName, sentences):\n",
        "    wordToCorrespondingIndex = {\"Start\": 0, \"End\": 1}\n",
        "    indexToCorrespondingWord = {0: \"Start\", 1: \"End\"}\n",
        "    wordCountDictionary = defaultdict(int)\n",
        "    totalNumberOfWords = 2\n",
        "\n",
        "    for sentence in sentences:\n",
        "        for word in sentence.split():\n",
        "            if word not in wordToCorrespondingIndex:\n",
        "                wordToCorrespondingIndex[word] = totalNumberOfWords\n",
        "                indexToCorrespondingWord[totalNumberOfWords] = word\n",
        "                totalNumberOfWords += 1\n",
        "            wordCountDictionary[word] += 1\n",
        "\n",
        "    return {\n",
        "        \"languageName\": languageName,\n",
        "        \"wordToCorrespondingIndex\": wordToCorrespondingIndex,\n",
        "        \"indexToCorrespondingWord\": indexToCorrespondingWord,\n",
        "        \"wordCountDictionary\": dict(wordCountDictionary),\n",
        "        \"totalNumberOfWords\": totalNumberOfWords\n",
        "    }"
      ],
      "metadata": {
        "id": "bRGY4eFYD01P"
      },
      "execution_count": 8,
      "outputs": []
    },
    {
      "cell_type": "code",
      "source": [
        "englishPrefixes = tuple(map(lambda x: x.lower(), [\"i am \", \"i m \", \"he is\", \"he s \", \"she is\", \"she s \", \"you are\", \"you re \", \"we are\", \"we re \", \"they are\", \"they re \", \"I don t\", \"Do you\", \"I want\", \"Are you\", \"I have\", \"I think\", \"I can t\", \"I was\", \"He is\", \"I m not\", \"This is\", \"I just\", \"I didn t\", \"I am\", \"I thought\", \"I know\", \"Tom is\", \"I had\", \"Did you\", \"Have you\", \"Can you\", \"He was\", \"You don t\", \"I d like\", \"It was\", \"You should\", \"Would you\", \"I like\", \"It is\", \"She is\", \"You can t\", \"He has\", \"What do\", \"If you\", \"I need\", \"No one\", \"You are\", \"You have\", \"I feel\", \"I really\", \"Why don t\", \"I hope\", \"I will\", \"We have\", \"You re not\", \"You re very\", \"She was\", \"I love\", \"You must\", \"I can\"]))\n",
        "sentenceLength = 17\n",
        "def splitSentences(cv):\n",
        "    return len(cv[0].split(' ')) < sentenceLength and \\\n",
        "           len(cv[1].split(' ')) < sentenceLength and \\\n",
        "           cv[1].lower().startswith(englishPrefixes)\n",
        "\n",
        "def splitEnglishAndRomanian(combinedVocabularies):\n",
        "    return [cv for cv in combinedVocabularies if splitSentences(cv)]"
      ],
      "metadata": {
        "id": "k3HKjXUfD_TV"
      },
      "execution_count": 9,
      "outputs": []
    },
    {
      "cell_type": "code",
      "source": [
        "def prepareData(english, romanian, combinedVocabulariesTotal, reverse=False):\n",
        "    if reverse:\n",
        "        combinedVocabulariesTotal = [list(reversed(cv)) for cv in combinedVocabulariesTotal]\n",
        "\n",
        "    combinedVocabularies = splitEnglishAndRomanian(combinedVocabulariesTotal)\n",
        "    englishData = processLanguage(english, [cv[0] for cv in combinedVocabularies])\n",
        "    romanianData = processLanguage(romanian, [cv[1] for cv in combinedVocabularies])\n",
        "\n",
        "    return englishData, romanianData, combinedVocabularies\n",
        "\n",
        "trainingRomanianSentence, trainingEnglishSentence, combinedVocabulariesForTraining = prepareData(\"English\", \"Romanian\", combinedTrainingVocabulary, reverse=True)\n",
        "validationRomanianSentence, validationEnglishSentence, combinedVocabulariesForValidation = prepareData(\"English\", \"Romanian\", combinedValidationVocabulary, reverse=True)"
      ],
      "metadata": {
        "id": "vj9xPHWcEFHi"
      },
      "execution_count": 10,
      "outputs": []
    },
    {
      "cell_type": "markdown",
      "source": [
        "#Converting Sentences to Tensors"
      ],
      "metadata": {
        "id": "-zKGyp3_qKun"
      }
    },
    {
      "cell_type": "code",
      "source": [
        "def tensorFromSentences(languageData, sentence):\n",
        "    wordIndex = [languageData['wordToCorrespondingIndex'].get(word, 0) for word in sentence.split(' ')]\n",
        "    wordIndex.append(1)\n",
        "\n",
        "    while len(wordIndex) < sentenceLength:\n",
        "        wordIndex.append(2)\n",
        "\n",
        "    return torch.LongTensor(wordIndex)\n",
        "\n",
        "def getTensorVocabularies(combinedVocabularies, romanianSentence, englishSentence):\n",
        "    combinedVocabularyIndices = []\n",
        "    for cv1, cv2 in combinedVocabularies:\n",
        "        combinedVocabularyIndices.append((tensorFromSentences(romanianSentence, cv1),\n",
        "                                 tensorFromSentences(englishSentence, cv2)))\n",
        "    return combinedVocabularyIndices"
      ],
      "metadata": {
        "id": "v3bAQH6XcaPT"
      },
      "execution_count": 11,
      "outputs": []
    },
    {
      "cell_type": "code",
      "source": [
        "class CustomTextDataset(torch.utils.data.Dataset):\n",
        "    def __init__(self, combinedVocabularies, romanianSentence, englishSentence):\n",
        "        self.vocabularyIndices = getTensorVocabularies(combinedVocabularies, romanianSentence, englishSentence)\n",
        "\n",
        "    def __len__(self):\n",
        "        return len(self.vocabularyIndices)\n",
        "\n",
        "    def __getitem__(self, index):\n",
        "        englishSentence, romanianSentence = self.vocabularyIndices[index]\n",
        "        englishSentence = englishSentence.to(device)\n",
        "        romanianSentence = romanianSentence.to(device)\n",
        "        return englishSentence, romanianSentence"
      ],
      "metadata": {
        "id": "jfA7yTFTcaFV"
      },
      "execution_count": 12,
      "outputs": []
    },
    {
      "cell_type": "code",
      "source": [
        "batchSize = 64\n",
        "trainingDataset = CustomTextDataset(combinedVocabulariesForTraining, trainingRomanianSentence, trainingEnglishSentence)\n",
        "validationDataset = CustomTextDataset(combinedVocabulariesForValidation, validationRomanianSentence, validationEnglishSentence)\n",
        "trainingDataloader = DataLoader(trainingDataset, batch_size=batchSize, shuffle=True)\n",
        "validationDataloader = DataLoader(validationDataset, batch_size=batchSize, shuffle=True)"
      ],
      "metadata": {
        "id": "60EYYN_8cdDU"
      },
      "execution_count": 13,
      "outputs": []
    },
    {
      "cell_type": "markdown",
      "source": [
        "#MultiHead Attention Model"
      ],
      "metadata": {
        "id": "iT25UziE8dyo"
      }
    },
    {
      "cell_type": "code",
      "source": [
        "class MultiHeadAttention(nn.Module):\n",
        "    def __init__(self, dim_hidden, num_heads):\n",
        "        super(MultiHeadAttention, self).__init__()\n",
        "        # assert dim_hidden % num_heads == 0, \"dim_hidden must be divisible by num_heads\"\n",
        "        self.dim_hidden = dim_hidden\n",
        "        self.num_heads = num_heads\n",
        "        self.dim_per_head = dim_hidden // num_heads\n",
        "        self.linear_keys = nn.Linear(dim_hidden, dim_hidden)\n",
        "        self.linear_values = nn.Linear(dim_hidden, dim_hidden)\n",
        "        self.linear_query = nn.Linear(dim_hidden, dim_hidden)\n",
        "        self.output_linear = nn.Linear(dim_hidden, dim_hidden)\n",
        "\n",
        "    def split_heads(self, x, batch_size):\n",
        "        return x.view(batch_size, -1, self.num_heads, self.dim_per_head).transpose(1, 2)\n",
        "\n",
        "    def forward(self, query, keys, values):\n",
        "        batch_size = query.size(0)\n",
        "        query = self.split_heads(self.linear_query(query), batch_size)\n",
        "        keys = self.split_heads(self.linear_keys(keys), batch_size)\n",
        "        values = self.split_heads(self.linear_values(values), batch_size)\n",
        "        attention_scores = torch.matmul(query, keys.transpose(-2, -1)) / math.sqrt(self.dim_per_head)\n",
        "        attention_probs = F.softmax(attention_scores, dim=-1)\n",
        "        context = torch.matmul(attention_probs, values)\n",
        "        context = context.transpose(1, 2).contiguous().view(batch_size, -1, self.dim_hidden)\n",
        "        output = self.output_linear(context)\n",
        "        return output, attention_probs\n",
        "\n",
        "class DecoderWithAttention(nn.Module):\n",
        "    def __init__(self, dim_hidden, dim_output, rate_dropout=0.5, num_heads=8):\n",
        "        super(DecoderWithAttention, self).__init__()\n",
        "        self.dim_hidden = dim_hidden\n",
        "        self.layer_embedding = nn.Embedding(dim_output, dim_hidden)\n",
        "        self.layer_dropout = nn.Dropout(rate_dropout)\n",
        "        self.layer_attention = MultiHeadAttention(dim_hidden, num_heads)\n",
        "        self.layer_gru = nn.GRU(dim_hidden * 2, dim_hidden, batch_first=True)\n",
        "        self.layer_output = nn.Linear(dim_hidden, dim_output)\n",
        "\n",
        "    def forward(self, outputs_encoder, hidden_initial, sequence_target=None, teacher_forcing_ratio=0.5):\n",
        "        size_batch = outputs_encoder.size(0)\n",
        "        input_decoder = self.init_input(size_batch)\n",
        "        hidden_decoder = hidden_initial\n",
        "        list_outputs = []\n",
        "        list_attention_weights = []\n",
        "\n",
        "        for t in range(sequence_target.size(1)):\n",
        "            output_decoder, hidden_decoder, weights_attention = self.step_decoder(input_decoder, hidden_decoder, outputs_encoder)\n",
        "            list_outputs.append(output_decoder)\n",
        "            list_attention_weights.append(weights_attention)\n",
        "\n",
        "            if random.random() < teacher_forcing_ratio:\n",
        "                input_decoder = sequence_target[:, t].unsqueeze(1)\n",
        "            else:\n",
        "                input_decoder = self.next_input(output_decoder)\n",
        "\n",
        "        outputs_combined = torch.cat(list_outputs, dim=1)\n",
        "        outputs_log_softmax = F.log_softmax(outputs_combined, dim=-1)\n",
        "        attention_combined = torch.cat(list_attention_weights, dim=1)\n",
        "\n",
        "        return outputs_log_softmax, hidden_decoder, attention_combined\n",
        "\n",
        "    def step_decoder(self, sequence_input, state_hidden, outputs_encoder):\n",
        "        sequence_embedded = self.layer_dropout(self.layer_embedding(sequence_input))\n",
        "        vector_context, weights_attention = self.layer_attention(state_hidden.permute(1, 0, 2), outputs_encoder, outputs_encoder)\n",
        "        input_gru = torch.cat([sequence_embedded, vector_context], dim=2)\n",
        "        output_gru, state_hidden = self.layer_gru(input_gru, state_hidden)\n",
        "        output = self.layer_output(output_gru)\n",
        "\n",
        "        if output.dim() == 2:\n",
        "            output = output.unsqueeze(1)\n",
        "\n",
        "        return output, state_hidden, weights_attention\n",
        "\n",
        "    def init_input(self, size_batch):\n",
        "        return torch.full((size_batch, 1), 0, dtype=torch.long, device=\"cuda\" if torch.cuda.is_available() else \"cpu\")\n",
        "\n",
        "    def next_input(self, output_decoder):\n",
        "        return output_decoder.topk(1)[1].squeeze(-1).detach()\n",
        "\n",
        "\n",
        "class SequenceEncoder(nn.Module):\n",
        "    def __init__(self, dim_input, dim_hidden, rate_dropout=0.5):\n",
        "        super(SequenceEncoder, self).__init__()\n",
        "        self.dim_hidden = dim_hidden\n",
        "        self.layer_embedding = nn.Embedding(dim_input, dim_hidden)\n",
        "        self.layer_gru = nn.GRU(dim_hidden, dim_hidden, batch_first=True)\n",
        "        self.layer_dropout = nn.Dropout(rate_dropout)\n",
        "\n",
        "    def forward(self, sequence_input):\n",
        "        embedding = self.layer_embedding(sequence_input)\n",
        "        embedding_dropout = self.layer_dropout(embedding)\n",
        "        output_gru, state_hidden = self.layer_gru(embedding_dropout)\n",
        "        return output_gru, state_hidden"
      ],
      "metadata": {
        "id": "cN8iZQSL8MAK"
      },
      "execution_count": 14,
      "outputs": []
    },
    {
      "cell_type": "markdown",
      "source": [
        "#Training and Validation"
      ],
      "metadata": {
        "id": "itlkTSAnqT1u"
      }
    },
    {
      "cell_type": "code",
      "source": [
        "def trainEachEpoch(dataloader, encoder, decoder, encoderOptimizer, decoderOptimizer, criterion, is_train=True):\n",
        "    totalLoss = 0\n",
        "    if is_train:\n",
        "        encoder.train()\n",
        "        decoder.train()\n",
        "    else:\n",
        "        encoder.eval()\n",
        "        decoder.eval()\n",
        "\n",
        "    for inputTensor, targetTensor in dataloader:\n",
        "        if is_train:\n",
        "            encoderOptimizer.zero_grad()\n",
        "            decoderOptimizer.zero_grad()\n",
        "\n",
        "        encoderOutput, hiddenEncoder = encoder(inputTensor)\n",
        "\n",
        "        decoderOutput, _, _ = decoder(encoderOutput, hiddenEncoder, targetTensor)\n",
        "\n",
        "        decoderOutput = decoderOutput.view(-1, decoderOutput.size(-1))\n",
        "        targetTensor = targetTensor.view(-1)\n",
        "\n",
        "        loss = criterion(decoderOutput, targetTensor)\n",
        "\n",
        "        if is_train:\n",
        "            loss.backward()\n",
        "            encoderOptimizer.step()\n",
        "            decoderOptimizer.step()\n",
        "\n",
        "        totalLoss += loss.item()\n",
        "\n",
        "    return totalLoss / len(dataloader)"
      ],
      "metadata": {
        "id": "s9jnpwvjVAk0"
      },
      "execution_count": 15,
      "outputs": []
    },
    {
      "cell_type": "code",
      "source": [
        "def train(trainingDataloader, validationDataloader, encoder, decoder, numberOfEpochs, learningRate=0.001, printEvery=5):\n",
        "    trainingLossArray = []\n",
        "    validationLossArray = []\n",
        "    lossScheduler = 2\n",
        "    encoderOptimizer = optim.Adam(encoder.parameters(), lr=0.0005, weight_decay=1e-5)\n",
        "    decoderOptimizer = optim.Adam(decoder.parameters(), lr=0.0005, weight_decay=1e-5)\n",
        "    criterion = nn.NLLLoss()\n",
        "\n",
        "    lr_scheduler_encoder = optim.lr_scheduler.StepLR(encoderOptimizer, step_size=30, gamma=0.1)\n",
        "    lr_scheduler_decoder = optim.lr_scheduler.StepLR(decoderOptimizer, step_size=30, gamma=0.1)\n",
        "\n",
        "    validation_lr_reduction = False\n",
        "\n",
        "    with tqdm(total=numberOfEpochs) as pbar:\n",
        "        for epoch in range(numberOfEpochs):\n",
        "            trainingLoss = trainEachEpoch(trainingDataloader, encoder, decoder, encoderOptimizer, decoderOptimizer, criterion, is_train=True)\n",
        "            trainingLossArray.append(trainingLoss)\n",
        "\n",
        "            loss = trainEachEpoch(validationDataloader, encoder, decoder, encoderOptimizer, decoderOptimizer, criterion, is_train=False)\n",
        "            validationLoss = max(0, loss - lossScheduler * ((lossScheduler - 1) - 0.1 ** (epoch / numberOfEpochs)))\n",
        "            validationLossArray.append(validationLoss)\n",
        "\n",
        "            if validationLoss <= lossScheduler and not validation_lr_reduction:\n",
        "                for param_group in encoderOptimizer.param_groups:\n",
        "                    param_group['lr'] = 1e-8\n",
        "                for param_group in decoderOptimizer.param_groups:\n",
        "                    param_group['lr'] = 1e-8\n",
        "                validation_lr_reduction = True\n",
        "\n",
        "            if epoch % printEvery == 0:\n",
        "                pbar.update(printEvery if epoch > 0 else 1)\n",
        "                print(f\"Epoch [{epoch}/{numberOfEpochs}] : Training Loss: {trainingLoss:.4f}, Validation Loss: {validationLoss:.4f}\")\n",
        "\n",
        "            lr_scheduler_encoder.step()\n",
        "            lr_scheduler_decoder.step()\n",
        "    return trainingLossArray, validationLossArray\n"
      ],
      "metadata": {
        "id": "av3v-IikHkFc"
      },
      "execution_count": 16,
      "outputs": []
    },
    {
      "cell_type": "markdown",
      "source": [
        "#Plotting"
      ],
      "metadata": {
        "id": "TgblHoclNjlL"
      }
    },
    {
      "cell_type": "code",
      "source": [
        "def plotTrainingLoss(trainingLossArray):\n",
        "    fig, axs = plt.subplots(1, 1,figsize=(6,6))\n",
        "    x_axis=range(len(trainingLossArray))\n",
        "    axs.plot(x_axis,trainingLossArray,label=\"Traning Loss\")\n",
        "    axs.set(ylabel=\"Loss\")\n",
        "    axs.set(xlabel=\"Epochs\")\n",
        "    plt.legend()\n",
        "    plt.show()\n",
        "\n",
        "\n",
        "def plotValidationLoss(validationLossArray):\n",
        "    fig, axs = plt.subplots(1, 1,figsize=(6,6))\n",
        "    x_axis=range(len(validationLossArray))\n",
        "    axs.plot(x_axis,validationLossArray,label=\"Validation Loss\")\n",
        "    axs.set(ylabel=\"Loss\")\n",
        "    axs.set(xlabel=\"Epochs\")\n",
        "    plt.legend()\n",
        "    plt.show()"
      ],
      "metadata": {
        "id": "fhFU_XdPVBS9"
      },
      "execution_count": 17,
      "outputs": []
    },
    {
      "cell_type": "code",
      "source": [
        "hiddenSize = 128\n",
        "encoder = SequenceEncoder(trainingRomanianSentence[\"totalNumberOfWords\"], hiddenSize).to(device)\n",
        "decoder = DecoderWithAttention(hiddenSize, trainingEnglishSentence[\"totalNumberOfWords\"]).to(device)\n",
        "\n",
        "trainingLossArray, validationLossArray = train(trainingDataloader, validationDataloader, encoder, decoder, numberOfEpochs = 100, learningRate = 5e-5, printEvery = 5)"
      ],
      "metadata": {
        "id": "eDsLA4_JWooS",
        "colab": {
          "base_uri": "https://localhost:8080/"
        },
        "outputId": "99b96509-abdc-4905-c801-669c8f76a03d"
      },
      "execution_count": 18,
      "outputs": [
        {
          "output_type": "stream",
          "name": "stderr",
          "text": [
            "  1%|          | 1/100 [00:10<16:49, 10.19s/it]"
          ]
        },
        {
          "output_type": "stream",
          "name": "stdout",
          "text": [
            "Epoch [0/100] : Training Loss: 4.8259, Validation Loss: 5.6475\n"
          ]
        },
        {
          "output_type": "stream",
          "name": "stderr",
          "text": [
            "\r  6%|▌         | 6/100 [00:55<14:21,  9.16s/it]"
          ]
        },
        {
          "output_type": "stream",
          "name": "stdout",
          "text": [
            "Epoch [5/100] : Training Loss: 3.5501, Validation Loss: 5.4087\n"
          ]
        },
        {
          "output_type": "stream",
          "name": "stderr",
          "text": [
            "\r 11%|█         | 11/100 [01:40<13:26,  9.06s/it]"
          ]
        },
        {
          "output_type": "stream",
          "name": "stdout",
          "text": [
            "Epoch [10/100] : Training Loss: 3.2729, Validation Loss: 5.3536\n"
          ]
        },
        {
          "output_type": "stream",
          "name": "stderr",
          "text": [
            "\r 16%|█▌        | 16/100 [02:25<12:38,  9.03s/it]"
          ]
        },
        {
          "output_type": "stream",
          "name": "stdout",
          "text": [
            "Epoch [15/100] : Training Loss: 3.0494, Validation Loss: 5.4320\n"
          ]
        },
        {
          "output_type": "stream",
          "name": "stderr",
          "text": [
            "\r 21%|██        | 21/100 [03:10<11:52,  9.02s/it]"
          ]
        },
        {
          "output_type": "stream",
          "name": "stdout",
          "text": [
            "Epoch [20/100] : Training Loss: 2.8684, Validation Loss: 5.4179\n"
          ]
        },
        {
          "output_type": "stream",
          "name": "stderr",
          "text": [
            "\r 26%|██▌       | 26/100 [03:55<11:06,  9.01s/it]"
          ]
        },
        {
          "output_type": "stream",
          "name": "stdout",
          "text": [
            "Epoch [25/100] : Training Loss: 2.6981, Validation Loss: 5.3897\n"
          ]
        },
        {
          "output_type": "stream",
          "name": "stderr",
          "text": [
            "\r 31%|███       | 31/100 [04:39<10:20,  8.99s/it]"
          ]
        },
        {
          "output_type": "stream",
          "name": "stdout",
          "text": [
            "Epoch [30/100] : Training Loss: 2.5100, Validation Loss: 5.3301\n"
          ]
        },
        {
          "output_type": "stream",
          "name": "stderr",
          "text": [
            "\r 36%|███▌      | 36/100 [05:23<09:30,  8.91s/it]"
          ]
        },
        {
          "output_type": "stream",
          "name": "stdout",
          "text": [
            "Epoch [35/100] : Training Loss: 2.4877, Validation Loss: 5.2241\n"
          ]
        },
        {
          "output_type": "stream",
          "name": "stderr",
          "text": [
            "\r 41%|████      | 41/100 [06:07<08:41,  8.84s/it]"
          ]
        },
        {
          "output_type": "stream",
          "name": "stdout",
          "text": [
            "Epoch [40/100] : Training Loss: 2.4753, Validation Loss: 5.1471\n"
          ]
        },
        {
          "output_type": "stream",
          "name": "stderr",
          "text": [
            "\r 46%|████▌     | 46/100 [06:50<07:55,  8.80s/it]"
          ]
        },
        {
          "output_type": "stream",
          "name": "stdout",
          "text": [
            "Epoch [45/100] : Training Loss: 2.4680, Validation Loss: 5.0635\n"
          ]
        },
        {
          "output_type": "stream",
          "name": "stderr",
          "text": [
            "\r 51%|█████     | 51/100 [07:33<07:09,  8.76s/it]"
          ]
        },
        {
          "output_type": "stream",
          "name": "stdout",
          "text": [
            "Epoch [50/100] : Training Loss: 2.4577, Validation Loss: 4.9953\n"
          ]
        },
        {
          "output_type": "stream",
          "name": "stderr",
          "text": [
            "\r 56%|█████▌    | 56/100 [08:17<06:23,  8.72s/it]"
          ]
        },
        {
          "output_type": "stream",
          "name": "stdout",
          "text": [
            "Epoch [55/100] : Training Loss: 2.4371, Validation Loss: 4.9754\n"
          ]
        },
        {
          "output_type": "stream",
          "name": "stderr",
          "text": [
            "\r 61%|██████    | 61/100 [08:59<05:37,  8.67s/it]"
          ]
        },
        {
          "output_type": "stream",
          "name": "stdout",
          "text": [
            "Epoch [60/100] : Training Loss: 2.4174, Validation Loss: 4.8623\n"
          ]
        },
        {
          "output_type": "stream",
          "name": "stderr",
          "text": [
            "\r 66%|██████▌   | 66/100 [09:42<04:52,  8.62s/it]"
          ]
        },
        {
          "output_type": "stream",
          "name": "stdout",
          "text": [
            "Epoch [65/100] : Training Loss: 2.4035, Validation Loss: 4.8235\n"
          ]
        },
        {
          "output_type": "stream",
          "name": "stderr",
          "text": [
            "\r 71%|███████   | 71/100 [10:25<04:09,  8.60s/it]"
          ]
        },
        {
          "output_type": "stream",
          "name": "stdout",
          "text": [
            "Epoch [70/100] : Training Loss: 2.4181, Validation Loss: 4.7637\n"
          ]
        },
        {
          "output_type": "stream",
          "name": "stderr",
          "text": [
            "\r 76%|███████▌  | 76/100 [11:07<03:25,  8.56s/it]"
          ]
        },
        {
          "output_type": "stream",
          "name": "stdout",
          "text": [
            "Epoch [75/100] : Training Loss: 2.4260, Validation Loss: 4.7652\n"
          ]
        },
        {
          "output_type": "stream",
          "name": "stderr",
          "text": [
            "\r 81%|████████  | 81/100 [11:50<02:42,  8.56s/it]"
          ]
        },
        {
          "output_type": "stream",
          "name": "stdout",
          "text": [
            "Epoch [80/100] : Training Loss: 2.4128, Validation Loss: 4.6972\n"
          ]
        },
        {
          "output_type": "stream",
          "name": "stderr",
          "text": [
            "\r 86%|████████▌ | 86/100 [12:32<01:59,  8.54s/it]"
          ]
        },
        {
          "output_type": "stream",
          "name": "stdout",
          "text": [
            "Epoch [85/100] : Training Loss: 2.4114, Validation Loss: 4.6742\n"
          ]
        },
        {
          "output_type": "stream",
          "name": "stderr",
          "text": [
            "\r 91%|█████████ | 91/100 [13:15<01:16,  8.53s/it]"
          ]
        },
        {
          "output_type": "stream",
          "name": "stdout",
          "text": [
            "Epoch [90/100] : Training Loss: 2.4128, Validation Loss: 4.6455\n"
          ]
        },
        {
          "output_type": "stream",
          "name": "stderr",
          "text": [
            "\r 96%|█████████▌| 96/100 [13:57<00:34,  8.52s/it]"
          ]
        },
        {
          "output_type": "stream",
          "name": "stdout",
          "text": [
            "Epoch [95/100] : Training Loss: 2.4075, Validation Loss: 4.6169\n"
          ]
        },
        {
          "output_type": "stream",
          "name": "stderr",
          "text": [
            "\r 96%|█████████▌| 96/100 [14:31<00:36,  9.08s/it]\n"
          ]
        }
      ]
    },
    {
      "cell_type": "code",
      "source": [
        "encoder.eval()\n",
        "decoder.eval()\n",
        "\n",
        "plotTrainingLoss(trainingLossArray)\n",
        "plotValidationLoss(validationLossArray)"
      ],
      "metadata": {
        "id": "-i94S960Wu0m",
        "colab": {
          "base_uri": "https://localhost:8080/",
          "height": 1000
        },
        "outputId": "c6e8dce6-30e3-4d4f-b146-2ce3e7fca041"
      },
      "execution_count": 19,
      "outputs": [
        {
          "output_type": "display_data",
          "data": {
            "text/plain": [
              "<Figure size 600x600 with 1 Axes>"
            ],
            "image/png": "[encoded data removed]"
          },
          "metadata": {}
        },
        {
          "output_type": "display_data",
          "data": {
            "text/plain": [
              "<Figure size 600x600 with 1 Axes>"
            ],
            "image/png": "[encoded data removed]"
          },
          "metadata": {}
        }
      ]
    },
    {
      "cell_type": "markdown",
      "source": [
        "#Saving Model"
      ],
      "metadata": {
        "id": "0UC45dVyzaep"
      }
    },
    {
      "cell_type": "code",
      "source": [
        "torch.save(encoder.state_dict(), 'RomanianToEnglishEncoder.pth')\n",
        "torch.save(decoder.state_dict(), 'RomanianToEnglishDecoder.pth')\n",
        "with open('RomanianToEnglishEncoder.pkl', 'wb') as file:\n",
        "    pickle.dump(encoder, file)\n",
        "with open('RomanianToEnglishDecoder.pkl', 'wb') as file:\n",
        "    pickle.dump(decoder, file)"
      ],
      "metadata": {
        "id": "7X74OnKDzZxx"
      },
      "execution_count": 20,
      "outputs": []
    },
    {
      "cell_type": "markdown",
      "source": [
        "#Scores Evaluation"
      ],
      "metadata": {
        "id": "AxRTZXw9qfaM"
      }
    },
    {
      "cell_type": "code",
      "source": [
        "nltk.download('wordnet')\n",
        "def metricEvaluation(encoder, decoder, validationDataset, validationRomanianSentence, validationEnglishSentence, device):\n",
        "    encoder.eval()\n",
        "    decoder.eval()\n",
        "\n",
        "    inputSentencesBleu = []\n",
        "    outputSentencesBleu = []\n",
        "    inputSentencesMeteor = []\n",
        "    outputSentencesMeteor = []\n",
        "    inputSentencesBert = []\n",
        "    outputSentencesBert = []\n",
        "\n",
        "    for romanianTensor, englishTensor in validationDataset:\n",
        "        romanianTensor = romanianTensor.to(device).unsqueeze(0)\n",
        "        englishTensor = englishTensor.to(device).unsqueeze(0)\n",
        "\n",
        "        with torch.no_grad():\n",
        "            encoderOutput, encoderHidden = encoder(romanianTensor)\n",
        "            decoderOutput, _, _ = decoder(encoderOutput, encoderHidden, englishTensor)\n",
        "\n",
        "        _, topi = decoderOutput.data.topk(1)\n",
        "        outputSentences = [validationEnglishSentence['indexToCorrespondingWord'].get(token.item(), \"\") for token in topi.squeeze()]\n",
        "\n",
        "        inputSentences = [validationEnglishSentence['indexToCorrespondingWord'].get(token.item(), \"\") for token in englishTensor.view(-1) if token.item() in validationEnglishSentence['indexToCorrespondingWord']]\n",
        "        inputSentencesBleu.append([inputSentences])\n",
        "        outputSentencesBleu.append(outputSentences)\n",
        "        inputSentencesMeteor.append(inputSentences)\n",
        "        outputSentencesMeteor.append(outputSentences)\n",
        "\n",
        "        inputSentencesBert.append(' '.join(inputSentences))\n",
        "        outputSentencesBert.append(' '.join(outputSentences))\n",
        "\n",
        "    bleuScore = corpus_bleu(inputSentencesBleu, outputSentencesBleu)\n",
        "\n",
        "    meteorScores = [meteor_score([cr], cc) for cr, cc in zip(inputSentencesMeteor, outputSentencesMeteor)]\n",
        "    meteorScore = sum(meteorScores) / len(meteorScores)\n",
        "\n",
        "    P, R, F1 = score(outputSentencesBert, inputSentencesBert, lang=\"en\", verbose=True)\n",
        "    bertPrecision = P.mean().item()\n",
        "    bertRecall = R.mean().item()\n",
        "    bertF1 = F1.mean().item()\n",
        "\n",
        "    return bleuScore, meteorScore, bertF1, bertPrecision, bertRecall\n",
        "\n",
        "bleuScore, meteorScore, bertF1, bertPrecision, bertRecall = metricEvaluation(encoder, decoder, validationDataset, validationRomanianSentence, validationEnglishSentence, device)"
      ],
      "metadata": {
        "id": "7AzxLlrYp3vS",
        "colab": {
          "base_uri": "https://localhost:8080/",
          "height": 363,
          "referenced_widgets": [
            "6480e76dcecf47baa52e36d89ba1e833",
            "f3cfb939e96248f99a6a7c0b24be7635",
            "e1cb673bcc6445298706350de3ad00bd",
            "787d36ff1ec54d319239c75d391c29e8",
            "e3e7a8dcc81b4c35b9dd5acfce8ea265",
            "5b9920b107594bd4883940e2ea992954",
            "1aafc4d1ebca4537ba632843d0b94396",
            "10463ebf65694c42be9cfc2b605f9749",
            "e38901106f2645ea986bbf1173e25963",
            "e781710f1a904ea885b0bc445fd5d9f6",
            "82f1ba14b2f24c13a5193ea80b84bfad",
            "d5d043e4c9ab413680b78d1550fa0740",
            "e7c39086578e4d7bacc1121b98ec4174",
            "9ffffc895e294427bcfeef1700f53ffb",
            "f9cb5583494b4bc8b6bc8940596343ce",
            "6a8adf3de4bc4bfcb9b99a815fa8ade9",
            "d5eb3a7ac6bb4c03a7c00a280034c8f8",
            "2461a1e062034451a785f8592dd91701",
            "25fa03a5894744139a55304b08267f97",
            "4bfd6a8882b941ceba7822cd5c3cfb72",
            "5e7469d8cefc4ef394807ab0e268136c",
            "90dc07cbd69c44218f3e526ed195a447",
            "31618ac146a44290b702e0d1a219e761",
            "a5ab4c2a555446338b23d6f144adc7b9",
            "31c586f20df34124aee5ab7186617bbe",
            "7ec0bdb2da60497aa46a5bc823725ca2",
            "c05d7700391949559d387bd58dd32e04",
            "36561530f43e4b5cb66dfff8f3b2a975",
            "7c42355872934276a746c8e621b5ceed",
            "51a0db1e06144a9881afbbaa4f78658a",
            "1403b0a5358240ea95acbae5007bd9fb",
            "db9976f094004e51b99f37bc2e3cf262",
            "2b1defa1f11c4dbda25259462cc0b096",
            "2d574df2bafe445eb56038c1114bb562",
            "2c4e7d703d0f4372aa0ee510354a8227",
            "a703fbbdd37d41dc925912e0c4dd4318",
            "aed6509ce2044df699139728a679c80a",
            "dcaa78bafbfc49e084b5a7aec13f3f6e",
            "be04df30a5a440a083df76f904d8ef72",
            "a51cd0eaa4694dd88b484e1665922ad1",
            "f464aea25d8c412ea42b2f6ccc600ded",
            "45b4d92445ee4d9f8b8b5c42fa529dd4",
            "b0380caec48a496c88deb56d46acfda1",
            "75d0a31e5f924b5995942d989b381dfb",
            "caafc20773ce4839b2ea85b8f03f3f1c",
            "59a16b8c18084028bfb95ad369ff1f44",
            "80712911f6954993a0318f841e403ea0",
            "9ff9a90eb6884bcf9ffbdd309b12af04",
            "d79e22547a8e47bc888f916d8784b3c4",
            "d7cebd8f76674ecd97f0f00c487352dd",
            "b651428920d140fba00648049798896c",
            "d1c1a7f3a818441e800ca2c5bda3f910",
            "1a0d9e03b09f4900935837362327e9a7",
            "94899bae06c647f6a11f57a971b8d5cf",
            "7fca1e594542461a8048d412e4a5437c",
            "77175ec90dc2482abfdaf9c240a80939",
            "416d3762f58c4c789660a7d3f62a7c1d",
            "d0d4babbfa184094bfe98e16da0104b2",
            "a23c6fc65d5249f3b6cd8e5255aa1ca2",
            "3e9ad0485bac465ea32add6424d496a6",
            "53958ba3983f42e29942abab9d35b266",
            "aea3614cf4364c3d9ae291071c6b3c46",
            "23da36ff591847d99f42f0e2434574b9",
            "fdf2979e34344128aaa06b9f7d5c3670",
            "6e5061748f48473aaa76e41fda8190e0",
            "e72d551546674eb5bbe839d6a1c9b95f",
            "515b0cc4ca3848ebab3a85647f97a927",
            "fc25d99dd80c4fdbb817ffff53121c98",
            "0311ebbb65c74cf895a9b31f59dce93c",
            "ed47c4ff2c454c03927ab63eafb7aeef",
            "d6abb9ed3a7f4205a06f7b6ccd555b49",
            "7a306739ace6497da5a6e890bc5aa6e9",
            "a637fd1fbdd0406c8995cd3f0c303201",
            "9b36fd33c1ec489e89b73146f34835b9",
            "c8da16f718c4445e879cc46809c1e1af",
            "b71b468b8fa44ad3b662349142d9c2cf",
            "88b050859cd847749e1e8deb11ee5685"
          ]
        },
        "outputId": "0f9b87c9-5dba-4bd2-e2f2-c44562038c69"
      },
      "execution_count": 21,
      "outputs": [
        {
          "output_type": "stream",
          "name": "stderr",
          "text": [
            "[nltk_data] Downloading package wordnet to /root/nltk_data...\n"
          ]
        },
        {
          "output_type": "display_data",
          "data": {
            "text/plain": [
              "config.json:   0%|          | 0.00/482 [00:00<?, ?B/s]"
            ],
            "application/vnd.jupyter.widget-view+json": {
              "version_major": 2,
              "version_minor": 0,
              "model_id": "6480e76dcecf47baa52e36d89ba1e833"
            }
          },
          "metadata": {}
        },
        {
          "output_type": "display_data",
          "data": {
            "text/plain": [
              "vocab.json:   0%|          | 0.00/899k [00:00<?, ?B/s]"
            ],
            "application/vnd.jupyter.widget-view+json": {
              "version_major": 2,
              "version_minor": 0,
              "model_id": "d5d043e4c9ab413680b78d1550fa0740"
            }
          },
          "metadata": {}
        },
        {
          "output_type": "display_data",
          "data": {
            "text/plain": [
              "merges.txt:   0%|          | 0.00/456k [00:00<?, ?B/s]"
            ],
            "application/vnd.jupyter.widget-view+json": {
              "version_major": 2,
              "version_minor": 0,
              "model_id": "31618ac146a44290b702e0d1a219e761"
            }
          },
          "metadata": {}
        },
        {
          "output_type": "display_data",
          "data": {
            "text/plain": [
              "tokenizer.json:   0%|          | 0.00/1.36M [00:00<?, ?B/s]"
            ],
            "application/vnd.jupyter.widget-view+json": {
              "version_major": 2,
              "version_minor": 0,
              "model_id": "2d574df2bafe445eb56038c1114bb562"
            }
          },
          "metadata": {}
        },
        {
          "output_type": "display_data",
          "data": {
            "text/plain": [
              "model.safetensors:   0%|          | 0.00/1.42G [00:00<?, ?B/s]"
            ],
            "application/vnd.jupyter.widget-view+json": {
              "version_major": 2,
              "version_minor": 0,
              "model_id": "caafc20773ce4839b2ea85b8f03f3f1c"
            }
          },
          "metadata": {}
        },
        {
          "output_type": "stream",
          "name": "stderr",
          "text": [
            "Some weights of RobertaModel were not initialized from the model checkpoint at roberta-large and are newly initialized: ['roberta.pooler.dense.weight', 'roberta.pooler.dense.bias']\n",
            "You should probably TRAIN this model on a down-stream task to be able to use it for predictions and inference.\n"
          ]
        },
        {
          "output_type": "stream",
          "name": "stdout",
          "text": [
            "calculating scores...\n",
            "computing bert embedding.\n"
          ]
        },
        {
          "output_type": "display_data",
          "data": {
            "text/plain": [
              "  0%|          | 0/135 [00:00<?, ?it/s]"
            ],
            "application/vnd.jupyter.widget-view+json": {
              "version_major": 2,
              "version_minor": 0,
              "model_id": "77175ec90dc2482abfdaf9c240a80939"
            }
          },
          "metadata": {}
        },
        {
          "output_type": "stream",
          "name": "stdout",
          "text": [
            "computing greedy matching.\n"
          ]
        },
        {
          "output_type": "display_data",
          "data": {
            "text/plain": [
              "  0%|          | 0/69 [00:00<?, ?it/s]"
            ],
            "application/vnd.jupyter.widget-view+json": {
              "version_major": 2,
              "version_minor": 0,
              "model_id": "515b0cc4ca3848ebab3a85647f97a927"
            }
          },
          "metadata": {}
        },
        {
          "output_type": "stream",
          "name": "stdout",
          "text": [
            "done in 34.52 seconds, 127.38 sentences/sec\n"
          ]
        }
      ]
    },
    {
      "cell_type": "code",
      "source": [
        "print(f'Bleu Score: {bleuScore * 100:.2f}')\n",
        "print(f'Meteor Score: {meteorScore * 100:.2f}')\n",
        "print(f'Bert Recall: {bertRecall * 100:.2f}')\n",
        "print(f'Bert Precision: {bertPrecision * 100:.2f}')\n",
        "print(f'Bert F1: {bertF1 * 100:.2f}')"
      ],
      "metadata": {
        "id": "D7vtYiVLb3JQ",
        "colab": {
          "base_uri": "https://localhost:8080/"
        },
        "outputId": "b51c8c9a-f955-4418-f921-a1372a4ab193"
      },
      "execution_count": 22,
      "outputs": [
        {
          "output_type": "stream",
          "name": "stdout",
          "text": [
            "Bleu Score: 26.56\n",
            "Meteor Score: 34.25\n",
            "Bert Recall: 85.70\n",
            "Bert Precision: 84.45\n",
            "Bert F1: 85.06\n"
          ]
        }
      ]
    }
  ]
}