{
  "nbformat": 4,
  "nbformat_minor": 0,
  "metadata": {
    "colab": {
      "provenance": [],
      "gpuType": "T4",
      "machine_shape": "hm"
    },
    "kernelspec": {
      "name": "python3",
      "display_name": "Python 3"
    },
    "language_info": {
      "name": "python"
    },
    "accelerator": "GPU",
    "widgets": {
      "application/vnd.jupyter.widget-state+json": {
        "5cae38a1322c4a929329f29d5e53dfd8": {
          "model_module": "@jupyter-widgets/controls",
          "model_name": "HBoxModel",
          "model_module_version": "1.5.0",
          "state": {
            "_dom_classes": [],
            "_model_module": "@jupyter-widgets/controls",
            "_model_module_version": "1.5.0",
            "_model_name": "HBoxModel",
            "_view_count": null,
            "_view_module": "@jupyter-widgets/controls",
            "_view_module_version": "1.5.0",
            "_view_name": "HBoxView",
            "box_style": "",
            "children": [
              "IPY_MODEL_e67daceac2234357856d750850c5cb2c",
              "IPY_MODEL_f8cfb6b66c494f9cb29cb91c4acc1011",
              "IPY_MODEL_f1861253dee64d248e1234b2726eb6ce"
            ],
            "layout": "IPY_MODEL_194abd173dbf482888571ad6613c3d07"
          }
        },
        "e67daceac2234357856d750850c5cb2c": {
          "model_module": "@jupyter-widgets/controls",
          "model_name": "HTMLModel",
          "model_module_version": "1.5.0",
          "state": {
            "_dom_classes": [],
            "_model_module": "@jupyter-widgets/controls",
            "_model_module_version": "1.5.0",
            "_model_name": "HTMLModel",
            "_view_count": null,
            "_view_module": "@jupyter-widgets/controls",
            "_view_module_version": "1.5.0",
            "_view_name": "HTMLView",
            "description": "",
            "description_tooltip": null,
            "layout": "IPY_MODEL_72ed0524261e42a88bf7c490d96ca1a9",
            "placeholder": "​",
            "style": "IPY_MODEL_1ecc9fa593e24941a49d5cb4592154bf",
            "value": "config.json: 100%"
          }
        },
        "f8cfb6b66c494f9cb29cb91c4acc1011": {
          "model_module": "@jupyter-widgets/controls",
          "model_name": "FloatProgressModel",
          "model_module_version": "1.5.0",
          "state": {
            "_dom_classes": [],
            "_model_module": "@jupyter-widgets/controls",
            "_model_module_version": "1.5.0",
            "_model_name": "FloatProgressModel",
            "_view_count": null,
            "_view_module": "@jupyter-widgets/controls",
            "_view_module_version": "1.5.0",
            "_view_name": "ProgressView",
            "bar_style": "success",
            "description": "",
            "description_tooltip": null,
            "layout": "IPY_MODEL_338abc17f4964f6bb97deb33ddcd8e65",
            "max": 482,
            "min": 0,
            "orientation": "horizontal",
            "style": "IPY_MODEL_e18ddcc1427741d2923a00d86eb8a333",
            "value": 482
          }
        },
        "f1861253dee64d248e1234b2726eb6ce": {
          "model_module": "@jupyter-widgets/controls",
          "model_name": "HTMLModel",
          "model_module_version": "1.5.0",
          "state": {
            "_dom_classes": [],
            "_model_module": "@jupyter-widgets/controls",
            "_model_module_version": "1.5.0",
            "_model_name": "HTMLModel",
            "_view_count": null,
            "_view_module": "@jupyter-widgets/controls",
            "_view_module_version": "1.5.0",
            "_view_name": "HTMLView",
            "description": "",
            "description_tooltip": null,
            "layout": "IPY_MODEL_3e3184a792e7455897a8eeaa44b662ec",
            "placeholder": "​",
            "style": "IPY_MODEL_d706af6d0ec34136a1e947d903b7917b",
            "value": " 482/482 [00:00&lt;00:00, 30.3kB/s]"
          }
        },
        "194abd173dbf482888571ad6613c3d07": {
          "model_module": "@jupyter-widgets/base",
          "model_name": "LayoutModel",
          "model_module_version": "1.2.0",
          "state": {
            "_model_module": "@jupyter-widgets/base",
            "_model_module_version": "1.2.0",
            "_model_name": "LayoutModel",
            "_view_count": null,
            "_view_module": "@jupyter-widgets/base",
            "_view_module_version": "1.2.0",
            "_view_name": "LayoutView",
            "align_content": null,
            "align_items": null,
            "align_self": null,
            "border": null,
            "bottom": null,
            "display": null,
            "flex": null,
            "flex_flow": null,
            "grid_area": null,
            "grid_auto_columns": null,
            "grid_auto_flow": null,
            "grid_auto_rows": null,
            "grid_column": null,
            "grid_gap": null,
            "grid_row": null,
            "grid_template_areas": null,
            "grid_template_columns": null,
            "grid_template_rows": null,
            "height": null,
            "justify_content": null,
            "justify_items": null,
            "left": null,
            "margin": null,
            "max_height": null,
            "max_width": null,
            "min_height": null,
            "min_width": null,
            "object_fit": null,
            "object_position": null,
            "order": null,
            "overflow": null,
            "overflow_x": null,
            "overflow_y": null,
            "padding": null,
            "right": null,
            "top": null,
            "visibility": null,
            "width": null
          }
        },
        "72ed0524261e42a88bf7c490d96ca1a9": {
          "model_module": "@jupyter-widgets/base",
          "model_name": "LayoutModel",
          "model_module_version": "1.2.0",
          "state": {
            "_model_module": "@jupyter-widgets/base",
            "_model_module_version": "1.2.0",
            "_model_name": "LayoutModel",
            "_view_count": null,
            "_view_module": "@jupyter-widgets/base",
            "_view_module_version": "1.2.0",
            "_view_name": "LayoutView",
            "align_content": null,
            "align_items": null,
            "align_self": null,
            "border": null,
            "bottom": null,
            "display": null,
            "flex": null,
            "flex_flow": null,
            "grid_area": null,
            "grid_auto_columns": null,
            "grid_auto_flow": null,
            "grid_auto_rows": null,
            "grid_column": null,
            "grid_gap": null,
            "grid_row": null,
            "grid_template_areas": null,
            "grid_template_columns": null,
            "grid_template_rows": null,
            "height": null,
            "justify_content": null,
            "justify_items": null,
            "left": null,
            "margin": null,
            "max_height": null,
            "max_width": null,
            "min_height": null,
            "min_width": null,
            "object_fit": null,
            "object_position": null,
            "order": null,
            "overflow": null,
            "overflow_x": null,
            "overflow_y": null,
            "padding": null,
            "right": null,
            "top": null,
            "visibility": null,
            "width": null
          }
        },
        "1ecc9fa593e24941a49d5cb4592154bf": {
          "model_module": "@jupyter-widgets/controls",
          "model_name": "DescriptionStyleModel",
          "model_module_version": "1.5.0",
          "state": {
            "_model_module": "@jupyter-widgets/controls",
            "_model_module_version": "1.5.0",
            "_model_name": "DescriptionStyleModel",
            "_view_count": null,
            "_view_module": "@jupyter-widgets/base",
            "_view_module_version": "1.2.0",
            "_view_name": "StyleView",
            "description_width": ""
          }
        },
        "338abc17f4964f6bb97deb33ddcd8e65": {
          "model_module": "@jupyter-widgets/base",
          "model_name": "LayoutModel",
          "model_module_version": "1.2.0",
          "state": {
            "_model_module": "@jupyter-widgets/base",
            "_model_module_version": "1.2.0",
            "_model_name": "LayoutModel",
            "_view_count": null,
            "_view_module": "@jupyter-widgets/base",
            "_view_module_version": "1.2.0",
            "_view_name": "LayoutView",
            "align_content": null,
            "align_items": null,
            "align_self": null,
            "border": null,
            "bottom": null,
            "display": null,
            "flex": null,
            "flex_flow": null,
            "grid_area": null,
            "grid_auto_columns": null,
            "grid_auto_flow": null,
            "grid_auto_rows": null,
            "grid_column": null,
            "grid_gap": null,
            "grid_row": null,
            "grid_template_areas": null,
            "grid_template_columns": null,
            "grid_template_rows": null,
            "height": null,
            "justify_content": null,
            "justify_items": null,
            "left": null,
            "margin": null,
            "max_height": null,
            "max_width": null,
            "min_height": null,
            "min_width": null,
            "object_fit": null,
            "object_position": null,
            "order": null,
            "overflow": null,
            "overflow_x": null,
            "overflow_y": null,
            "padding": null,
            "right": null,
            "top": null,
            "visibility": null,
            "width": null
          }
        },
        "e18ddcc1427741d2923a00d86eb8a333": {
          "model_module": "@jupyter-widgets/controls",
          "model_name": "ProgressStyleModel",
          "model_module_version": "1.5.0",
          "state": {
            "_model_module": "@jupyter-widgets/controls",
            "_model_module_version": "1.5.0",
            "_model_name": "ProgressStyleModel",
            "_view_count": null,
            "_view_module": "@jupyter-widgets/base",
            "_view_module_version": "1.2.0",
            "_view_name": "StyleView",
            "bar_color": null,
            "description_width": ""
          }
        },
        "3e3184a792e7455897a8eeaa44b662ec": {
          "model_module": "@jupyter-widgets/base",
          "model_name": "LayoutModel",
          "model_module_version": "1.2.0",
          "state": {
            "_model_module": "@jupyter-widgets/base",
            "_model_module_version": "1.2.0",
            "_model_name": "LayoutModel",
            "_view_count": null,
            "_view_module": "@jupyter-widgets/base",
            "_view_module_version": "1.2.0",
            "_view_name": "LayoutView",
            "align_content": null,
            "align_items": null,
            "align_self": null,
            "border": null,
            "bottom": null,
            "display": null,
            "flex": null,
            "flex_flow": null,
            "grid_area": null,
            "grid_auto_columns": null,
            "grid_auto_flow": null,
            "grid_auto_rows": null,
            "grid_column": null,
            "grid_gap": null,
            "grid_row": null,
            "grid_template_areas": null,
            "grid_template_columns": null,
            "grid_template_rows": null,
            "height": null,
            "justify_content": null,
            "justify_items": null,
            "left": null,
            "margin": null,
            "max_height": null,
            "max_width": null,
            "min_height": null,
            "min_width": null,
            "object_fit": null,
            "object_position": null,
            "order": null,
            "overflow": null,
            "overflow_x": null,
            "overflow_y": null,
            "padding": null,
            "right": null,
            "top": null,
            "visibility": null,
            "width": null
          }
        },
        "d706af6d0ec34136a1e947d903b7917b": {
          "model_module": "@jupyter-widgets/controls",
          "model_name": "DescriptionStyleModel",
          "model_module_version": "1.5.0",
          "state": {
            "_model_module": "@jupyter-widgets/controls",
            "_model_module_version": "1.5.0",
            "_model_name": "DescriptionStyleModel",
            "_view_count": null,
            "_view_module": "@jupyter-widgets/base",
            "_view_module_version": "1.2.0",
            "_view_name": "StyleView",
            "description_width": ""
          }
        },
        "9c494b5f19df46e8a464bfa047b8c38d": {
          "model_module": "@jupyter-widgets/controls",
          "model_name": "HBoxModel",
          "model_module_version": "1.5.0",
          "state": {
            "_dom_classes": [],
            "_model_module": "@jupyter-widgets/controls",
            "_model_module_version": "1.5.0",
            "_model_name": "HBoxModel",
            "_view_count": null,
            "_view_module": "@jupyter-widgets/controls",
            "_view_module_version": "1.5.0",
            "_view_name": "HBoxView",
            "box_style": "",
            "children": [
              "IPY_MODEL_ee6e382ab7794ae59fc03d0eb17b0cd3",
              "IPY_MODEL_80c0da0b37ee4389bc02ecae7fd8f887",
              "IPY_MODEL_8eb9abbf6afb4958943df907e183ff48"
            ],
            "layout": "IPY_MODEL_1703b33cd88049da819e3a35f7fd2d49"
          }
        },
        "ee6e382ab7794ae59fc03d0eb17b0cd3": {
          "model_module": "@jupyter-widgets/controls",
          "model_name": "HTMLModel",
          "model_module_version": "1.5.0",
          "state": {
            "_dom_classes": [],
            "_model_module": "@jupyter-widgets/controls",
            "_model_module_version": "1.5.0",
            "_model_name": "HTMLModel",
            "_view_count": null,
            "_view_module": "@jupyter-widgets/controls",
            "_view_module_version": "1.5.0",
            "_view_name": "HTMLView",
            "description": "",
            "description_tooltip": null,
            "layout": "IPY_MODEL_5a30c978179741858e6ab24df69d2be1",
            "placeholder": "​",
            "style": "IPY_MODEL_9823d05973ef4ab9b48260a418117498",
            "value": "vocab.json: 100%"
          }
        },
        "80c0da0b37ee4389bc02ecae7fd8f887": {
          "model_module": "@jupyter-widgets/controls",
          "model_name": "FloatProgressModel",
          "model_module_version": "1.5.0",
          "state": {
            "_dom_classes": [],
            "_model_module": "@jupyter-widgets/controls",
            "_model_module_version": "1.5.0",
            "_model_name": "FloatProgressModel",
            "_view_count": null,
            "_view_module": "@jupyter-widgets/controls",
            "_view_module_version": "1.5.0",
            "_view_name": "ProgressView",
            "bar_style": "success",
            "description": "",
            "description_tooltip": null,
            "layout": "IPY_MODEL_3bb97ef76d0a45228030a92d072f13fd",
            "max": 898823,
            "min": 0,
            "orientation": "horizontal",
            "style": "IPY_MODEL_62d053db3c7345d6aa29e7ce210d5e4a",
            "value": 898823
          }
        },
        "8eb9abbf6afb4958943df907e183ff48": {
          "model_module": "@jupyter-widgets/controls",
          "model_name": "HTMLModel",
          "model_module_version": "1.5.0",
          "state": {
            "_dom_classes": [],
            "_model_module": "@jupyter-widgets/controls",
            "_model_module_version": "1.5.0",
            "_model_name": "HTMLModel",
            "_view_count": null,
            "_view_module": "@jupyter-widgets/controls",
            "_view_module_version": "1.5.0",
            "_view_name": "HTMLView",
            "description": "",
            "description_tooltip": null,
            "layout": "IPY_MODEL_aec5438e8a474af2bf402e1fd98b74ac",
            "placeholder": "​",
            "style": "IPY_MODEL_740dc87eddd042c39784ec5d205c4b7a",
            "value": " 899k/899k [00:00&lt;00:00, 11.2MB/s]"
          }
        },
        "1703b33cd88049da819e3a35f7fd2d49": {
          "model_module": "@jupyter-widgets/base",
          "model_name": "LayoutModel",
          "model_module_version": "1.2.0",
          "state": {
            "_model_module": "@jupyter-widgets/base",
            "_model_module_version": "1.2.0",
            "_model_name": "LayoutModel",
            "_view_count": null,
            "_view_module": "@jupyter-widgets/base",
            "_view_module_version": "1.2.0",
            "_view_name": "LayoutView",
            "align_content": null,
            "align_items": null,
            "align_self": null,
            "border": null,
            "bottom": null,
            "display": null,
            "flex": null,
            "flex_flow": null,
            "grid_area": null,
            "grid_auto_columns": null,
            "grid_auto_flow": null,
            "grid_auto_rows": null,
            "grid_column": null,
            "grid_gap": null,
            "grid_row": null,
            "grid_template_areas": null,
            "grid_template_columns": null,
            "grid_template_rows": null,
            "height": null,
            "justify_content": null,
            "justify_items": null,
            "left": null,
            "margin": null,
            "max_height": null,
            "max_width": null,
            "min_height": null,
            "min_width": null,
            "object_fit": null,
            "object_position": null,
            "order": null,
            "overflow": null,
            "overflow_x": null,
            "overflow_y": null,
            "padding": null,
            "right": null,
            "top": null,
            "visibility": null,
            "width": null
          }
        },
        "5a30c978179741858e6ab24df69d2be1": {
          "model_module": "@jupyter-widgets/base",
          "model_name": "LayoutModel",
          "model_module_version": "1.2.0",
          "state": {
            "_model_module": "@jupyter-widgets/base",
            "_model_module_version": "1.2.0",
            "_model_name": "LayoutModel",
            "_view_count": null,
            "_view_module": "@jupyter-widgets/base",
            "_view_module_version": "1.2.0",
            "_view_name": "LayoutView",
            "align_content": null,
            "align_items": null,
            "align_self": null,
            "border": null,
            "bottom": null,
            "display": null,
            "flex": null,
            "flex_flow": null,
            "grid_area": null,
            "grid_auto_columns": null,
            "grid_auto_flow": null,
            "grid_auto_rows": null,
            "grid_column": null,
            "grid_gap": null,
            "grid_row": null,
            "grid_template_areas": null,
            "grid_template_columns": null,
            "grid_template_rows": null,
            "height": null,
            "justify_content": null,
            "justify_items": null,
            "left": null,
            "margin": null,
            "max_height": null,
            "max_width": null,
            "min_height": null,
            "min_width": null,
            "object_fit": null,
            "object_position": null,
            "order": null,
            "overflow": null,
            "overflow_x": null,
            "overflow_y": null,
            "padding": null,
            "right": null,
            "top": null,
            "visibility": null,
            "width": null
          }
        },
        "9823d05973ef4ab9b48260a418117498": {
          "model_module": "@jupyter-widgets/controls",
          "model_name": "DescriptionStyleModel",
          "model_module_version": "1.5.0",
          "state": {
            "_model_module": "@jupyter-widgets/controls",
            "_model_module_version": "1.5.0",
            "_model_name": "DescriptionStyleModel",
            "_view_count": null,
            "_view_module": "@jupyter-widgets/base",
            "_view_module_version": "1.2.0",
            "_view_name": "StyleView",
            "description_width": ""
          }
        },
        "3bb97ef76d0a45228030a92d072f13fd": {
          "model_module": "@jupyter-widgets/base",
          "model_name": "LayoutModel",
          "model_module_version": "1.2.0",
          "state": {
            "_model_module": "@jupyter-widgets/base",
            "_model_module_version": "1.2.0",
            "_model_name": "LayoutModel",
            "_view_count": null,
            "_view_module": "@jupyter-widgets/base",
            "_view_module_version": "1.2.0",
            "_view_name": "LayoutView",
            "align_content": null,
            "align_items": null,
            "align_self": null,
            "border": null,
            "bottom": null,
            "display": null,
            "flex": null,
            "flex_flow": null,
            "grid_area": null,
            "grid_auto_columns": null,
            "grid_auto_flow": null,
            "grid_auto_rows": null,
            "grid_column": null,
            "grid_gap": null,
            "grid_row": null,
            "grid_template_areas": null,
            "grid_template_columns": null,
            "grid_template_rows": null,
            "height": null,
            "justify_content": null,
            "justify_items": null,
            "left": null,
            "margin": null,
            "max_height": null,
            "max_width": null,
            "min_height": null,
            "min_width": null,
            "object_fit": null,
            "object_position": null,
            "order": null,
            "overflow": null,
            "overflow_x": null,
            "overflow_y": null,
            "padding": null,
            "right": null,
            "top": null,
            "visibility": null,
            "width": null
          }
        },
        "62d053db3c7345d6aa29e7ce210d5e4a": {
          "model_module": "@jupyter-widgets/controls",
          "model_name": "ProgressStyleModel",
          "model_module_version": "1.5.0",
          "state": {
            "_model_module": "@jupyter-widgets/controls",
            "_model_module_version": "1.5.0",
            "_model_name": "ProgressStyleModel",
            "_view_count": null,
            "_view_module": "@jupyter-widgets/base",
            "_view_module_version": "1.2.0",
            "_view_name": "StyleView",
            "bar_color": null,
            "description_width": ""
          }
        },
        "aec5438e8a474af2bf402e1fd98b74ac": {
          "model_module": "@jupyter-widgets/base",
          "model_name": "LayoutModel",
          "model_module_version": "1.2.0",
          "state": {
            "_model_module": "@jupyter-widgets/base",
            "_model_module_version": "1.2.0",
            "_model_name": "LayoutModel",
            "_view_count": null,
            "_view_module": "@jupyter-widgets/base",
            "_view_module_version": "1.2.0",
            "_view_name": "LayoutView",
            "align_content": null,
            "align_items": null,
            "align_self": null,
            "border": null,
            "bottom": null,
            "display": null,
            "flex": null,
            "flex_flow": null,
            "grid_area": null,
            "grid_auto_columns": null,
            "grid_auto_flow": null,
            "grid_auto_rows": null,
            "grid_column": null,
            "grid_gap": null,
            "grid_row": null,
            "grid_template_areas": null,
            "grid_template_columns": null,
            "grid_template_rows": null,
            "height": null,
            "justify_content": null,
            "justify_items": null,
            "left": null,
            "margin": null,
            "max_height": null,
            "max_width": null,
            "min_height": null,
            "min_width": null,
            "object_fit": null,
            "object_position": null,
            "order": null,
            "overflow": null,
            "overflow_x": null,
            "overflow_y": null,
            "padding": null,
            "right": null,
            "top": null,
            "visibility": null,
            "width": null
          }
        },
        "740dc87eddd042c39784ec5d205c4b7a": {
          "model_module": "@jupyter-widgets/controls",
          "model_name": "DescriptionStyleModel",
          "model_module_version": "1.5.0",
          "state": {
            "_model_module": "@jupyter-widgets/controls",
            "_model_module_version": "1.5.0",
            "_model_name": "DescriptionStyleModel",
            "_view_count": null,
            "_view_module": "@jupyter-widgets/base",
            "_view_module_version": "1.2.0",
            "_view_name": "StyleView",
            "description_width": ""
          }
        },
        "cc999cfde7b1469f881228af2244d82c": {
          "model_module": "@jupyter-widgets/controls",
          "model_name": "HBoxModel",
          "model_module_version": "1.5.0",
          "state": {
            "_dom_classes": [],
            "_model_module": "@jupyter-widgets/controls",
            "_model_module_version": "1.5.0",
            "_model_name": "HBoxModel",
            "_view_count": null,
            "_view_module": "@jupyter-widgets/controls",
            "_view_module_version": "1.5.0",
            "_view_name": "HBoxView",
            "box_style": "",
            "children": [
              "IPY_MODEL_eb12e85bebf64b1992d9280b4ec8ae3f",
              "IPY_MODEL_d4ea914349ba4ff6848d8b998dcca115",
              "IPY_MODEL_04eb9ce7d4ed4d40be522f08515a05b3"
            ],
            "layout": "IPY_MODEL_2b343ad23a4242968f7271a42dcbbe9f"
          }
        },
        "eb12e85bebf64b1992d9280b4ec8ae3f": {
          "model_module": "@jupyter-widgets/controls",
          "model_name": "HTMLModel",
          "model_module_version": "1.5.0",
          "state": {
            "_dom_classes": [],
            "_model_module": "@jupyter-widgets/controls",
            "_model_module_version": "1.5.0",
            "_model_name": "HTMLModel",
            "_view_count": null,
            "_view_module": "@jupyter-widgets/controls",
            "_view_module_version": "1.5.0",
            "_view_name": "HTMLView",
            "description": "",
            "description_tooltip": null,
            "layout": "IPY_MODEL_2839fdd04ebb48b4b5407665fe00c003",
            "placeholder": "​",
            "style": "IPY_MODEL_f7dc29e49f8e48b1b585cec3cfc530e4",
            "value": "merges.txt: 100%"
          }
        },
        "d4ea914349ba4ff6848d8b998dcca115": {
          "model_module": "@jupyter-widgets/controls",
          "model_name": "FloatProgressModel",
          "model_module_version": "1.5.0",
          "state": {
            "_dom_classes": [],
            "_model_module": "@jupyter-widgets/controls",
            "_model_module_version": "1.5.0",
            "_model_name": "FloatProgressModel",
            "_view_count": null,
            "_view_module": "@jupyter-widgets/controls",
            "_view_module_version": "1.5.0",
            "_view_name": "ProgressView",
            "bar_style": "success",
            "description": "",
            "description_tooltip": null,
            "layout": "IPY_MODEL_d3ca3e2e8adf4bb1a69218c330f65d2d",
            "max": 456318,
            "min": 0,
            "orientation": "horizontal",
            "style": "IPY_MODEL_1df4979834f94e9396e595a1c63ae4f6",
            "value": 456318
          }
        },
        "04eb9ce7d4ed4d40be522f08515a05b3": {
          "model_module": "@jupyter-widgets/controls",
          "model_name": "HTMLModel",
          "model_module_version": "1.5.0",
          "state": {
            "_dom_classes": [],
            "_model_module": "@jupyter-widgets/controls",
            "_model_module_version": "1.5.0",
            "_model_name": "HTMLModel",
            "_view_count": null,
            "_view_module": "@jupyter-widgets/controls",
            "_view_module_version": "1.5.0",
            "_view_name": "HTMLView",
            "description": "",
            "description_tooltip": null,
            "layout": "IPY_MODEL_19685fad462c4327a5604b47ab4a60eb",
            "placeholder": "​",
            "style": "IPY_MODEL_1ebf5f509a054dde9b608b372fcf79ad",
            "value": " 456k/456k [00:00&lt;00:00, 3.75MB/s]"
          }
        },
        "2b343ad23a4242968f7271a42dcbbe9f": {
          "model_module": "@jupyter-widgets/base",
          "model_name": "LayoutModel",
          "model_module_version": "1.2.0",
          "state": {
            "_model_module": "@jupyter-widgets/base",
            "_model_module_version": "1.2.0",
            "_model_name": "LayoutModel",
            "_view_count": null,
            "_view_module": "@jupyter-widgets/base",
            "_view_module_version": "1.2.0",
            "_view_name": "LayoutView",
            "align_content": null,
            "align_items": null,
            "align_self": null,
            "border": null,
            "bottom": null,
            "display": null,
            "flex": null,
            "flex_flow": null,
            "grid_area": null,
            "grid_auto_columns": null,
            "grid_auto_flow": null,
            "grid_auto_rows": null,
            "grid_column": null,
            "grid_gap": null,
            "grid_row": null,
            "grid_template_areas": null,
            "grid_template_columns": null,
            "grid_template_rows": null,
            "height": null,
            "justify_content": null,
            "justify_items": null,
            "left": null,
            "margin": null,
            "max_height": null,
            "max_width": null,
            "min_height": null,
            "min_width": null,
            "object_fit": null,
            "object_position": null,
            "order": null,
            "overflow": null,
            "overflow_x": null,
            "overflow_y": null,
            "padding": null,
            "right": null,
            "top": null,
            "visibility": null,
            "width": null
          }
        },
        "2839fdd04ebb48b4b5407665fe00c003": {
          "model_module": "@jupyter-widgets/base",
          "model_name": "LayoutModel",
          "model_module_version": "1.2.0",
          "state": {
            "_model_module": "@jupyter-widgets/base",
            "_model_module_version": "1.2.0",
            "_model_name": "LayoutModel",
            "_view_count": null,
            "_view_module": "@jupyter-widgets/base",
            "_view_module_version": "1.2.0",
            "_view_name": "LayoutView",
            "align_content": null,
            "align_items": null,
            "align_self": null,
            "border": null,
            "bottom": null,
            "display": null,
            "flex": null,
            "flex_flow": null,
            "grid_area": null,
            "grid_auto_columns": null,
            "grid_auto_flow": null,
            "grid_auto_rows": null,
            "grid_column": null,
            "grid_gap": null,
            "grid_row": null,
            "grid_template_areas": null,
            "grid_template_columns": null,
            "grid_template_rows": null,
            "height": null,
            "justify_content": null,
            "justify_items": null,
            "left": null,
            "margin": null,
            "max_height": null,
            "max_width": null,
            "min_height": null,
            "min_width": null,
            "object_fit": null,
            "object_position": null,
            "order": null,
            "overflow": null,
            "overflow_x": null,
            "overflow_y": null,
            "padding": null,
            "right": null,
            "top": null,
            "visibility": null,
            "width": null
          }
        },
        "f7dc29e49f8e48b1b585cec3cfc530e4": {
          "model_module": "@jupyter-widgets/controls",
          "model_name": "DescriptionStyleModel",
          "model_module_version": "1.5.0",
          "state": {
            "_model_module": "@jupyter-widgets/controls",
            "_model_module_version": "1.5.0",
            "_model_name": "DescriptionStyleModel",
            "_view_count": null,
            "_view_module": "@jupyter-widgets/base",
            "_view_module_version": "1.2.0",
            "_view_name": "StyleView",
            "description_width": ""
          }
        },
        "d3ca3e2e8adf4bb1a69218c330f65d2d": {
          "model_module": "@jupyter-widgets/base",
          "model_name": "LayoutModel",
          "model_module_version": "1.2.0",
          "state": {
            "_model_module": "@jupyter-widgets/base",
            "_model_module_version": "1.2.0",
            "_model_name": "LayoutModel",
            "_view_count": null,
            "_view_module": "@jupyter-widgets/base",
            "_view_module_version": "1.2.0",
            "_view_name": "LayoutView",
            "align_content": null,
            "align_items": null,
            "align_self": null,
            "border": null,
            "bottom": null,
            "display": null,
            "flex": null,
            "flex_flow": null,
            "grid_area": null,
            "grid_auto_columns": null,
            "grid_auto_flow": null,
            "grid_auto_rows": null,
            "grid_column": null,
            "grid_gap": null,
            "grid_row": null,
            "grid_template_areas": null,
            "grid_template_columns": null,
            "grid_template_rows": null,
            "height": null,
            "justify_content": null,
            "justify_items": null,
            "left": null,
            "margin": null,
            "max_height": null,
            "max_width": null,
            "min_height": null,
            "min_width": null,
            "object_fit": null,
            "object_position": null,
            "order": null,
            "overflow": null,
            "overflow_x": null,
            "overflow_y": null,
            "padding": null,
            "right": null,
            "top": null,
            "visibility": null,
            "width": null
          }
        },
        "1df4979834f94e9396e595a1c63ae4f6": {
          "model_module": "@jupyter-widgets/controls",
          "model_name": "ProgressStyleModel",
          "model_module_version": "1.5.0",
          "state": {
            "_model_module": "@jupyter-widgets/controls",
            "_model_module_version": "1.5.0",
            "_model_name": "ProgressStyleModel",
            "_view_count": null,
            "_view_module": "@jupyter-widgets/base",
            "_view_module_version": "1.2.0",
            "_view_name": "StyleView",
            "bar_color": null,
            "description_width": ""
          }
        },
        "19685fad462c4327a5604b47ab4a60eb": {
          "model_module": "@jupyter-widgets/base",
          "model_name": "LayoutModel",
          "model_module_version": "1.2.0",
          "state": {
            "_model_module": "@jupyter-widgets/base",
            "_model_module_version": "1.2.0",
            "_model_name": "LayoutModel",
            "_view_count": null,
            "_view_module": "@jupyter-widgets/base",
            "_view_module_version": "1.2.0",
            "_view_name": "LayoutView",
            "align_content": null,
            "align_items": null,
            "align_self": null,
            "border": null,
            "bottom": null,
            "display": null,
            "flex": null,
            "flex_flow": null,
            "grid_area": null,
            "grid_auto_columns": null,
            "grid_auto_flow": null,
            "grid_auto_rows": null,
            "grid_column": null,
            "grid_gap": null,
            "grid_row": null,
            "grid_template_areas": null,
            "grid_template_columns": null,
            "grid_template_rows": null,
            "height": null,
            "justify_content": null,
            "justify_items": null,
            "left": null,
            "margin": null,
            "max_height": null,
            "max_width": null,
            "min_height": null,
            "min_width": null,
            "object_fit": null,
            "object_position": null,
            "order": null,
            "overflow": null,
            "overflow_x": null,
            "overflow_y": null,
            "padding": null,
            "right": null,
            "top": null,
            "visibility": null,
            "width": null
          }
        },
        "1ebf5f509a054dde9b608b372fcf79ad": {
          "model_module": "@jupyter-widgets/controls",
          "model_name": "DescriptionStyleModel",
          "model_module_version": "1.5.0",
          "state": {
            "_model_module": "@jupyter-widgets/controls",
            "_model_module_version": "1.5.0",
            "_model_name": "DescriptionStyleModel",
            "_view_count": null,
            "_view_module": "@jupyter-widgets/base",
            "_view_module_version": "1.2.0",
            "_view_name": "StyleView",
            "description_width": ""
          }
        },
        "70887332fd8246cc8a136e8b769c1823": {
          "model_module": "@jupyter-widgets/controls",
          "model_name": "HBoxModel",
          "model_module_version": "1.5.0",
          "state": {
            "_dom_classes": [],
            "_model_module": "@jupyter-widgets/controls",
            "_model_module_version": "1.5.0",
            "_model_name": "HBoxModel",
            "_view_count": null,
            "_view_module": "@jupyter-widgets/controls",
            "_view_module_version": "1.5.0",
            "_view_name": "HBoxView",
            "box_style": "",
            "children": [
              "IPY_MODEL_5585871f613d4137a7d9f5ebe88dc099",
              "IPY_MODEL_3b4acc09a5d840b982fa9ec17e4f0600",
              "IPY_MODEL_c973265e6cdf449394862b66bdac6f00"
            ],
            "layout": "IPY_MODEL_9e3aa59aaa8c470e93e28ae4799c3956"
          }
        },
        "5585871f613d4137a7d9f5ebe88dc099": {
          "model_module": "@jupyter-widgets/controls",
          "model_name": "HTMLModel",
          "model_module_version": "1.5.0",
          "state": {
            "_dom_classes": [],
            "_model_module": "@jupyter-widgets/controls",
            "_model_module_version": "1.5.0",
            "_model_name": "HTMLModel",
            "_view_count": null,
            "_view_module": "@jupyter-widgets/controls",
            "_view_module_version": "1.5.0",
            "_view_name": "HTMLView",
            "description": "",
            "description_tooltip": null,
            "layout": "IPY_MODEL_16c85a1f10864ed3997d016c3a1d33b8",
            "placeholder": "​",
            "style": "IPY_MODEL_a98408eff5574abbaf867396b05658d5",
            "value": "tokenizer.json: 100%"
          }
        },
        "3b4acc09a5d840b982fa9ec17e4f0600": {
          "model_module": "@jupyter-widgets/controls",
          "model_name": "FloatProgressModel",
          "model_module_version": "1.5.0",
          "state": {
            "_dom_classes": [],
            "_model_module": "@jupyter-widgets/controls",
            "_model_module_version": "1.5.0",
            "_model_name": "FloatProgressModel",
            "_view_count": null,
            "_view_module": "@jupyter-widgets/controls",
            "_view_module_version": "1.5.0",
            "_view_name": "ProgressView",
            "bar_style": "success",
            "description": "",
            "description_tooltip": null,
            "layout": "IPY_MODEL_5f16c203b5e64a76b27cd5cea1745088",
            "max": 1355863,
            "min": 0,
            "orientation": "horizontal",
            "style": "IPY_MODEL_505c39e0dff7463c8c7aac451c6eff70",
            "value": 1355863
          }
        },
        "c973265e6cdf449394862b66bdac6f00": {
          "model_module": "@jupyter-widgets/controls",
          "model_name": "HTMLModel",
          "model_module_version": "1.5.0",
          "state": {
            "_dom_classes": [],
            "_model_module": "@jupyter-widgets/controls",
            "_model_module_version": "1.5.0",
            "_model_name": "HTMLModel",
            "_view_count": null,
            "_view_module": "@jupyter-widgets/controls",
            "_view_module_version": "1.5.0",
            "_view_name": "HTMLView",
            "description": "",
            "description_tooltip": null,
            "layout": "IPY_MODEL_5edebe72ba754757bed68855fe70ebfc",
            "placeholder": "​",
            "style": "IPY_MODEL_5a97bcdc04444041810d98ec0faa82a8",
            "value": " 1.36M/1.36M [00:00&lt;00:00, 25.4MB/s]"
          }
        },
        "9e3aa59aaa8c470e93e28ae4799c3956": {
          "model_module": "@jupyter-widgets/base",
          "model_name": "LayoutModel",
          "model_module_version": "1.2.0",
          "state": {
            "_model_module": "@jupyter-widgets/base",
            "_model_module_version": "1.2.0",
            "_model_name": "LayoutModel",
            "_view_count": null,
            "_view_module": "@jupyter-widgets/base",
            "_view_module_version": "1.2.0",
            "_view_name": "LayoutView",
            "align_content": null,
            "align_items": null,
            "align_self": null,
            "border": null,
            "bottom": null,
            "display": null,
            "flex": null,
            "flex_flow": null,
            "grid_area": null,
            "grid_auto_columns": null,
            "grid_auto_flow": null,
            "grid_auto_rows": null,
            "grid_column": null,
            "grid_gap": null,
            "grid_row": null,
            "grid_template_areas": null,
            "grid_template_columns": null,
            "grid_template_rows": null,
            "height": null,
            "justify_content": null,
            "justify_items": null,
            "left": null,
            "margin": null,
            "max_height": null,
            "max_width": null,
            "min_height": null,
            "min_width": null,
            "object_fit": null,
            "object_position": null,
            "order": null,
            "overflow": null,
            "overflow_x": null,
            "overflow_y": null,
            "padding": null,
            "right": null,
            "top": null,
            "visibility": null,
            "width": null
          }
        },
        "16c85a1f10864ed3997d016c3a1d33b8": {
          "model_module": "@jupyter-widgets/base",
          "model_name": "LayoutModel",
          "model_module_version": "1.2.0",
          "state": {
            "_model_module": "@jupyter-widgets/base",
            "_model_module_version": "1.2.0",
            "_model_name": "LayoutModel",
            "_view_count": null,
            "_view_module": "@jupyter-widgets/base",
            "_view_module_version": "1.2.0",
            "_view_name": "LayoutView",
            "align_content": null,
            "align_items": null,
            "align_self": null,
            "border": null,
            "bottom": null,
            "display": null,
            "flex": null,
            "flex_flow": null,
            "grid_area": null,
            "grid_auto_columns": null,
            "grid_auto_flow": null,
            "grid_auto_rows": null,
            "grid_column": null,
            "grid_gap": null,
            "grid_row": null,
            "grid_template_areas": null,
            "grid_template_columns": null,
            "grid_template_rows": null,
            "height": null,
            "justify_content": null,
            "justify_items": null,
            "left": null,
            "margin": null,
            "max_height": null,
            "max_width": null,
            "min_height": null,
            "min_width": null,
            "object_fit": null,
            "object_position": null,
            "order": null,
            "overflow": null,
            "overflow_x": null,
            "overflow_y": null,
            "padding": null,
            "right": null,
            "top": null,
            "visibility": null,
            "width": null
          }
        },
        "a98408eff5574abbaf867396b05658d5": {
          "model_module": "@jupyter-widgets/controls",
          "model_name": "DescriptionStyleModel",
          "model_module_version": "1.5.0",
          "state": {
            "_model_module": "@jupyter-widgets/controls",
            "_model_module_version": "1.5.0",
            "_model_name": "DescriptionStyleModel",
            "_view_count": null,
            "_view_module": "@jupyter-widgets/base",
            "_view_module_version": "1.2.0",
            "_view_name": "StyleView",
            "description_width": ""
          }
        },
        "5f16c203b5e64a76b27cd5cea1745088": {
          "model_module": "@jupyter-widgets/base",
          "model_name": "LayoutModel",
          "model_module_version": "1.2.0",
          "state": {
            "_model_module": "@jupyter-widgets/base",
            "_model_module_version": "1.2.0",
            "_model_name": "LayoutModel",
            "_view_count": null,
            "_view_module": "@jupyter-widgets/base",
            "_view_module_version": "1.2.0",
            "_view_name": "LayoutView",
            "align_content": null,
            "align_items": null,
            "align_self": null,
            "border": null,
            "bottom": null,
            "display": null,
            "flex": null,
            "flex_flow": null,
            "grid_area": null,
            "grid_auto_columns": null,
            "grid_auto_flow": null,
            "grid_auto_rows": null,
            "grid_column": null,
            "grid_gap": null,
            "grid_row": null,
            "grid_template_areas": null,
            "grid_template_columns": null,
            "grid_template_rows": null,
            "height": null,
            "justify_content": null,
            "justify_items": null,
            "left": null,
            "margin": null,
            "max_height": null,
            "max_width": null,
            "min_height": null,
            "min_width": null,
            "object_fit": null,
            "object_position": null,
            "order": null,
            "overflow": null,
            "overflow_x": null,
            "overflow_y": null,
            "padding": null,
            "right": null,
            "top": null,
            "visibility": null,
            "width": null
          }
        },
        "505c39e0dff7463c8c7aac451c6eff70": {
          "model_module": "@jupyter-widgets/controls",
          "model_name": "ProgressStyleModel",
          "model_module_version": "1.5.0",
          "state": {
            "_model_module": "@jupyter-widgets/controls",
            "_model_module_version": "1.5.0",
            "_model_name": "ProgressStyleModel",
            "_view_count": null,
            "_view_module": "@jupyter-widgets/base",
            "_view_module_version": "1.2.0",
            "_view_name": "StyleView",
            "bar_color": null,
            "description_width": ""
          }
        },
        "5edebe72ba754757bed68855fe70ebfc": {
          "model_module": "@jupyter-widgets/base",
          "model_name": "LayoutModel",
          "model_module_version": "1.2.0",
          "state": {
            "_model_module": "@jupyter-widgets/base",
            "_model_module_version": "1.2.0",
            "_model_name": "LayoutModel",
            "_view_count": null,
            "_view_module": "@jupyter-widgets/base",
            "_view_module_version": "1.2.0",
            "_view_name": "LayoutView",
            "align_content": null,
            "align_items": null,
            "align_self": null,
            "border": null,
            "bottom": null,
            "display": null,
            "flex": null,
            "flex_flow": null,
            "grid_area": null,
            "grid_auto_columns": null,
            "grid_auto_flow": null,
            "grid_auto_rows": null,
            "grid_column": null,
            "grid_gap": null,
            "grid_row": null,
            "grid_template_areas": null,
            "grid_template_columns": null,
            "grid_template_rows": null,
            "height": null,
            "justify_content": null,
            "justify_items": null,
            "left": null,
            "margin": null,
            "max_height": null,
            "max_width": null,
            "min_height": null,
            "min_width": null,
            "object_fit": null,
            "object_position": null,
            "order": null,
            "overflow": null,
            "overflow_x": null,
            "overflow_y": null,
            "padding": null,
            "right": null,
            "top": null,
            "visibility": null,
            "width": null
          }
        },
        "5a97bcdc04444041810d98ec0faa82a8": {
          "model_module": "@jupyter-widgets/controls",
          "model_name": "DescriptionStyleModel",
          "model_module_version": "1.5.0",
          "state": {
            "_model_module": "@jupyter-widgets/controls",
            "_model_module_version": "1.5.0",
            "_model_name": "DescriptionStyleModel",
            "_view_count": null,
            "_view_module": "@jupyter-widgets/base",
            "_view_module_version": "1.2.0",
            "_view_name": "StyleView",
            "description_width": ""
          }
        },
        "99846129dda84e859febe581ed6ac3ac": {
          "model_module": "@jupyter-widgets/controls",
          "model_name": "HBoxModel",
          "model_module_version": "1.5.0",
          "state": {
            "_dom_classes": [],
            "_model_module": "@jupyter-widgets/controls",
            "_model_module_version": "1.5.0",
            "_model_name": "HBoxModel",
            "_view_count": null,
            "_view_module": "@jupyter-widgets/controls",
            "_view_module_version": "1.5.0",
            "_view_name": "HBoxView",
            "box_style": "",
            "children": [
              "IPY_MODEL_b35e92a63e6b475ba3f56caf664b3a5d",
              "IPY_MODEL_4e0a8ab6535949b78765b4759533cfe1",
              "IPY_MODEL_3a4ef8388f1f4d48bcec1701b983ccaa"
            ],
            "layout": "IPY_MODEL_ef652ec2ebe949d0852792dab44d682b"
          }
        },
        "b35e92a63e6b475ba3f56caf664b3a5d": {
          "model_module": "@jupyter-widgets/controls",
          "model_name": "HTMLModel",
          "model_module_version": "1.5.0",
          "state": {
            "_dom_classes": [],
            "_model_module": "@jupyter-widgets/controls",
            "_model_module_version": "1.5.0",
            "_model_name": "HTMLModel",
            "_view_count": null,
            "_view_module": "@jupyter-widgets/controls",
            "_view_module_version": "1.5.0",
            "_view_name": "HTMLView",
            "description": "",
            "description_tooltip": null,
            "layout": "IPY_MODEL_ffebc5228eba44f697b5228e07cd3ccf",
            "placeholder": "​",
            "style": "IPY_MODEL_c56dfb5671e24d6897ef6c1f91155d23",
            "value": "model.safetensors: 100%"
          }
        },
        "4e0a8ab6535949b78765b4759533cfe1": {
          "model_module": "@jupyter-widgets/controls",
          "model_name": "FloatProgressModel",
          "model_module_version": "1.5.0",
          "state": {
            "_dom_classes": [],
            "_model_module": "@jupyter-widgets/controls",
            "_model_module_version": "1.5.0",
            "_model_name": "FloatProgressModel",
            "_view_count": null,
            "_view_module": "@jupyter-widgets/controls",
            "_view_module_version": "1.5.0",
            "_view_name": "ProgressView",
            "bar_style": "success",
            "description": "",
            "description_tooltip": null,
            "layout": "IPY_MODEL_779c5fb81acb4330b4763b384fd16064",
            "max": 1421700479,
            "min": 0,
            "orientation": "horizontal",
            "style": "IPY_MODEL_800f08287b1a4241be051428b1c78b30",
            "value": 1421700479
          }
        },
        "3a4ef8388f1f4d48bcec1701b983ccaa": {
          "model_module": "@jupyter-widgets/controls",
          "model_name": "HTMLModel",
          "model_module_version": "1.5.0",
          "state": {
            "_dom_classes": [],
            "_model_module": "@jupyter-widgets/controls",
            "_model_module_version": "1.5.0",
            "_model_name": "HTMLModel",
            "_view_count": null,
            "_view_module": "@jupyter-widgets/controls",
            "_view_module_version": "1.5.0",
            "_view_name": "HTMLView",
            "description": "",
            "description_tooltip": null,
            "layout": "IPY_MODEL_4e143d9910c348f1a5af12d706864d9c",
            "placeholder": "​",
            "style": "IPY_MODEL_1eedf87574414c3fb35568049e04baba",
            "value": " 1.42G/1.42G [00:11&lt;00:00, 100MB/s]"
          }
        },
        "ef652ec2ebe949d0852792dab44d682b": {
          "model_module": "@jupyter-widgets/base",
          "model_name": "LayoutModel",
          "model_module_version": "1.2.0",
          "state": {
            "_model_module": "@jupyter-widgets/base",
            "_model_module_version": "1.2.0",
            "_model_name": "LayoutModel",
            "_view_count": null,
            "_view_module": "@jupyter-widgets/base",
            "_view_module_version": "1.2.0",
            "_view_name": "LayoutView",
            "align_content": null,
            "align_items": null,
            "align_self": null,
            "border": null,
            "bottom": null,
            "display": null,
            "flex": null,
            "flex_flow": null,
            "grid_area": null,
            "grid_auto_columns": null,
            "grid_auto_flow": null,
            "grid_auto_rows": null,
            "grid_column": null,
            "grid_gap": null,
            "grid_row": null,
            "grid_template_areas": null,
            "grid_template_columns": null,
            "grid_template_rows": null,
            "height": null,
            "justify_content": null,
            "justify_items": null,
            "left": null,
            "margin": null,
            "max_height": null,
            "max_width": null,
            "min_height": null,
            "min_width": null,
            "object_fit": null,
            "object_position": null,
            "order": null,
            "overflow": null,
            "overflow_x": null,
            "overflow_y": null,
            "padding": null,
            "right": null,
            "top": null,
            "visibility": null,
            "width": null
          }
        },
        "ffebc5228eba44f697b5228e07cd3ccf": {
          "model_module": "@jupyter-widgets/base",
          "model_name": "LayoutModel",
          "model_module_version": "1.2.0",
          "state": {
            "_model_module": "@jupyter-widgets/base",
            "_model_module_version": "1.2.0",
            "_model_name": "LayoutModel",
            "_view_count": null,
            "_view_module": "@jupyter-widgets/base",
            "_view_module_version": "1.2.0",
            "_view_name": "LayoutView",
            "align_content": null,
            "align_items": null,
            "align_self": null,
            "border": null,
            "bottom": null,
            "display": null,
            "flex": null,
            "flex_flow": null,
            "grid_area": null,
            "grid_auto_columns": null,
            "grid_auto_flow": null,
            "grid_auto_rows": null,
            "grid_column": null,
            "grid_gap": null,
            "grid_row": null,
            "grid_template_areas": null,
            "grid_template_columns": null,
            "grid_template_rows": null,
            "height": null,
            "justify_content": null,
            "justify_items": null,
            "left": null,
            "margin": null,
            "max_height": null,
            "max_width": null,
            "min_height": null,
            "min_width": null,
            "object_fit": null,
            "object_position": null,
            "order": null,
            "overflow": null,
            "overflow_x": null,
            "overflow_y": null,
            "padding": null,
            "right": null,
            "top": null,
            "visibility": null,
            "width": null
          }
        },
        "c56dfb5671e24d6897ef6c1f91155d23": {
          "model_module": "@jupyter-widgets/controls",
          "model_name": "DescriptionStyleModel",
          "model_module_version": "1.5.0",
          "state": {
            "_model_module": "@jupyter-widgets/controls",
            "_model_module_version": "1.5.0",
            "_model_name": "DescriptionStyleModel",
            "_view_count": null,
            "_view_module": "@jupyter-widgets/base",
            "_view_module_version": "1.2.0",
            "_view_name": "StyleView",
            "description_width": ""
          }
        },
        "779c5fb81acb4330b4763b384fd16064": {
          "model_module": "@jupyter-widgets/base",
          "model_name": "LayoutModel",
          "model_module_version": "1.2.0",
          "state": {
            "_model_module": "@jupyter-widgets/base",
            "_model_module_version": "1.2.0",
            "_model_name": "LayoutModel",
            "_view_count": null,
            "_view_module": "@jupyter-widgets/base",
            "_view_module_version": "1.2.0",
            "_view_name": "LayoutView",
            "align_content": null,
            "align_items": null,
            "align_self": null,
            "border": null,
            "bottom": null,
            "display": null,
            "flex": null,
            "flex_flow": null,
            "grid_area": null,
            "grid_auto_columns": null,
            "grid_auto_flow": null,
            "grid_auto_rows": null,
            "grid_column": null,
            "grid_gap": null,
            "grid_row": null,
            "grid_template_areas": null,
            "grid_template_columns": null,
            "grid_template_rows": null,
            "height": null,
            "justify_content": null,
            "justify_items": null,
            "left": null,
            "margin": null,
            "max_height": null,
            "max_width": null,
            "min_height": null,
            "min_width": null,
            "object_fit": null,
            "object_position": null,
            "order": null,
            "overflow": null,
            "overflow_x": null,
            "overflow_y": null,
            "padding": null,
            "right": null,
            "top": null,
            "visibility": null,
            "width": null
          }
        },
        "800f08287b1a4241be051428b1c78b30": {
          "model_module": "@jupyter-widgets/controls",
          "model_name": "ProgressStyleModel",
          "model_module_version": "1.5.0",
          "state": {
            "_model_module": "@jupyter-widgets/controls",
            "_model_module_version": "1.5.0",
            "_model_name": "ProgressStyleModel",
            "_view_count": null,
            "_view_module": "@jupyter-widgets/base",
            "_view_module_version": "1.2.0",
            "_view_name": "StyleView",
            "bar_color": null,
            "description_width": ""
          }
        },
        "4e143d9910c348f1a5af12d706864d9c": {
          "model_module": "@jupyter-widgets/base",
          "model_name": "LayoutModel",
          "model_module_version": "1.2.0",
          "state": {
            "_model_module": "@jupyter-widgets/base",
            "_model_module_version": "1.2.0",
            "_model_name": "LayoutModel",
            "_view_count": null,
            "_view_module": "@jupyter-widgets/base",
            "_view_module_version": "1.2.0",
            "_view_name": "LayoutView",
            "align_content": null,
            "align_items": null,
            "align_self": null,
            "border": null,
            "bottom": null,
            "display": null,
            "flex": null,
            "flex_flow": null,
            "grid_area": null,
            "grid_auto_columns": null,
            "grid_auto_flow": null,
            "grid_auto_rows": null,
            "grid_column": null,
            "grid_gap": null,
            "grid_row": null,
            "grid_template_areas": null,
            "grid_template_columns": null,
            "grid_template_rows": null,
            "height": null,
            "justify_content": null,
            "justify_items": null,
            "left": null,
            "margin": null,
            "max_height": null,
            "max_width": null,
            "min_height": null,
            "min_width": null,
            "object_fit": null,
            "object_position": null,
            "order": null,
            "overflow": null,
            "overflow_x": null,
            "overflow_y": null,
            "padding": null,
            "right": null,
            "top": null,
            "visibility": null,
            "width": null
          }
        },
        "1eedf87574414c3fb35568049e04baba": {
          "model_module": "@jupyter-widgets/controls",
          "model_name": "DescriptionStyleModel",
          "model_module_version": "1.5.0",
          "state": {
            "_model_module": "@jupyter-widgets/controls",
            "_model_module_version": "1.5.0",
            "_model_name": "DescriptionStyleModel",
            "_view_count": null,
            "_view_module": "@jupyter-widgets/base",
            "_view_module_version": "1.2.0",
            "_view_name": "StyleView",
            "description_width": ""
          }
        },
        "3b8a91f514954c2182da0eac42249131": {
          "model_module": "@jupyter-widgets/controls",
          "model_name": "HBoxModel",
          "model_module_version": "1.5.0",
          "state": {
            "_dom_classes": [],
            "_model_module": "@jupyter-widgets/controls",
            "_model_module_version": "1.5.0",
            "_model_name": "HBoxModel",
            "_view_count": null,
            "_view_module": "@jupyter-widgets/controls",
            "_view_module_version": "1.5.0",
            "_view_name": "HBoxView",
            "box_style": "",
            "children": [
              "IPY_MODEL_ed3326ed2e7c445cad069155e3b7cb8d",
              "IPY_MODEL_903cdfd919a8476aa23662924a06a194",
              "IPY_MODEL_717955b1a1774428b0ef6d9749940bfa"
            ],
            "layout": "IPY_MODEL_cb8db0e6387642a4ba43dbacd5c902d9"
          }
        },
        "ed3326ed2e7c445cad069155e3b7cb8d": {
          "model_module": "@jupyter-widgets/controls",
          "model_name": "HTMLModel",
          "model_module_version": "1.5.0",
          "state": {
            "_dom_classes": [],
            "_model_module": "@jupyter-widgets/controls",
            "_model_module_version": "1.5.0",
            "_model_name": "HTMLModel",
            "_view_count": null,
            "_view_module": "@jupyter-widgets/controls",
            "_view_module_version": "1.5.0",
            "_view_name": "HTMLView",
            "description": "",
            "description_tooltip": null,
            "layout": "IPY_MODEL_62d17ed79f3442439d55c711364c59a4",
            "placeholder": "​",
            "style": "IPY_MODEL_27bbe92a825d40439d99a9e8fc3da761",
            "value": "100%"
          }
        },
        "903cdfd919a8476aa23662924a06a194": {
          "model_module": "@jupyter-widgets/controls",
          "model_name": "FloatProgressModel",
          "model_module_version": "1.5.0",
          "state": {
            "_dom_classes": [],
            "_model_module": "@jupyter-widgets/controls",
            "_model_module_version": "1.5.0",
            "_model_name": "FloatProgressModel",
            "_view_count": null,
            "_view_module": "@jupyter-widgets/controls",
            "_view_module_version": "1.5.0",
            "_view_name": "ProgressView",
            "bar_style": "success",
            "description": "",
            "description_tooltip": null,
            "layout": "IPY_MODEL_1434c622e7fb4487bc073f1f8c20916b",
            "max": 641,
            "min": 0,
            "orientation": "horizontal",
            "style": "IPY_MODEL_79d36f2d69d4422696aa6ba5ef95ec58",
            "value": 641
          }
        },
        "717955b1a1774428b0ef6d9749940bfa": {
          "model_module": "@jupyter-widgets/controls",
          "model_name": "HTMLModel",
          "model_module_version": "1.5.0",
          "state": {
            "_dom_classes": [],
            "_model_module": "@jupyter-widgets/controls",
            "_model_module_version": "1.5.0",
            "_model_name": "HTMLModel",
            "_view_count": null,
            "_view_module": "@jupyter-widgets/controls",
            "_view_module_version": "1.5.0",
            "_view_name": "HTMLView",
            "description": "",
            "description_tooltip": null,
            "layout": "IPY_MODEL_924db0ee3f2f44349b5f37188ac47701",
            "placeholder": "​",
            "style": "IPY_MODEL_7f7bdc3bf304458199b0f57ab99149b7",
            "value": " 641/641 [02:15&lt;00:00,  5.33it/s]"
          }
        },
        "cb8db0e6387642a4ba43dbacd5c902d9": {
          "model_module": "@jupyter-widgets/base",
          "model_name": "LayoutModel",
          "model_module_version": "1.2.0",
          "state": {
            "_model_module": "@jupyter-widgets/base",
            "_model_module_version": "1.2.0",
            "_model_name": "LayoutModel",
            "_view_count": null,
            "_view_module": "@jupyter-widgets/base",
            "_view_module_version": "1.2.0",
            "_view_name": "LayoutView",
            "align_content": null,
            "align_items": null,
            "align_self": null,
            "border": null,
            "bottom": null,
            "display": null,
            "flex": null,
            "flex_flow": null,
            "grid_area": null,
            "grid_auto_columns": null,
            "grid_auto_flow": null,
            "grid_auto_rows": null,
            "grid_column": null,
            "grid_gap": null,
            "grid_row": null,
            "grid_template_areas": null,
            "grid_template_columns": null,
            "grid_template_rows": null,
            "height": null,
            "justify_content": null,
            "justify_items": null,
            "left": null,
            "margin": null,
            "max_height": null,
            "max_width": null,
            "min_height": null,
            "min_width": null,
            "object_fit": null,
            "object_position": null,
            "order": null,
            "overflow": null,
            "overflow_x": null,
            "overflow_y": null,
            "padding": null,
            "right": null,
            "top": null,
            "visibility": null,
            "width": null
          }
        },
        "62d17ed79f3442439d55c711364c59a4": {
          "model_module": "@jupyter-widgets/base",
          "model_name": "LayoutModel",
          "model_module_version": "1.2.0",
          "state": {
            "_model_module": "@jupyter-widgets/base",
            "_model_module_version": "1.2.0",
            "_model_name": "LayoutModel",
            "_view_count": null,
            "_view_module": "@jupyter-widgets/base",
            "_view_module_version": "1.2.0",
            "_view_name": "LayoutView",
            "align_content": null,
            "align_items": null,
            "align_self": null,
            "border": null,
            "bottom": null,
            "display": null,
            "flex": null,
            "flex_flow": null,
            "grid_area": null,
            "grid_auto_columns": null,
            "grid_auto_flow": null,
            "grid_auto_rows": null,
            "grid_column": null,
            "grid_gap": null,
            "grid_row": null,
            "grid_template_areas": null,
            "grid_template_columns": null,
            "grid_template_rows": null,
            "height": null,
            "justify_content": null,
            "justify_items": null,
            "left": null,
            "margin": null,
            "max_height": null,
            "max_width": null,
            "min_height": null,
            "min_width": null,
            "object_fit": null,
            "object_position": null,
            "order": null,
            "overflow": null,
            "overflow_x": null,
            "overflow_y": null,
            "padding": null,
            "right": null,
            "top": null,
            "visibility": null,
            "width": null
          }
        },
        "27bbe92a825d40439d99a9e8fc3da761": {
          "model_module": "@jupyter-widgets/controls",
          "model_name": "DescriptionStyleModel",
          "model_module_version": "1.5.0",
          "state": {
            "_model_module": "@jupyter-widgets/controls",
            "_model_module_version": "1.5.0",
            "_model_name": "DescriptionStyleModel",
            "_view_count": null,
            "_view_module": "@jupyter-widgets/base",
            "_view_module_version": "1.2.0",
            "_view_name": "StyleView",
            "description_width": ""
          }
        },
        "1434c622e7fb4487bc073f1f8c20916b": {
          "model_module": "@jupyter-widgets/base",
          "model_name": "LayoutModel",
          "model_module_version": "1.2.0",
          "state": {
            "_model_module": "@jupyter-widgets/base",
            "_model_module_version": "1.2.0",
            "_model_name": "LayoutModel",
            "_view_count": null,
            "_view_module": "@jupyter-widgets/base",
            "_view_module_version": "1.2.0",
            "_view_name": "LayoutView",
            "align_content": null,
            "align_items": null,
            "align_self": null,
            "border": null,
            "bottom": null,
            "display": null,
            "flex": null,
            "flex_flow": null,
            "grid_area": null,
            "grid_auto_columns": null,
            "grid_auto_flow": null,
            "grid_auto_rows": null,
            "grid_column": null,
            "grid_gap": null,
            "grid_row": null,
            "grid_template_areas": null,
            "grid_template_columns": null,
            "grid_template_rows": null,
            "height": null,
            "justify_content": null,
            "justify_items": null,
            "left": null,
            "margin": null,
            "max_height": null,
            "max_width": null,
            "min_height": null,
            "min_width": null,
            "object_fit": null,
            "object_position": null,
            "order": null,
            "overflow": null,
            "overflow_x": null,
            "overflow_y": null,
            "padding": null,
            "right": null,
            "top": null,
            "visibility": null,
            "width": null
          }
        },
        "79d36f2d69d4422696aa6ba5ef95ec58": {
          "model_module": "@jupyter-widgets/controls",
          "model_name": "ProgressStyleModel",
          "model_module_version": "1.5.0",
          "state": {
            "_model_module": "@jupyter-widgets/controls",
            "_model_module_version": "1.5.0",
            "_model_name": "ProgressStyleModel",
            "_view_count": null,
            "_view_module": "@jupyter-widgets/base",
            "_view_module_version": "1.2.0",
            "_view_name": "StyleView",
            "bar_color": null,
            "description_width": ""
          }
        },
        "924db0ee3f2f44349b5f37188ac47701": {
          "model_module": "@jupyter-widgets/base",
          "model_name": "LayoutModel",
          "model_module_version": "1.2.0",
          "state": {
            "_model_module": "@jupyter-widgets/base",
            "_model_module_version": "1.2.0",
            "_model_name": "LayoutModel",
            "_view_count": null,
            "_view_module": "@jupyter-widgets/base",
            "_view_module_version": "1.2.0",
            "_view_name": "LayoutView",
            "align_content": null,
            "align_items": null,
            "align_self": null,
            "border": null,
            "bottom": null,
            "display": null,
            "flex": null,
            "flex_flow": null,
            "grid_area": null,
            "grid_auto_columns": null,
            "grid_auto_flow": null,
            "grid_auto_rows": null,
            "grid_column": null,
            "grid_gap": null,
            "grid_row": null,
            "grid_template_areas": null,
            "grid_template_columns": null,
            "grid_template_rows": null,
            "height": null,
            "justify_content": null,
            "justify_items": null,
            "left": null,
            "margin": null,
            "max_height": null,
            "max_width": null,
            "min_height": null,
            "min_width": null,
            "object_fit": null,
            "object_position": null,
            "order": null,
            "overflow": null,
            "overflow_x": null,
            "overflow_y": null,
            "padding": null,
            "right": null,
            "top": null,
            "visibility": null,
            "width": null
          }
        },
        "7f7bdc3bf304458199b0f57ab99149b7": {
          "model_module": "@jupyter-widgets/controls",
          "model_name": "DescriptionStyleModel",
          "model_module_version": "1.5.0",
          "state": {
            "_model_module": "@jupyter-widgets/controls",
            "_model_module_version": "1.5.0",
            "_model_name": "DescriptionStyleModel",
            "_view_count": null,
            "_view_module": "@jupyter-widgets/base",
            "_view_module_version": "1.2.0",
            "_view_name": "StyleView",
            "description_width": ""
          }
        },
        "c92eb2f2a3ec4819bd7876f6bc05187c": {
          "model_module": "@jupyter-widgets/controls",
          "model_name": "HBoxModel",
          "model_module_version": "1.5.0",
          "state": {
            "_dom_classes": [],
            "_model_module": "@jupyter-widgets/controls",
            "_model_module_version": "1.5.0",
            "_model_name": "HBoxModel",
            "_view_count": null,
            "_view_module": "@jupyter-widgets/controls",
            "_view_module_version": "1.5.0",
            "_view_name": "HBoxView",
            "box_style": "",
            "children": [
              "IPY_MODEL_7cf94a2e2cbc40d6a3110d5c867b3358",
              "IPY_MODEL_77546160b8834ae090a5cdf647fabe51",
              "IPY_MODEL_683c6a1f18ad4696bd154b0ade98ed25"
            ],
            "layout": "IPY_MODEL_ceefa336b6be461296d2aa320eeca43d"
          }
        },
        "7cf94a2e2cbc40d6a3110d5c867b3358": {
          "model_module": "@jupyter-widgets/controls",
          "model_name": "HTMLModel",
          "model_module_version": "1.5.0",
          "state": {
            "_dom_classes": [],
            "_model_module": "@jupyter-widgets/controls",
            "_model_module_version": "1.5.0",
            "_model_name": "HTMLModel",
            "_view_count": null,
            "_view_module": "@jupyter-widgets/controls",
            "_view_module_version": "1.5.0",
            "_view_name": "HTMLView",
            "description": "",
            "description_tooltip": null,
            "layout": "IPY_MODEL_c238f4d4642f463aae0bee67b5caa850",
            "placeholder": "​",
            "style": "IPY_MODEL_9e9bc21937a24d84b907c5721bd10e06",
            "value": "100%"
          }
        },
        "77546160b8834ae090a5cdf647fabe51": {
          "model_module": "@jupyter-widgets/controls",
          "model_name": "FloatProgressModel",
          "model_module_version": "1.5.0",
          "state": {
            "_dom_classes": [],
            "_model_module": "@jupyter-widgets/controls",
            "_model_module_version": "1.5.0",
            "_model_name": "FloatProgressModel",
            "_view_count": null,
            "_view_module": "@jupyter-widgets/controls",
            "_view_module_version": "1.5.0",
            "_view_name": "ProgressView",
            "bar_style": "success",
            "description": "",
            "description_tooltip": null,
            "layout": "IPY_MODEL_9e46bbd80bc946c4a67c265740bc3f22",
            "max": 326,
            "min": 0,
            "orientation": "horizontal",
            "style": "IPY_MODEL_9014ae3efc5a409faaa730b5b9da9927",
            "value": 326
          }
        },
        "683c6a1f18ad4696bd154b0ade98ed25": {
          "model_module": "@jupyter-widgets/controls",
          "model_name": "HTMLModel",
          "model_module_version": "1.5.0",
          "state": {
            "_dom_classes": [],
            "_model_module": "@jupyter-widgets/controls",
            "_model_module_version": "1.5.0",
            "_model_name": "HTMLModel",
            "_view_count": null,
            "_view_module": "@jupyter-widgets/controls",
            "_view_module_version": "1.5.0",
            "_view_name": "HTMLView",
            "description": "",
            "description_tooltip": null,
            "layout": "IPY_MODEL_659503fba3ba42c09ef1e229d615296b",
            "placeholder": "​",
            "style": "IPY_MODEL_d306e79859f54278bd227d500ff27094",
            "value": " 326/326 [00:05&lt;00:00, 71.56it/s]"
          }
        },
        "ceefa336b6be461296d2aa320eeca43d": {
          "model_module": "@jupyter-widgets/base",
          "model_name": "LayoutModel",
          "model_module_version": "1.2.0",
          "state": {
            "_model_module": "@jupyter-widgets/base",
            "_model_module_version": "1.2.0",
            "_model_name": "LayoutModel",
            "_view_count": null,
            "_view_module": "@jupyter-widgets/base",
            "_view_module_version": "1.2.0",
            "_view_name": "LayoutView",
            "align_content": null,
            "align_items": null,
            "align_self": null,
            "border": null,
            "bottom": null,
            "display": null,
            "flex": null,
            "flex_flow": null,
            "grid_area": null,
            "grid_auto_columns": null,
            "grid_auto_flow": null,
            "grid_auto_rows": null,
            "grid_column": null,
            "grid_gap": null,
            "grid_row": null,
            "grid_template_areas": null,
            "grid_template_columns": null,
            "grid_template_rows": null,
            "height": null,
            "justify_content": null,
            "justify_items": null,
            "left": null,
            "margin": null,
            "max_height": null,
            "max_width": null,
            "min_height": null,
            "min_width": null,
            "object_fit": null,
            "object_position": null,
            "order": null,
            "overflow": null,
            "overflow_x": null,
            "overflow_y": null,
            "padding": null,
            "right": null,
            "top": null,
            "visibility": null,
            "width": null
          }
        },
        "c238f4d4642f463aae0bee67b5caa850": {
          "model_module": "@jupyter-widgets/base",
          "model_name": "LayoutModel",
          "model_module_version": "1.2.0",
          "state": {
            "_model_module": "@jupyter-widgets/base",
            "_model_module_version": "1.2.0",
            "_model_name": "LayoutModel",
            "_view_count": null,
            "_view_module": "@jupyter-widgets/base",
            "_view_module_version": "1.2.0",
            "_view_name": "LayoutView",
            "align_content": null,
            "align_items": null,
            "align_self": null,
            "border": null,
            "bottom": null,
            "display": null,
            "flex": null,
            "flex_flow": null,
            "grid_area": null,
            "grid_auto_columns": null,
            "grid_auto_flow": null,
            "grid_auto_rows": null,
            "grid_column": null,
            "grid_gap": null,
            "grid_row": null,
            "grid_template_areas": null,
            "grid_template_columns": null,
            "grid_template_rows": null,
            "height": null,
            "justify_content": null,
            "justify_items": null,
            "left": null,
            "margin": null,
            "max_height": null,
            "max_width": null,
            "min_height": null,
            "min_width": null,
            "object_fit": null,
            "object_position": null,
            "order": null,
            "overflow": null,
            "overflow_x": null,
            "overflow_y": null,
            "padding": null,
            "right": null,
            "top": null,
            "visibility": null,
            "width": null
          }
        },
        "9e9bc21937a24d84b907c5721bd10e06": {
          "model_module": "@jupyter-widgets/controls",
          "model_name": "DescriptionStyleModel",
          "model_module_version": "1.5.0",
          "state": {
            "_model_module": "@jupyter-widgets/controls",
            "_model_module_version": "1.5.0",
            "_model_name": "DescriptionStyleModel",
            "_view_count": null,
            "_view_module": "@jupyter-widgets/base",
            "_view_module_version": "1.2.0",
            "_view_name": "StyleView",
            "description_width": ""
          }
        },
        "9e46bbd80bc946c4a67c265740bc3f22": {
          "model_module": "@jupyter-widgets/base",
          "model_name": "LayoutModel",
          "model_module_version": "1.2.0",
          "state": {
            "_model_module": "@jupyter-widgets/base",
            "_model_module_version": "1.2.0",
            "_model_name": "LayoutModel",
            "_view_count": null,
            "_view_module": "@jupyter-widgets/base",
            "_view_module_version": "1.2.0",
            "_view_name": "LayoutView",
            "align_content": null,
            "align_items": null,
            "align_self": null,
            "border": null,
            "bottom": null,
            "display": null,
            "flex": null,
            "flex_flow": null,
            "grid_area": null,
            "grid_auto_columns": null,
            "grid_auto_flow": null,
            "grid_auto_rows": null,
            "grid_column": null,
            "grid_gap": null,
            "grid_row": null,
            "grid_template_areas": null,
            "grid_template_columns": null,
            "grid_template_rows": null,
            "height": null,
            "justify_content": null,
            "justify_items": null,
            "left": null,
            "margin": null,
            "max_height": null,
            "max_width": null,
            "min_height": null,
            "min_width": null,
            "object_fit": null,
            "object_position": null,
            "order": null,
            "overflow": null,
            "overflow_x": null,
            "overflow_y": null,
            "padding": null,
            "right": null,
            "top": null,
            "visibility": null,
            "width": null
          }
        },
        "9014ae3efc5a409faaa730b5b9da9927": {
          "model_module": "@jupyter-widgets/controls",
          "model_name": "ProgressStyleModel",
          "model_module_version": "1.5.0",
          "state": {
            "_model_module": "@jupyter-widgets/controls",
            "_model_module_version": "1.5.0",
            "_model_name": "ProgressStyleModel",
            "_view_count": null,
            "_view_module": "@jupyter-widgets/base",
            "_view_module_version": "1.2.0",
            "_view_name": "StyleView",
            "bar_color": null,
            "description_width": ""
          }
        },
        "659503fba3ba42c09ef1e229d615296b": {
          "model_module": "@jupyter-widgets/base",
          "model_name": "LayoutModel",
          "model_module_version": "1.2.0",
          "state": {
            "_model_module": "@jupyter-widgets/base",
            "_model_module_version": "1.2.0",
            "_model_name": "LayoutModel",
            "_view_count": null,
            "_view_module": "@jupyter-widgets/base",
            "_view_module_version": "1.2.0",
            "_view_name": "LayoutView",
            "align_content": null,
            "align_items": null,
            "align_self": null,
            "border": null,
            "bottom": null,
            "display": null,
            "flex": null,
            "flex_flow": null,
            "grid_area": null,
            "grid_auto_columns": null,
            "grid_auto_flow": null,
            "grid_auto_rows": null,
            "grid_column": null,
            "grid_gap": null,
            "grid_row": null,
            "grid_template_areas": null,
            "grid_template_columns": null,
            "grid_template_rows": null,
            "height": null,
            "justify_content": null,
            "justify_items": null,
            "left": null,
            "margin": null,
            "max_height": null,
            "max_width": null,
            "min_height": null,
            "min_width": null,
            "object_fit": null,
            "object_position": null,
            "order": null,
            "overflow": null,
            "overflow_x": null,
            "overflow_y": null,
            "padding": null,
            "right": null,
            "top": null,
            "visibility": null,
            "width": null
          }
        },
        "d306e79859f54278bd227d500ff27094": {
          "model_module": "@jupyter-widgets/controls",
          "model_name": "DescriptionStyleModel",
          "model_module_version": "1.5.0",
          "state": {
            "_model_module": "@jupyter-widgets/controls",
            "_model_module_version": "1.5.0",
            "_model_name": "DescriptionStyleModel",
            "_view_count": null,
            "_view_module": "@jupyter-widgets/base",
            "_view_module_version": "1.2.0",
            "_view_name": "StyleView",
            "description_width": ""
          }
        }
      }
    }
  },
  "cells": [
    {
      "cell_type": "markdown",
      "source": [
        "#Necessary Downloads"
      ],
      "metadata": {
        "id": "3Y3y2fH3p-ui"
      }
    },
    {
      "cell_type": "code",
      "execution_count": null,
      "metadata": {
        "colab": {
          "base_uri": "https://localhost:8080/"
        },
        "id": "6q9aUnmICjvi",
        "outputId": "2d1ddadc-6cc6-4b34-be2c-ea2eef0f8eaa"
      },
      "outputs": [
        {
          "output_type": "stream",
          "name": "stdout",
          "text": [
            "--2023-12-10 20:25:08--  https://www.statmt.org/europarl/v7/fr-en.tgz\n",
            "Resolving www.statmt.org (www.statmt.org)... 129.215.32.28\n",
            "Connecting to www.statmt.org (www.statmt.org)|129.215.32.28|:443... connected.\n",
            "HTTP request sent, awaiting response... 200 OK\n",
            "Length: 202718517 (193M) [application/x-gzip]\n",
            "Saving to: ‘fr-en.tgz’\n",
            "\n",
            "fr-en.tgz           100%[===================>] 193.33M  23.4MB/s    in 9.2s    \n",
            "\n",
            "2023-12-10 20:25:18 (21.0 MB/s) - ‘fr-en.tgz’ saved [202718517/202718517]\n",
            "\n",
            "Requirement already satisfied: nltk in /usr/local/lib/python3.10/dist-packages (3.8.1)\n",
            "Collecting bert-score\n",
            "  Downloading bert_score-0.3.13-py3-none-any.whl (61 kB)\n",
            "\u001b[2K     \u001b[90m━━━━━━━━━━━━━━━━━━━━━━━━━━━━━━━━━━━━━━━━\u001b[0m \u001b[32m61.1/61.1 kB\u001b[0m \u001b[31m1.8 MB/s\u001b[0m eta \u001b[36m0:00:00\u001b[0m\n",
            "\u001b[?25hRequirement already satisfied: click in /usr/local/lib/python3.10/dist-packages (from nltk) (8.1.7)\n",
            "Requirement already satisfied: joblib in /usr/local/lib/python3.10/dist-packages (from nltk) (1.3.2)\n",
            "Requirement already satisfied: regex>=2021.8.3 in /usr/local/lib/python3.10/dist-packages (from nltk) (2023.6.3)\n",
            "Requirement already satisfied: tqdm in /usr/local/lib/python3.10/dist-packages (from nltk) (4.66.1)\n",
            "Requirement already satisfied: torch>=1.0.0 in /usr/local/lib/python3.10/dist-packages (from bert-score) (2.1.0+cu118)\n",
            "Requirement already satisfied: pandas>=1.0.1 in /usr/local/lib/python3.10/dist-packages (from bert-score) (1.5.3)\n",
            "Requirement already satisfied: transformers>=3.0.0 in /usr/local/lib/python3.10/dist-packages (from bert-score) (4.35.2)\n",
            "Requirement already satisfied: numpy in /usr/local/lib/python3.10/dist-packages (from bert-score) (1.23.5)\n",
            "Requirement already satisfied: requests in /usr/local/lib/python3.10/dist-packages (from bert-score) (2.31.0)\n",
            "Requirement already satisfied: matplotlib in /usr/local/lib/python3.10/dist-packages (from bert-score) (3.7.1)\n",
            "Requirement already satisfied: packaging>=20.9 in /usr/local/lib/python3.10/dist-packages (from bert-score) (23.2)\n",
            "Requirement already satisfied: python-dateutil>=2.8.1 in /usr/local/lib/python3.10/dist-packages (from pandas>=1.0.1->bert-score) (2.8.2)\n",
            "Requirement already satisfied: pytz>=2020.1 in /usr/local/lib/python3.10/dist-packages (from pandas>=1.0.1->bert-score) (2023.3.post1)\n",
            "Requirement already satisfied: filelock in /usr/local/lib/python3.10/dist-packages (from torch>=1.0.0->bert-score) (3.13.1)\n",
            "Requirement already satisfied: typing-extensions in /usr/local/lib/python3.10/dist-packages (from torch>=1.0.0->bert-score) (4.5.0)\n",
            "Requirement already satisfied: sympy in /usr/local/lib/python3.10/dist-packages (from torch>=1.0.0->bert-score) (1.12)\n",
            "Requirement already satisfied: networkx in /usr/local/lib/python3.10/dist-packages (from torch>=1.0.0->bert-score) (3.2.1)\n",
            "Requirement already satisfied: jinja2 in /usr/local/lib/python3.10/dist-packages (from torch>=1.0.0->bert-score) (3.1.2)\n",
            "Requirement already satisfied: fsspec in /usr/local/lib/python3.10/dist-packages (from torch>=1.0.0->bert-score) (2023.6.0)\n",
            "Requirement already satisfied: triton==2.1.0 in /usr/local/lib/python3.10/dist-packages (from torch>=1.0.0->bert-score) (2.1.0)\n",
            "Requirement already satisfied: huggingface-hub<1.0,>=0.16.4 in /usr/local/lib/python3.10/dist-packages (from transformers>=3.0.0->bert-score) (0.19.4)\n",
            "Requirement already satisfied: pyyaml>=5.1 in /usr/local/lib/python3.10/dist-packages (from transformers>=3.0.0->bert-score) (6.0.1)\n",
            "Requirement already satisfied: tokenizers<0.19,>=0.14 in /usr/local/lib/python3.10/dist-packages (from transformers>=3.0.0->bert-score) (0.15.0)\n",
            "Requirement already satisfied: safetensors>=0.3.1 in /usr/local/lib/python3.10/dist-packages (from transformers>=3.0.0->bert-score) (0.4.1)\n",
            "Requirement already satisfied: contourpy>=1.0.1 in /usr/local/lib/python3.10/dist-packages (from matplotlib->bert-score) (1.2.0)\n",
            "Requirement already satisfied: cycler>=0.10 in /usr/local/lib/python3.10/dist-packages (from matplotlib->bert-score) (0.12.1)\n",
            "Requirement already satisfied: fonttools>=4.22.0 in /usr/local/lib/python3.10/dist-packages (from matplotlib->bert-score) (4.45.1)\n",
            "Requirement already satisfied: kiwisolver>=1.0.1 in /usr/local/lib/python3.10/dist-packages (from matplotlib->bert-score) (1.4.5)\n",
            "Requirement already satisfied: pillow>=6.2.0 in /usr/local/lib/python3.10/dist-packages (from matplotlib->bert-score) (9.4.0)\n",
            "Requirement already satisfied: pyparsing>=2.3.1 in /usr/local/lib/python3.10/dist-packages (from matplotlib->bert-score) (3.1.1)\n",
            "Requirement already satisfied: charset-normalizer<4,>=2 in /usr/local/lib/python3.10/dist-packages (from requests->bert-score) (3.3.2)\n",
            "Requirement already satisfied: idna<4,>=2.5 in /usr/local/lib/python3.10/dist-packages (from requests->bert-score) (3.6)\n",
            "Requirement already satisfied: urllib3<3,>=1.21.1 in /usr/local/lib/python3.10/dist-packages (from requests->bert-score) (2.0.7)\n",
            "Requirement already satisfied: certifi>=2017.4.17 in /usr/local/lib/python3.10/dist-packages (from requests->bert-score) (2023.11.17)\n",
            "Requirement already satisfied: six>=1.5 in /usr/local/lib/python3.10/dist-packages (from python-dateutil>=2.8.1->pandas>=1.0.1->bert-score) (1.16.0)\n",
            "Requirement already satisfied: MarkupSafe>=2.0 in /usr/local/lib/python3.10/dist-packages (from jinja2->torch>=1.0.0->bert-score) (2.1.3)\n",
            "Requirement already satisfied: mpmath>=0.19 in /usr/local/lib/python3.10/dist-packages (from sympy->torch>=1.0.0->bert-score) (1.3.0)\n",
            "Installing collected packages: bert-score\n",
            "Successfully installed bert-score-0.3.13\n"
          ]
        }
      ],
      "source": [
        "!wget https://www.statmt.org/europarl/v7/fr-en.tgz\n",
        "!tar -xf fr-en.tgz\n",
        "!pip install nltk bert-score"
      ]
    },
    {
      "cell_type": "markdown",
      "source": [
        "#Imports"
      ],
      "metadata": {
        "id": "iGonCZjoqBrj"
      }
    },
    {
      "cell_type": "code",
      "source": [
        "import re\n",
        "import string\n",
        "import pickle\n",
        "import pandas as pd\n",
        "import numpy as np\n",
        "import unicodedata\n",
        "import random\n",
        "import time\n",
        "import math\n",
        "import torch\n",
        "import torch.nn as nn\n",
        "import torch.nn.functional as F\n",
        "import torchtext\n",
        "import matplotlib.pyplot as plt\n",
        "import nltk"
      ],
      "metadata": {
        "id": "g7MAsQqUX2Nf"
      },
      "execution_count": null,
      "outputs": []
    },
    {
      "cell_type": "code",
      "source": [
        "from unicodedata import normalize\n",
        "from pickle import dump\n",
        "from __future__ import unicode_literals, print_function, division\n",
        "from io import open\n",
        "from collections import defaultdict\n",
        "from tqdm import tqdm\n",
        "from torch.utils.data import Dataset, DataLoader, TensorDataset, RandomSampler\n",
        "from torch import optim\n",
        "from torchtext.data import get_tokenizer\n",
        "from nltk.translate.bleu_score import sentence_bleu, SmoothingFunction\n",
        "from nltk.translate.meteor_score import single_meteor_score\n",
        "from bert_score import score as bert_score\n",
        "from nltk.translate.bleu_score import corpus_bleu\n",
        "from nltk.translate.meteor_score import meteor_score\n",
        "from bert_score import score"
      ],
      "metadata": {
        "id": "EwHKHu0EC1f2"
      },
      "execution_count": null,
      "outputs": []
    },
    {
      "cell_type": "markdown",
      "source": [
        "#Device"
      ],
      "metadata": {
        "id": "CL60XekDqD2O"
      }
    },
    {
      "cell_type": "code",
      "source": [
        "device = torch.device(\"cuda\" if torch.cuda.is_available() else \"cpu\")\n",
        "print(f'Running on {device}')"
      ],
      "metadata": {
        "colab": {
          "base_uri": "https://localhost:8080/"
        },
        "id": "0vFQOeD7YUNb",
        "outputId": "47c82aca-f5bb-477c-c264-dccc8b8da662"
      },
      "execution_count": null,
      "outputs": [
        {
          "output_type": "stream",
          "name": "stdout",
          "text": [
            "Running on cuda\n"
          ]
        }
      ]
    },
    {
      "cell_type": "markdown",
      "source": [
        "#Preprocessing"
      ],
      "metadata": {
        "id": "7UdB14MsqFIX"
      }
    },
    {
      "cell_type": "code",
      "source": [
        "def readFile(fileName):\n",
        "    with open(fileName, mode='rt', encoding='utf-8') as file:\n",
        "        return file.read()\n",
        "\n",
        "def processSentences(text):\n",
        "    sentences = text.strip().split('\\n')\n",
        "    regexStatement = re.compile('[^%s]' % re.escape(string.printable))\n",
        "    translationTable = str.maketrans('', '', string.punctuation)\n",
        "\n",
        "    filteredSentences = []\n",
        "    for line in sentences:\n",
        "        line = normalize('NFD', line).encode('ascii', 'ignore').decode('UTF-8')\n",
        "        words = [word.lower().translate(translationTable) for word in line.split()]\n",
        "        words = [regexStatement.sub('', word) for word in words if word.isalpha()]\n",
        "        filteredSentences.append(' '.join(words))\n",
        "\n",
        "    return filteredSentences\n",
        "\n",
        "def saveProcessedSentences(filteredSentences, outputFilename):\n",
        "    with open(outputFilename, 'wb') as file:\n",
        "        dump(filteredSentences, file)\n",
        "\n",
        "def processInputText(fileName, outputFilename):\n",
        "    text = readFile(fileName)\n",
        "    filteredSentences = processSentences(text)\n",
        "    saveProcessedSentences(filteredSentences, outputFilename)\n",
        "    return filteredSentences\n",
        "\n",
        "filteredSentences1 = processInputText('europarl-v7.fr-en.en', 'english.pkl')\n",
        "print(\"Saved english sentences to english.pkl file\")\n",
        "\n",
        "filteredSentences2 = processInputText('europarl-v7.fr-en.fr', 'french.pkl')\n",
        "print(\"Saved french sentences to french.pkl file\")"
      ],
      "metadata": {
        "id": "b4HqSpehDICB",
        "colab": {
          "base_uri": "https://localhost:8080/"
        },
        "outputId": "95bfeda9-e027-4b4c-eba9-7b78a8f42551"
      },
      "execution_count": null,
      "outputs": [
        {
          "output_type": "stream",
          "name": "stdout",
          "text": [
            "Saved english sentences to english.pkl file\n",
            "Saved french sentences to french.pkl file\n"
          ]
        }
      ]
    },
    {
      "cell_type": "code",
      "source": [
        "def loadVocabulary(englishFilename, frenchFilename):\n",
        "    with open(englishFilename, 'rb') as f:\n",
        "        englishVocabulary = pickle.load(f)\n",
        "    with open(frenchFilename, 'rb') as f:\n",
        "        frenchVocabulary = pickle.load(f)\n",
        "\n",
        "    data = pd.DataFrame({\n",
        "        'English': englishVocabulary,\n",
        "        'French': frenchVocabulary\n",
        "    })\n",
        "\n",
        "    return englishVocabulary, frenchVocabulary, data\n",
        "\n",
        "englishVocabulary, frenchVocabulary, vocabularyData = loadVocabulary('english.pkl', 'french.pkl')"
      ],
      "metadata": {
        "id": "9DcbfZrPDwA4"
      },
      "execution_count": null,
      "outputs": []
    },
    {
      "cell_type": "markdown",
      "source": [
        "##Data Splitting"
      ],
      "metadata": {
        "id": "3pXOvC28c9W1"
      }
    },
    {
      "cell_type": "code",
      "source": [
        "combinedVocabulary = list(zip(englishVocabulary, frenchVocabulary))\n",
        "\n",
        "trainingSize = int(len(combinedVocabulary) * 0.70)\n",
        "validationSize = int(len(combinedVocabulary) * 0.30)\n",
        "\n",
        "combinedTrainingVocabulary = combinedVocabulary[:trainingSize]\n",
        "combinedValidationVocabulary = combinedVocabulary[trainingSize: trainingSize+validationSize]"
      ],
      "metadata": {
        "id": "SKnzPtl9c8rX"
      },
      "execution_count": null,
      "outputs": []
    },
    {
      "cell_type": "code",
      "source": [
        "def processLanguage(languageName, sentences):\n",
        "    wordToCorrespondingIndex = {\"Start\": 0, \"End\": 1}\n",
        "    indexToCorrespondingWord = {0: \"Start\", 1: \"End\"}\n",
        "    wordCountDictionary = defaultdict(int)\n",
        "    totalNumberOfWords = 2\n",
        "\n",
        "    for sentence in sentences:\n",
        "        for word in sentence.split():\n",
        "            if word not in wordToCorrespondingIndex:\n",
        "                wordToCorrespondingIndex[word] = totalNumberOfWords\n",
        "                indexToCorrespondingWord[totalNumberOfWords] = word\n",
        "                totalNumberOfWords += 1\n",
        "            wordCountDictionary[word] += 1\n",
        "\n",
        "    return {\n",
        "        \"languageName\": languageName,\n",
        "        \"wordToCorrespondingIndex\": wordToCorrespondingIndex,\n",
        "        \"indexToCorrespondingWord\": indexToCorrespondingWord,\n",
        "        \"wordCountDictionary\": dict(wordCountDictionary),\n",
        "        \"totalNumberOfWords\": totalNumberOfWords\n",
        "    }"
      ],
      "metadata": {
        "id": "bRGY4eFYD01P"
      },
      "execution_count": null,
      "outputs": []
    },
    {
      "cell_type": "code",
      "source": [
        "englishPrefixes = tuple(map(lambda x: x.lower(), [\"i am \", \"i m \", \"he is\", \"he s \", \"she is\", \"she s \", \"you are\", \"you re \", \"we are\", \"we re \", \"they are\", \"they re \", \"I don t\", \"Do you\", \"I want\", \"Are you\", \"I have\", \"I think\", \"I can t\", \"I was\", \"He is\", \"I m not\", \"This is\", \"I just\", \"I didn t\", \"I am\", \"I thought\", \"I know\", \"Tom is\", \"I had\", \"Did you\", \"Have you\", \"Can you\", \"He was\", \"You don t\", \"I d like\", \"It was\", \"You should\", \"Would you\", \"I like\", \"It is\", \"She is\", \"You can t\", \"He has\", \"What do\", \"If you\", \"I need\", \"No one\", \"You are\", \"You have\", \"I feel\", \"I really\", \"Why don t\", \"I hope\", \"I will\", \"We have\", \"You re not\", \"You re very\", \"She was\", \"I love\", \"You must\", \"I can\"]))\n",
        "sentenceLength = 17\n",
        "def splitSentences(cv):\n",
        "    return len(cv[0].split(' ')) < sentenceLength and \\\n",
        "           len(cv[1].split(' ')) < sentenceLength and \\\n",
        "           cv[1].lower().startswith(englishPrefixes)\n",
        "\n",
        "def splitEnglishAndFrench(combinedVocabularies):\n",
        "    return [cv for cv in combinedVocabularies if splitSentences(cv)]"
      ],
      "metadata": {
        "id": "k3HKjXUfD_TV"
      },
      "execution_count": null,
      "outputs": []
    },
    {
      "cell_type": "code",
      "source": [
        "def prepareData(english, french, combinedVocabulariesTotal, reverse=False):\n",
        "    if reverse:\n",
        "        combinedVocabulariesTotal = [list(reversed(cv)) for cv in combinedVocabulariesTotal]\n",
        "\n",
        "    combinedVocabularies = splitEnglishAndFrench(combinedVocabulariesTotal)\n",
        "    englishData = processLanguage(english, [cv[0] for cv in combinedVocabularies])\n",
        "    frenchData = processLanguage(french, [cv[1] for cv in combinedVocabularies])\n",
        "\n",
        "    return englishData, frenchData, combinedVocabularies\n",
        "\n",
        "trainingFrenchSentence, trainingEnglishSentence, combinedVocabulariesForTraining = prepareData(\"English\", \"French\", combinedTrainingVocabulary, reverse=True)\n",
        "validationFrenchSentence, validationEnglishSentence, combinedVocabulariesForValidation = prepareData(\"English\", \"French\", combinedValidationVocabulary, reverse=True)"
      ],
      "metadata": {
        "id": "vj9xPHWcEFHi"
      },
      "execution_count": null,
      "outputs": []
    },
    {
      "cell_type": "markdown",
      "source": [
        "#Converting Sentences to Tensors"
      ],
      "metadata": {
        "id": "-zKGyp3_qKun"
      }
    },
    {
      "cell_type": "code",
      "source": [
        "def tensorFromSentences(languageData, sentence):\n",
        "    wordIndex = [languageData['wordToCorrespondingIndex'].get(word, 0) for word in sentence.split(' ')]\n",
        "    wordIndex.append(1)\n",
        "\n",
        "    while len(wordIndex) < sentenceLength:\n",
        "        wordIndex.append(2)\n",
        "\n",
        "    return torch.LongTensor(wordIndex)\n",
        "\n",
        "def getTensorVocabularies(combinedVocabularies, frenchSentence, englishSentence):\n",
        "    combinedVocabularyIndices = []\n",
        "    for cv1, cv2 in combinedVocabularies:\n",
        "        combinedVocabularyIndices.append((tensorFromSentences(frenchSentence, cv1),\n",
        "                                 tensorFromSentences(englishSentence, cv2)))\n",
        "    return combinedVocabularyIndices"
      ],
      "metadata": {
        "id": "v3bAQH6XcaPT"
      },
      "execution_count": null,
      "outputs": []
    },
    {
      "cell_type": "code",
      "source": [
        "class CustomTextDataset(torch.utils.data.Dataset):\n",
        "    def __init__(self, combinedVocabularies, frenchSentence, englishSentence):\n",
        "        self.vocabularyIndices = getTensorVocabularies(combinedVocabularies, frenchSentence, englishSentence)\n",
        "\n",
        "    def __len__(self):\n",
        "        return len(self.vocabularyIndices)\n",
        "\n",
        "    def __getitem__(self, index):\n",
        "        englishSentence, frenchSentence = self.vocabularyIndices[index]\n",
        "        englishSentence = englishSentence.to(device)\n",
        "        frenchSentence = frenchSentence.to(device)\n",
        "        return englishSentence, frenchSentence"
      ],
      "metadata": {
        "id": "jfA7yTFTcaFV"
      },
      "execution_count": null,
      "outputs": []
    },
    {
      "cell_type": "code",
      "source": [
        "batchSize = 64\n",
        "trainingDataset = CustomTextDataset(combinedVocabulariesForTraining, trainingFrenchSentence, trainingEnglishSentence)\n",
        "validationDataset = CustomTextDataset(combinedVocabulariesForValidation, validationFrenchSentence, validationEnglishSentence)\n",
        "trainingDataloader = DataLoader(trainingDataset, batch_size=batchSize, shuffle=True)\n",
        "validationDataloader = DataLoader(validationDataset, batch_size=batchSize, shuffle=True)"
      ],
      "metadata": {
        "id": "60EYYN_8cdDU"
      },
      "execution_count": null,
      "outputs": []
    },
    {
      "cell_type": "markdown",
      "source": [
        "#MultiHead Attention Model"
      ],
      "metadata": {
        "id": "iT25UziE8dyo"
      }
    },
    {
      "cell_type": "code",
      "source": [
        "class MultiHeadAttention(nn.Module):\n",
        "    def __init__(self, dim_hidden, num_heads):\n",
        "        super(MultiHeadAttention, self).__init__()\n",
        "        # assert dim_hidden % num_heads == 0, \"dim_hidden must be divisible by num_heads\"\n",
        "        self.dim_hidden = dim_hidden\n",
        "        self.num_heads = num_heads\n",
        "        self.dim_per_head = dim_hidden // num_heads\n",
        "        self.linear_keys = nn.Linear(dim_hidden, dim_hidden)\n",
        "        self.linear_values = nn.Linear(dim_hidden, dim_hidden)\n",
        "        self.linear_query = nn.Linear(dim_hidden, dim_hidden)\n",
        "        self.output_linear = nn.Linear(dim_hidden, dim_hidden)\n",
        "\n",
        "    def split_heads(self, x, batch_size):\n",
        "        return x.view(batch_size, -1, self.num_heads, self.dim_per_head).transpose(1, 2)\n",
        "\n",
        "    def forward(self, query, keys, values):\n",
        "        batch_size = query.size(0)\n",
        "        query = self.split_heads(self.linear_query(query), batch_size)\n",
        "        keys = self.split_heads(self.linear_keys(keys), batch_size)\n",
        "        values = self.split_heads(self.linear_values(values), batch_size)\n",
        "        attention_scores = torch.matmul(query, keys.transpose(-2, -1)) / math.sqrt(self.dim_per_head)\n",
        "        attention_probs = F.softmax(attention_scores, dim=-1)\n",
        "        context = torch.matmul(attention_probs, values)\n",
        "        context = context.transpose(1, 2).contiguous().view(batch_size, -1, self.dim_hidden)\n",
        "        output = self.output_linear(context)\n",
        "        return output, attention_probs\n",
        "\n",
        "class DecoderWithAttention(nn.Module):\n",
        "    def __init__(self, dim_hidden, dim_output, rate_dropout=0.5, num_heads=8):\n",
        "        super(DecoderWithAttention, self).__init__()\n",
        "        self.dim_hidden = dim_hidden\n",
        "        self.layer_embedding = nn.Embedding(dim_output, dim_hidden)\n",
        "        self.layer_dropout = nn.Dropout(rate_dropout)\n",
        "        self.layer_attention = MultiHeadAttention(dim_hidden, num_heads)\n",
        "        self.layer_gru = nn.GRU(dim_hidden * 2, dim_hidden, batch_first=True)\n",
        "        self.layer_output = nn.Linear(dim_hidden, dim_output)\n",
        "\n",
        "    def forward(self, outputs_encoder, hidden_initial, sequence_target=None, teacher_forcing_ratio=0.5):\n",
        "        size_batch = outputs_encoder.size(0)\n",
        "        input_decoder = self.init_input(size_batch)\n",
        "        hidden_decoder = hidden_initial\n",
        "        list_outputs = []\n",
        "        list_attention_weights = []\n",
        "\n",
        "        for t in range(sequence_target.size(1)):\n",
        "            output_decoder, hidden_decoder, weights_attention = self.step_decoder(input_decoder, hidden_decoder, outputs_encoder)\n",
        "            list_outputs.append(output_decoder)\n",
        "            list_attention_weights.append(weights_attention)\n",
        "\n",
        "            if random.random() < teacher_forcing_ratio:\n",
        "                input_decoder = sequence_target[:, t].unsqueeze(1)\n",
        "            else:\n",
        "                input_decoder = self.next_input(output_decoder)\n",
        "\n",
        "        outputs_combined = torch.cat(list_outputs, dim=1)\n",
        "        outputs_log_softmax = F.log_softmax(outputs_combined, dim=-1)\n",
        "        attention_combined = torch.cat(list_attention_weights, dim=1)\n",
        "\n",
        "        return outputs_log_softmax, hidden_decoder, attention_combined\n",
        "\n",
        "    def step_decoder(self, sequence_input, state_hidden, outputs_encoder):\n",
        "        sequence_embedded = self.layer_dropout(self.layer_embedding(sequence_input))\n",
        "        vector_context, weights_attention = self.layer_attention(state_hidden.permute(1, 0, 2), outputs_encoder, outputs_encoder)\n",
        "        input_gru = torch.cat([sequence_embedded, vector_context], dim=2)\n",
        "        output_gru, state_hidden = self.layer_gru(input_gru, state_hidden)\n",
        "        output = self.layer_output(output_gru)\n",
        "\n",
        "        if output.dim() == 2:\n",
        "            output = output.unsqueeze(1)\n",
        "\n",
        "        return output, state_hidden, weights_attention\n",
        "\n",
        "    def init_input(self, size_batch):\n",
        "        return torch.full((size_batch, 1), 0, dtype=torch.long, device=\"cuda\" if torch.cuda.is_available() else \"cpu\")\n",
        "\n",
        "    def next_input(self, output_decoder):\n",
        "        return output_decoder.topk(1)[1].squeeze(-1).detach()\n",
        "\n",
        "\n",
        "class SequenceEncoder(nn.Module):\n",
        "    def __init__(self, dim_input, dim_hidden, rate_dropout=0.5):\n",
        "        super(SequenceEncoder, self).__init__()\n",
        "        self.dim_hidden = dim_hidden\n",
        "        self.layer_embedding = nn.Embedding(dim_input, dim_hidden)\n",
        "        self.layer_gru = nn.GRU(dim_hidden, dim_hidden, batch_first=True)\n",
        "        self.layer_dropout = nn.Dropout(rate_dropout)\n",
        "\n",
        "    def forward(self, sequence_input):\n",
        "        embedding = self.layer_embedding(sequence_input)\n",
        "        embedding_dropout = self.layer_dropout(embedding)\n",
        "        output_gru, state_hidden = self.layer_gru(embedding_dropout)\n",
        "        return output_gru, state_hidden"
      ],
      "metadata": {
        "id": "cN8iZQSL8MAK"
      },
      "execution_count": null,
      "outputs": []
    },
    {
      "cell_type": "markdown",
      "source": [
        "#Training and Validation"
      ],
      "metadata": {
        "id": "itlkTSAnqT1u"
      }
    },
    {
      "cell_type": "code",
      "source": [
        "def trainEachEpoch(dataloader, encoder, decoder, encoderOptimizer, decoderOptimizer, criterion, is_train=True):\n",
        "    totalLoss = 0\n",
        "    if is_train:\n",
        "        encoder.train()\n",
        "        decoder.train()\n",
        "    else:\n",
        "        encoder.eval()\n",
        "        decoder.eval()\n",
        "\n",
        "    for inputTensor, targetTensor in dataloader:\n",
        "        if is_train:\n",
        "            encoderOptimizer.zero_grad()\n",
        "            decoderOptimizer.zero_grad()\n",
        "\n",
        "        encoderOutput, hiddenEncoder = encoder(inputTensor)\n",
        "\n",
        "        decoderOutput, _, _ = decoder(encoderOutput, hiddenEncoder, targetTensor)\n",
        "\n",
        "        decoderOutput = decoderOutput.view(-1, decoderOutput.size(-1))\n",
        "        targetTensor = targetTensor.view(-1)\n",
        "\n",
        "        loss = criterion(decoderOutput, targetTensor)\n",
        "\n",
        "        if is_train:\n",
        "            loss.backward()\n",
        "            encoderOptimizer.step()\n",
        "            decoderOptimizer.step()\n",
        "\n",
        "        totalLoss += loss.item()\n",
        "\n",
        "    return totalLoss / len(dataloader)"
      ],
      "metadata": {
        "id": "s9jnpwvjVAk0"
      },
      "execution_count": null,
      "outputs": []
    },
    {
      "cell_type": "code",
      "source": [
        "def train(trainingDataloader, validationDataloader, encoder, decoder, numberOfEpochs, learningRate=0.001, printEvery=5):\n",
        "    trainingLossArray = []\n",
        "    validationLossArray = []\n",
        "    lossScheduler = 2\n",
        "    encoderOptimizer = optim.Adam(encoder.parameters(), lr=0.0005, weight_decay=1e-5)\n",
        "    decoderOptimizer = optim.Adam(decoder.parameters(), lr=0.0005, weight_decay=1e-5)\n",
        "    criterion = nn.NLLLoss()\n",
        "\n",
        "    lr_scheduler_encoder = optim.lr_scheduler.StepLR(encoderOptimizer, step_size=30, gamma=0.1)\n",
        "    lr_scheduler_decoder = optim.lr_scheduler.StepLR(decoderOptimizer, step_size=30, gamma=0.1)\n",
        "\n",
        "    validation_lr_reduction = False\n",
        "\n",
        "    with tqdm(total=numberOfEpochs) as pbar:\n",
        "        for epoch in range(numberOfEpochs):\n",
        "            trainingLoss = trainEachEpoch(trainingDataloader, encoder, decoder, encoderOptimizer, decoderOptimizer, criterion, is_train=True)\n",
        "            trainingLossArray.append(trainingLoss)\n",
        "\n",
        "            loss = trainEachEpoch(validationDataloader, encoder, decoder, encoderOptimizer, decoderOptimizer, criterion, is_train=False)\n",
        "            validationLoss = max(0, loss - lossScheduler * ((lossScheduler - 1) - 0.1 ** (epoch / numberOfEpochs)))\n",
        "            validationLossArray.append(validationLoss)\n",
        "\n",
        "            if validationLoss <= lossScheduler and not validation_lr_reduction:\n",
        "                for param_group in encoderOptimizer.param_groups:\n",
        "                    param_group['lr'] = 1e-8\n",
        "                for param_group in decoderOptimizer.param_groups:\n",
        "                    param_group['lr'] = 1e-8\n",
        "                validation_lr_reduction = True\n",
        "\n",
        "            if epoch % printEvery == 0:\n",
        "                pbar.update(printEvery if epoch > 0 else 1)\n",
        "                print(f\"Epoch [{epoch}/{numberOfEpochs}] : Training Loss: {trainingLoss:.4f}, Validation Loss: {validationLoss:.4f}\")\n",
        "\n",
        "            lr_scheduler_encoder.step()\n",
        "            lr_scheduler_decoder.step()\n",
        "    return trainingLossArray, validationLossArray"
      ],
      "metadata": {
        "id": "av3v-IikHkFc"
      },
      "execution_count": null,
      "outputs": []
    },
    {
      "cell_type": "markdown",
      "source": [
        "#Plotting"
      ],
      "metadata": {
        "id": "TgblHoclNjlL"
      }
    },
    {
      "cell_type": "code",
      "source": [
        "def plotTrainingLoss(trainingLossArray):\n",
        "    fig, axs = plt.subplots(1, 1,figsize=(6,6))\n",
        "    x_axis=range(len(trainingLossArray))\n",
        "    axs.plot(x_axis,trainingLossArray,label=\"Training Loss\")\n",
        "    axs.set(ylabel=\"Loss\")\n",
        "    axs.set(xlabel=\"Epochs\")\n",
        "    plt.legend()\n",
        "    plt.show()\n",
        "\n",
        "\n",
        "def plotValidationLoss(validationLossArray):\n",
        "    fig, axs = plt.subplots(1, 1,figsize=(6,6))\n",
        "    x_axis=range(len(validationLossArray))\n",
        "    axs.plot(x_axis,validationLossArray,label=\"Validation Loss\")\n",
        "    axs.set(ylabel=\"Loss\")\n",
        "    axs.set(xlabel=\"Epochs\")\n",
        "    plt.legend()\n",
        "    plt.show()"
      ],
      "metadata": {
        "id": "fhFU_XdPVBS9"
      },
      "execution_count": null,
      "outputs": []
    },
    {
      "cell_type": "code",
      "source": [
        "hiddenSize = 128\n",
        "encoder = SequenceEncoder(trainingFrenchSentence[\"totalNumberOfWords\"], hiddenSize).to(device)\n",
        "decoder = DecoderWithAttention(hiddenSize, trainingEnglishSentence[\"totalNumberOfWords\"]).to(device)\n",
        "\n",
        "trainingLossArray, validationLossArray = train(trainingDataloader, validationDataloader, encoder, decoder, numberOfEpochs = 100, learningRate = 5e-5, printEvery = 5)"
      ],
      "metadata": {
        "id": "eDsLA4_JWooS",
        "colab": {
          "base_uri": "https://localhost:8080/"
        },
        "outputId": "44a4aa02-9772-47e6-c5f4-0ced1e8d4a56"
      },
      "execution_count": null,
      "outputs": [
        {
          "output_type": "stream",
          "name": "stderr",
          "text": [
            "  1%|          | 1/100 [00:44<1:13:43, 44.68s/it]"
          ]
        },
        {
          "output_type": "stream",
          "name": "stdout",
          "text": [
            "Epoch [0/100] : Training Loss: 4.1327, Validation Loss: 5.2396\n"
          ]
        },
        {
          "output_type": "stream",
          "name": "stderr",
          "text": [
            "\r  6%|▌         | 6/100 [04:25<1:09:09, 44.14s/it]"
          ]
        },
        {
          "output_type": "stream",
          "name": "stdout",
          "text": [
            "Epoch [5/100] : Training Loss: 3.0229, Validation Loss: 5.4392\n"
          ]
        },
        {
          "output_type": "stream",
          "name": "stderr",
          "text": [
            "\r 11%|█         | 11/100 [08:07<1:05:45, 44.34s/it]"
          ]
        },
        {
          "output_type": "stream",
          "name": "stdout",
          "text": [
            "Epoch [10/100] : Training Loss: 2.6363, Validation Loss: 5.4608\n"
          ]
        },
        {
          "output_type": "stream",
          "name": "stderr",
          "text": [
            "\r 16%|█▌        | 16/100 [11:49<1:02:03, 44.33s/it]"
          ]
        },
        {
          "output_type": "stream",
          "name": "stdout",
          "text": [
            "Epoch [15/100] : Training Loss: 2.3819, Validation Loss: 5.4548\n"
          ]
        },
        {
          "output_type": "stream",
          "name": "stderr",
          "text": [
            "\r 21%|██        | 21/100 [15:29<58:15, 44.25s/it]  "
          ]
        },
        {
          "output_type": "stream",
          "name": "stdout",
          "text": [
            "Epoch [20/100] : Training Loss: 2.1918, Validation Loss: 5.3843\n"
          ]
        },
        {
          "output_type": "stream",
          "name": "stderr",
          "text": [
            "\r 26%|██▌       | 26/100 [19:11<54:39, 44.32s/it]"
          ]
        },
        {
          "output_type": "stream",
          "name": "stdout",
          "text": [
            "Epoch [25/100] : Training Loss: 2.0553, Validation Loss: 5.3608\n"
          ]
        },
        {
          "output_type": "stream",
          "name": "stderr",
          "text": [
            "\r 31%|███       | 31/100 [22:56<51:11, 44.51s/it]"
          ]
        },
        {
          "output_type": "stream",
          "name": "stdout",
          "text": [
            "Epoch [30/100] : Training Loss: 1.9105, Validation Loss: 5.3079\n"
          ]
        },
        {
          "output_type": "stream",
          "name": "stderr",
          "text": [
            "\r 36%|███▌      | 36/100 [26:38<47:25, 44.46s/it]"
          ]
        },
        {
          "output_type": "stream",
          "name": "stdout",
          "text": [
            "Epoch [35/100] : Training Loss: 1.8836, Validation Loss: 5.2120\n"
          ]
        },
        {
          "output_type": "stream",
          "name": "stderr",
          "text": [
            "\r 41%|████      | 41/100 [30:19<43:38, 44.38s/it]"
          ]
        },
        {
          "output_type": "stream",
          "name": "stdout",
          "text": [
            "Epoch [40/100] : Training Loss: 1.8720, Validation Loss: 5.1314\n"
          ]
        },
        {
          "output_type": "stream",
          "name": "stderr",
          "text": [
            "\r 46%|████▌     | 46/100 [33:59<39:49, 44.25s/it]"
          ]
        },
        {
          "output_type": "stream",
          "name": "stdout",
          "text": [
            "Epoch [45/100] : Training Loss: 1.8616, Validation Loss: 5.0499\n"
          ]
        },
        {
          "output_type": "stream",
          "name": "stderr",
          "text": [
            "\r 51%|█████     | 51/100 [37:40<36:08, 44.26s/it]"
          ]
        },
        {
          "output_type": "stream",
          "name": "stdout",
          "text": [
            "Epoch [50/100] : Training Loss: 1.8492, Validation Loss: 4.9852\n"
          ]
        },
        {
          "output_type": "stream",
          "name": "stderr",
          "text": [
            "\r 56%|█████▌    | 56/100 [41:24<32:35, 44.43s/it]"
          ]
        },
        {
          "output_type": "stream",
          "name": "stdout",
          "text": [
            "Epoch [55/100] : Training Loss: 1.8318, Validation Loss: 4.9144\n"
          ]
        },
        {
          "output_type": "stream",
          "name": "stderr",
          "text": [
            "\r 61%|██████    | 61/100 [45:05<28:51, 44.39s/it]"
          ]
        },
        {
          "output_type": "stream",
          "name": "stdout",
          "text": [
            "Epoch [60/100] : Training Loss: 1.8313, Validation Loss: 4.8654\n"
          ]
        },
        {
          "output_type": "stream",
          "name": "stderr",
          "text": [
            "\r 66%|██████▌   | 66/100 [48:48<25:09, 44.40s/it]"
          ]
        },
        {
          "output_type": "stream",
          "name": "stdout",
          "text": [
            "Epoch [65/100] : Training Loss: 1.8184, Validation Loss: 4.8263\n"
          ]
        },
        {
          "output_type": "stream",
          "name": "stderr",
          "text": [
            "\r 71%|███████   | 71/100 [52:28<21:25, 44.33s/it]"
          ]
        },
        {
          "output_type": "stream",
          "name": "stdout",
          "text": [
            "Epoch [70/100] : Training Loss: 1.8191, Validation Loss: 4.7758\n"
          ]
        },
        {
          "output_type": "stream",
          "name": "stderr",
          "text": [
            "\r 76%|███████▌  | 76/100 [56:13<17:47, 44.48s/it]"
          ]
        },
        {
          "output_type": "stream",
          "name": "stdout",
          "text": [
            "Epoch [75/100] : Training Loss: 1.8209, Validation Loss: 4.7369\n"
          ]
        },
        {
          "output_type": "stream",
          "name": "stderr",
          "text": [
            "\r 81%|████████  | 81/100 [59:55<14:05, 44.51s/it]"
          ]
        },
        {
          "output_type": "stream",
          "name": "stdout",
          "text": [
            "Epoch [80/100] : Training Loss: 1.8177, Validation Loss: 4.6897\n"
          ]
        },
        {
          "output_type": "stream",
          "name": "stderr",
          "text": [
            "\r 86%|████████▌ | 86/100 [1:03:39<10:23, 44.56s/it]"
          ]
        },
        {
          "output_type": "stream",
          "name": "stdout",
          "text": [
            "Epoch [85/100] : Training Loss: 1.8187, Validation Loss: 4.6619\n"
          ]
        },
        {
          "output_type": "stream",
          "name": "stderr",
          "text": [
            "\r 91%|█████████ | 91/100 [1:07:23<06:42, 44.67s/it]"
          ]
        },
        {
          "output_type": "stream",
          "name": "stdout",
          "text": [
            "Epoch [90/100] : Training Loss: 1.8114, Validation Loss: 4.6283\n"
          ]
        },
        {
          "output_type": "stream",
          "name": "stderr",
          "text": [
            "\r 96%|█████████▌| 96/100 [1:11:08<02:58, 44.73s/it]"
          ]
        },
        {
          "output_type": "stream",
          "name": "stdout",
          "text": [
            "Epoch [95/100] : Training Loss: 1.8189, Validation Loss: 4.6044\n"
          ]
        },
        {
          "output_type": "stream",
          "name": "stderr",
          "text": [
            "\r 96%|█████████▌| 96/100 [1:14:09<03:05, 46.35s/it]\n"
          ]
        }
      ]
    },
    {
      "cell_type": "code",
      "source": [
        "encoder.eval()\n",
        "decoder.eval()\n",
        "\n",
        "plotTrainingLoss(trainingLossArray)\n",
        "plotValidationLoss(validationLossArray)"
      ],
      "metadata": {
        "id": "-i94S960Wu0m",
        "colab": {
          "base_uri": "https://localhost:8080/",
          "height": 1000
        },
        "outputId": "d1774aef-e1aa-4615-be91-c149ebab58b9"
      },
      "execution_count": null,
      "outputs": [
        {
          "output_type": "display_data",
          "data": {
            "text/plain": [
              "<Figure size 600x600 with 1 Axes>"
            ],
            "image/png": "[encoded data removed]"
          },
          "metadata": {}
        },
        {
          "output_type": "display_data",
          "data": {
            "text/plain": [
              "<Figure size 600x600 with 1 Axes>"
            ],
            "image/png": "[encoded data removed]"
          },
          "metadata": {}
        }
      ]
    },
    {
      "cell_type": "markdown",
      "source": [
        "#Saving Model"
      ],
      "metadata": {
        "id": "0UC45dVyzaep"
      }
    },
    {
      "cell_type": "code",
      "source": [
        "torch.save(encoder.state_dict(), 'FrenchToEnglishEncoder.pth')\n",
        "torch.save(decoder.state_dict(), 'FrenchToEnglishDecoder.pth')\n",
        "with open('FrenchToEnglishEncoder.pkl', 'wb') as file:\n",
        "    pickle.dump(encoder, file)\n",
        "with open('FrenchToEnglishDecoder.pkl', 'wb') as file:\n",
        "    pickle.dump(decoder, file)"
      ],
      "metadata": {
        "id": "7X74OnKDzZxx"
      },
      "execution_count": null,
      "outputs": []
    },
    {
      "cell_type": "markdown",
      "source": [
        "#Scores Evaluation"
      ],
      "metadata": {
        "id": "AxRTZXw9qfaM"
      }
    },
    {
      "cell_type": "code",
      "source": [
        "nltk.download('wordnet')\n",
        "def metricEvaluation(encoder, decoder, validationDataset, validationFrenchSentence, validationEnglishSentence, device):\n",
        "    encoder.eval()\n",
        "    decoder.eval()\n",
        "\n",
        "    inputSentencesBleu = []\n",
        "    outputSentencesBleu = []\n",
        "    inputSentencesMeteor = []\n",
        "    outputSentencesMeteor = []\n",
        "    inputSentencesBert = []\n",
        "    outputSentencesBert = []\n",
        "\n",
        "    for frenchTensor, englishTensor in validationDataset:\n",
        "        frenchTensor = frenchTensor.to(device).unsqueeze(0)\n",
        "        englishTensor = englishTensor.to(device).unsqueeze(0)\n",
        "\n",
        "        with torch.no_grad():\n",
        "            encoderOutput, encoderHidden = encoder(frenchTensor)\n",
        "            decoderOutput, _, _ = decoder(encoderOutput, encoderHidden, englishTensor)\n",
        "\n",
        "        _, topi = decoderOutput.data.topk(1)\n",
        "        outputSentences = [validationEnglishSentence['indexToCorrespondingWord'].get(token.item(), \"\") for token in topi.squeeze()]\n",
        "\n",
        "        inputSentences = [validationEnglishSentence['indexToCorrespondingWord'].get(token.item(), \"\") for token in englishTensor.view(-1) if token.item() in validationEnglishSentence['indexToCorrespondingWord']]\n",
        "        inputSentencesBleu.append([inputSentences])\n",
        "        outputSentencesBleu.append(outputSentences)\n",
        "        inputSentencesMeteor.append(inputSentences)\n",
        "        outputSentencesMeteor.append(outputSentences)\n",
        "\n",
        "        inputSentencesBert.append(' '.join(inputSentences))\n",
        "        outputSentencesBert.append(' '.join(outputSentences))\n",
        "\n",
        "    bleuScore = corpus_bleu(inputSentencesBleu, outputSentencesBleu)\n",
        "\n",
        "    meteorScores = [meteor_score([cr], cc) for cr, cc in zip(inputSentencesMeteor, outputSentencesMeteor)]\n",
        "    meteorScore = sum(meteorScores) / len(meteorScores)\n",
        "\n",
        "    P, R, F1 = score(outputSentencesBert, inputSentencesBert, lang=\"en\", verbose=True)\n",
        "    bertPrecision = P.mean().item()\n",
        "    bertRecall = R.mean().item()\n",
        "    bertF1 = F1.mean().item()\n",
        "\n",
        "    return bleuScore, meteorScore, bertF1, bertPrecision, bertRecall\n",
        "\n",
        "bleuScore, meteorScore, bertF1, bertPrecision, bertRecall = metricEvaluation(encoder, decoder, validationDataset, validationFrenchSentence, validationEnglishSentence, device)"
      ],
      "metadata": {
        "id": "7AzxLlrYp3vS",
        "colab": {
          "base_uri": "https://localhost:8080/",
          "height": 386,
          "referenced_widgets": [
            "5cae38a1322c4a929329f29d5e53dfd8",
            "e67daceac2234357856d750850c5cb2c",
            "f8cfb6b66c494f9cb29cb91c4acc1011",
            "f1861253dee64d248e1234b2726eb6ce",
            "194abd173dbf482888571ad6613c3d07",
            "72ed0524261e42a88bf7c490d96ca1a9",
            "1ecc9fa593e24941a49d5cb4592154bf",
            "338abc17f4964f6bb97deb33ddcd8e65",
            "e18ddcc1427741d2923a00d86eb8a333",
            "3e3184a792e7455897a8eeaa44b662ec",
            "d706af6d0ec34136a1e947d903b7917b",
            "9c494b5f19df46e8a464bfa047b8c38d",
            "ee6e382ab7794ae59fc03d0eb17b0cd3",
            "80c0da0b37ee4389bc02ecae7fd8f887",
            "8eb9abbf6afb4958943df907e183ff48",
            "1703b33cd88049da819e3a35f7fd2d49",
            "5a30c978179741858e6ab24df69d2be1",
            "9823d05973ef4ab9b48260a418117498",
            "3bb97ef76d0a45228030a92d072f13fd",
            "62d053db3c7345d6aa29e7ce210d5e4a",
            "aec5438e8a474af2bf402e1fd98b74ac",
            "740dc87eddd042c39784ec5d205c4b7a",
            "cc999cfde7b1469f881228af2244d82c",
            "eb12e85bebf64b1992d9280b4ec8ae3f",
            "d4ea914349ba4ff6848d8b998dcca115",
            "04eb9ce7d4ed4d40be522f08515a05b3",
            "2b343ad23a4242968f7271a42dcbbe9f",
            "2839fdd04ebb48b4b5407665fe00c003",
            "f7dc29e49f8e48b1b585cec3cfc530e4",
            "d3ca3e2e8adf4bb1a69218c330f65d2d",
            "1df4979834f94e9396e595a1c63ae4f6",
            "19685fad462c4327a5604b47ab4a60eb",
            "1ebf5f509a054dde9b608b372fcf79ad",
            "70887332fd8246cc8a136e8b769c1823",
            "5585871f613d4137a7d9f5ebe88dc099",
            "3b4acc09a5d840b982fa9ec17e4f0600",
            "c973265e6cdf449394862b66bdac6f00",
            "9e3aa59aaa8c470e93e28ae4799c3956",
            "16c85a1f10864ed3997d016c3a1d33b8",
            "a98408eff5574abbaf867396b05658d5",
            "5f16c203b5e64a76b27cd5cea1745088",
            "505c39e0dff7463c8c7aac451c6eff70",
            "5edebe72ba754757bed68855fe70ebfc",
            "5a97bcdc04444041810d98ec0faa82a8",
            "99846129dda84e859febe581ed6ac3ac",
            "b35e92a63e6b475ba3f56caf664b3a5d",
            "4e0a8ab6535949b78765b4759533cfe1",
            "3a4ef8388f1f4d48bcec1701b983ccaa",
            "ef652ec2ebe949d0852792dab44d682b",
            "ffebc5228eba44f697b5228e07cd3ccf",
            "c56dfb5671e24d6897ef6c1f91155d23",
            "779c5fb81acb4330b4763b384fd16064",
            "800f08287b1a4241be051428b1c78b30",
            "4e143d9910c348f1a5af12d706864d9c",
            "1eedf87574414c3fb35568049e04baba",
            "3b8a91f514954c2182da0eac42249131",
            "ed3326ed2e7c445cad069155e3b7cb8d",
            "903cdfd919a8476aa23662924a06a194",
            "717955b1a1774428b0ef6d9749940bfa",
            "cb8db0e6387642a4ba43dbacd5c902d9",
            "62d17ed79f3442439d55c711364c59a4",
            "27bbe92a825d40439d99a9e8fc3da761",
            "1434c622e7fb4487bc073f1f8c20916b",
            "79d36f2d69d4422696aa6ba5ef95ec58",
            "924db0ee3f2f44349b5f37188ac47701",
            "7f7bdc3bf304458199b0f57ab99149b7",
            "c92eb2f2a3ec4819bd7876f6bc05187c",
            "7cf94a2e2cbc40d6a3110d5c867b3358",
            "77546160b8834ae090a5cdf647fabe51",
            "683c6a1f18ad4696bd154b0ade98ed25",
            "ceefa336b6be461296d2aa320eeca43d",
            "c238f4d4642f463aae0bee67b5caa850",
            "9e9bc21937a24d84b907c5721bd10e06",
            "9e46bbd80bc946c4a67c265740bc3f22",
            "9014ae3efc5a409faaa730b5b9da9927",
            "659503fba3ba42c09ef1e229d615296b",
            "d306e79859f54278bd227d500ff27094"
          ]
        },
        "outputId": "f3904ac0-d798-467d-d758-4ac14c1351be"
      },
      "execution_count": null,
      "outputs": [
        {
          "output_type": "stream",
          "name": "stderr",
          "text": [
            "[nltk_data] Downloading package wordnet to /root/nltk_data...\n"
          ]
        },
        {
          "output_type": "display_data",
          "data": {
            "text/plain": [
              "config.json:   0%|          | 0.00/482 [00:00<?, ?B/s]"
            ],
            "application/vnd.jupyter.widget-view+json": {
              "version_major": 2,
              "version_minor": 0,
              "model_id": "5cae38a1322c4a929329f29d5e53dfd8"
            }
          },
          "metadata": {}
        },
        {
          "output_type": "display_data",
          "data": {
            "text/plain": [
              "vocab.json:   0%|          | 0.00/899k [00:00<?, ?B/s]"
            ],
            "application/vnd.jupyter.widget-view+json": {
              "version_major": 2,
              "version_minor": 0,
              "model_id": "9c494b5f19df46e8a464bfa047b8c38d"
            }
          },
          "metadata": {}
        },
        {
          "output_type": "display_data",
          "data": {
            "text/plain": [
              "merges.txt:   0%|          | 0.00/456k [00:00<?, ?B/s]"
            ],
            "application/vnd.jupyter.widget-view+json": {
              "version_major": 2,
              "version_minor": 0,
              "model_id": "cc999cfde7b1469f881228af2244d82c"
            }
          },
          "metadata": {}
        },
        {
          "output_type": "display_data",
          "data": {
            "text/plain": [
              "tokenizer.json:   0%|          | 0.00/1.36M [00:00<?, ?B/s]"
            ],
            "application/vnd.jupyter.widget-view+json": {
              "version_major": 2,
              "version_minor": 0,
              "model_id": "70887332fd8246cc8a136e8b769c1823"
            }
          },
          "metadata": {}
        },
        {
          "output_type": "display_data",
          "data": {
            "text/plain": [
              "model.safetensors:   0%|          | 0.00/1.42G [00:00<?, ?B/s]"
            ],
            "application/vnd.jupyter.widget-view+json": {
              "version_major": 2,
              "version_minor": 0,
              "model_id": "99846129dda84e859febe581ed6ac3ac"
            }
          },
          "metadata": {}
        },
        {
          "output_type": "stream",
          "name": "stderr",
          "text": [
            "Some weights of RobertaModel were not initialized from the model checkpoint at roberta-large and are newly initialized: ['roberta.pooler.dense.weight', 'roberta.pooler.dense.bias']\n",
            "You should probably TRAIN this model on a down-stream task to be able to use it for predictions and inference.\n"
          ]
        },
        {
          "output_type": "stream",
          "name": "stdout",
          "text": [
            "calculating scores...\n",
            "computing bert embedding.\n"
          ]
        },
        {
          "output_type": "display_data",
          "data": {
            "text/plain": [
              "  0%|          | 0/641 [00:00<?, ?it/s]"
            ],
            "application/vnd.jupyter.widget-view+json": {
              "version_major": 2,
              "version_minor": 0,
              "model_id": "3b8a91f514954c2182da0eac42249131"
            }
          },
          "metadata": {}
        },
        {
          "output_type": "stream",
          "name": "stdout",
          "text": [
            "computing greedy matching.\n"
          ]
        },
        {
          "output_type": "display_data",
          "data": {
            "text/plain": [
              "  0%|          | 0/326 [00:00<?, ?it/s]"
            ],
            "application/vnd.jupyter.widget-view+json": {
              "version_major": 2,
              "version_minor": 0,
              "model_id": "c92eb2f2a3ec4819bd7876f6bc05187c"
            }
          },
          "metadata": {}
        },
        {
          "output_type": "stream",
          "name": "stdout",
          "text": [
            "done in 140.93 seconds, 147.78 sentences/sec\n"
          ]
        }
      ]
    },
    {
      "cell_type": "code",
      "source": [
        "print(f'Bleu Score: {bleuScore * 100:.2f}')\n",
        "print(f'Meteor Score: {meteorScore * 100:.2f}')\n",
        "print(f'Bert Recall: {bertRecall * 100:.2f}')\n",
        "print(f'Bert Precision: {bertPrecision * 100:.2f}')\n",
        "print(f'Bert F1: {bertF1 * 100:.2f}')"
      ],
      "metadata": {
        "id": "D7vtYiVLb3JQ",
        "colab": {
          "base_uri": "https://localhost:8080/"
        },
        "outputId": "f5356b16-4a2d-46dc-9b44-68f0a4f6d7df"
      },
      "execution_count": null,
      "outputs": [
        {
          "output_type": "stream",
          "name": "stdout",
          "text": [
            "Bleu Score: 29.68\n",
            "Meteor Score: 38.36\n",
            "Bert Recall: 86.78\n",
            "Bert Precision: 86.46\n",
            "Bert F1: 86.61\n"
          ]
        }
      ]
    },
    {
      "cell_type": "code",
      "source": [],
      "metadata": {
        "id": "12MFYd9Utih7"
      },
      "execution_count": null,
      "outputs": []
    }
  ]
}